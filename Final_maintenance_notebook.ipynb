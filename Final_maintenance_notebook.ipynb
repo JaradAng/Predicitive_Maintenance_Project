{
 "cells": [
  {
   "cell_type": "code",
   "execution_count": 18,
   "metadata": {},
   "outputs": [],
   "source": [
    "import pandas as pd\n",
    "import numpy as np\n",
    "import proj_acquire\n",
    "import os\n",
    "import matplotlib.pyplot as plt\n",
    "import seaborn as sns\n",
    "from sklearn.model_selection import train_test_split\n",
    "import scipy.stats as stats\n",
    "from sklearn.ensemble import RandomForestClassifier, ExtraTreesClassifier\n",
    "from sklearn.metrics import classification_report\n",
    "from sklearn.metrics import confusion_matrix\n",
    "from sklearn.linear_model import LogisticRegression, LinearRegression, LassoLars, TweedieRegressor\n",
    "from sklearn.neighbors import KNeighborsClassifier\n",
    "from sklearn.preprocessing import MinMaxScaler, RobustScaler\n",
    "from sklearn.feature_selection import RFE\n",
    "from sklearn.metrics import mean_squared_error\n",
    "from imblearn.over_sampling import SMOTE\n",
    "from xgboost import XGBClassifier\n",
    "\n",
    "from sklearn.preprocessing import LabelEncoder\n",
    "from tpot import TPOTClassifier\n",
    "\n",
    "\n",
    "\n",
    "import warnings\n",
    "warnings.filterwarnings(\"ignore\")\n"
   ]
  },
  {
   "cell_type": "code",
   "execution_count": 3,
   "metadata": {},
   "outputs": [],
   "source": [
    "#Bringing in the data set\n",
    "df = proj_acquire.prep_maint()"
   ]
  },
  {
   "cell_type": "markdown",
   "metadata": {},
   "source": [
    "To prep the data I renamed all the columns to be easier to read and work with. I also renamed the target variable to machine failure.\n",
    "I encoded the type of machine to have a column for each type. This was I could use it in the model.\n",
    "There were no nulls to fill or drop.\n",
    "The data types were good to go and do not need to be changed\n",
    "I kept failure_type under one column in order to do multiclassification later in report\n"
   ]
  },
  {
   "cell_type": "code",
   "execution_count": 4,
   "metadata": {},
   "outputs": [
    {
     "data": {
      "text/html": [
       "<div>\n",
       "<style scoped>\n",
       "    .dataframe tbody tr th:only-of-type {\n",
       "        vertical-align: middle;\n",
       "    }\n",
       "\n",
       "    .dataframe tbody tr th {\n",
       "        vertical-align: top;\n",
       "    }\n",
       "\n",
       "    .dataframe thead th {\n",
       "        text-align: right;\n",
       "    }\n",
       "</style>\n",
       "<table border=\"1\" class=\"dataframe\">\n",
       "  <thead>\n",
       "    <tr style=\"text-align: right;\">\n",
       "      <th></th>\n",
       "      <th>air_temp</th>\n",
       "      <th>process_temp</th>\n",
       "      <th>rpm</th>\n",
       "      <th>torque</th>\n",
       "      <th>tool_wear</th>\n",
       "      <th>machine_failure</th>\n",
       "      <th>failure_type</th>\n",
       "      <th>H</th>\n",
       "      <th>L</th>\n",
       "      <th>M</th>\n",
       "    </tr>\n",
       "  </thead>\n",
       "  <tbody>\n",
       "    <tr>\n",
       "      <th>0</th>\n",
       "      <td>298.1</td>\n",
       "      <td>308.6</td>\n",
       "      <td>1551</td>\n",
       "      <td>42.8</td>\n",
       "      <td>0</td>\n",
       "      <td>0</td>\n",
       "      <td>No Failure</td>\n",
       "      <td>0</td>\n",
       "      <td>0</td>\n",
       "      <td>1</td>\n",
       "    </tr>\n",
       "    <tr>\n",
       "      <th>1</th>\n",
       "      <td>298.2</td>\n",
       "      <td>308.7</td>\n",
       "      <td>1408</td>\n",
       "      <td>46.3</td>\n",
       "      <td>3</td>\n",
       "      <td>0</td>\n",
       "      <td>No Failure</td>\n",
       "      <td>0</td>\n",
       "      <td>1</td>\n",
       "      <td>0</td>\n",
       "    </tr>\n",
       "    <tr>\n",
       "      <th>2</th>\n",
       "      <td>298.1</td>\n",
       "      <td>308.5</td>\n",
       "      <td>1498</td>\n",
       "      <td>49.4</td>\n",
       "      <td>5</td>\n",
       "      <td>0</td>\n",
       "      <td>No Failure</td>\n",
       "      <td>0</td>\n",
       "      <td>1</td>\n",
       "      <td>0</td>\n",
       "    </tr>\n",
       "    <tr>\n",
       "      <th>3</th>\n",
       "      <td>298.2</td>\n",
       "      <td>308.6</td>\n",
       "      <td>1433</td>\n",
       "      <td>39.5</td>\n",
       "      <td>7</td>\n",
       "      <td>0</td>\n",
       "      <td>No Failure</td>\n",
       "      <td>0</td>\n",
       "      <td>1</td>\n",
       "      <td>0</td>\n",
       "    </tr>\n",
       "    <tr>\n",
       "      <th>4</th>\n",
       "      <td>298.2</td>\n",
       "      <td>308.7</td>\n",
       "      <td>1408</td>\n",
       "      <td>40.0</td>\n",
       "      <td>9</td>\n",
       "      <td>0</td>\n",
       "      <td>No Failure</td>\n",
       "      <td>0</td>\n",
       "      <td>1</td>\n",
       "      <td>0</td>\n",
       "    </tr>\n",
       "  </tbody>\n",
       "</table>\n",
       "</div>"
      ],
      "text/plain": [
       "   air_temp  process_temp   rpm  torque  tool_wear  machine_failure  \\\n",
       "0     298.1         308.6  1551    42.8          0                0   \n",
       "1     298.2         308.7  1408    46.3          3                0   \n",
       "2     298.1         308.5  1498    49.4          5                0   \n",
       "3     298.2         308.6  1433    39.5          7                0   \n",
       "4     298.2         308.7  1408    40.0          9                0   \n",
       "\n",
       "  failure_type  H  L  M  \n",
       "0   No Failure  0  0  1  \n",
       "1   No Failure  0  1  0  \n",
       "2   No Failure  0  1  0  \n",
       "3   No Failure  0  1  0  \n",
       "4   No Failure  0  1  0  "
      ]
     },
     "execution_count": 4,
     "metadata": {},
     "output_type": "execute_result"
    }
   ],
   "source": [
    "# Checking to see if it was all brought in the right way and prepped correctly\n",
    "df.head()"
   ]
  },
  {
   "cell_type": "code",
   "execution_count": 5,
   "metadata": {},
   "outputs": [
    {
     "data": {
      "text/plain": [
       "air_temp           float64\n",
       "process_temp       float64\n",
       "rpm                  int64\n",
       "torque             float64\n",
       "tool_wear            int64\n",
       "machine_failure      int64\n",
       "failure_type        object\n",
       "H                    uint8\n",
       "L                    uint8\n",
       "M                    uint8\n",
       "dtype: object"
      ]
     },
     "execution_count": 5,
     "metadata": {},
     "output_type": "execute_result"
    }
   ],
   "source": [
    "# checking the data types\n",
    "df.dtypes"
   ]
  },
  {
   "cell_type": "markdown",
   "metadata": {},
   "source": [
    "All the data types look good to go as well. "
   ]
  },
  {
   "cell_type": "code",
   "execution_count": 6,
   "metadata": {},
   "outputs": [
    {
     "data": {
      "text/plain": [
       "air_temp           0\n",
       "process_temp       0\n",
       "rpm                0\n",
       "torque             0\n",
       "tool_wear          0\n",
       "machine_failure    0\n",
       "failure_type       0\n",
       "H                  0\n",
       "L                  0\n",
       "M                  0\n",
       "dtype: int64"
      ]
     },
     "execution_count": 6,
     "metadata": {},
     "output_type": "execute_result"
    }
   ],
   "source": [
    "# checking for nulls\n",
    "df.isnull().sum()"
   ]
  },
  {
   "cell_type": "markdown",
   "metadata": {},
   "source": [
    "No null values to be dropped to imputed as addressed earlier"
   ]
  },
  {
   "cell_type": "code",
   "execution_count": 7,
   "metadata": {},
   "outputs": [],
   "source": [
    "# spltting the data into three parts to ensure no leakage\n",
    "train, validate, test = proj_acquire.split_maint_fail_type(df)"
   ]
  },
  {
   "cell_type": "code",
   "execution_count": 8,
   "metadata": {},
   "outputs": [
    {
     "data": {
      "text/plain": [
       "((6400, 10), (1600, 10), (2000, 10))"
      ]
     },
     "execution_count": 8,
     "metadata": {},
     "output_type": "execute_result"
    }
   ],
   "source": [
    "# Check in that shape to see if it worked\n",
    "train.shape, validate.shape, test.shape"
   ]
  },
  {
   "cell_type": "markdown",
   "metadata": {},
   "source": [
    "#\n",
    "---\n",
    "## Exploration phase"
   ]
  },
  {
   "cell_type": "code",
   "execution_count": 8,
   "metadata": {},
   "outputs": [
    {
     "data": {
      "image/png": "[encoded data removed]",
      "text/plain": [
       "<Figure size 576x720 with 1 Axes>"
      ]
     },
     "metadata": {
      "needs_background": "light"
     },
     "output_type": "display_data"
    },
    {
     "data": {
      "image/png": "[encoded data removed]",
      "text/plain": [
       "<Figure size 576x720 with 1 Axes>"
      ]
     },
     "metadata": {
      "needs_background": "light"
     },
     "output_type": "display_data"
    },
    {
     "data": {
      "image/png": "[encoded data removed]",
      "text/plain": [
       "<Figure size 576x720 with 1 Axes>"
      ]
     },
     "metadata": {
      "needs_background": "light"
     },
     "output_type": "display_data"
    },
    {
     "data": {
      "image/png": "[encoded data removed]",
      "text/plain": [
       "<Figure size 576x720 with 1 Axes>"
      ]
     },
     "metadata": {
      "needs_background": "light"
     },
     "output_type": "display_data"
    },
    {
     "data": {
      "image/png": "[encoded data removed]",
      "text/plain": [
       "<Figure size 576x720 with 1 Axes>"
      ]
     },
     "metadata": {
      "needs_background": "light"
     },
     "output_type": "display_data"
    },
    {
     "data": {
      "image/png": "[encoded data removed]",
      "text/plain": [
       "<Figure size 576x720 with 1 Axes>"
      ]
     },
     "metadata": {
      "needs_background": "light"
     },
     "output_type": "display_data"
    },
    {
     "data": {
      "image/png": "[encoded data removed]",
      "text/plain": [
       "<Figure size 576x720 with 1 Axes>"
      ]
     },
     "metadata": {
      "needs_background": "light"
     },
     "output_type": "display_data"
    }
   ],
   "source": [
    "# making an interative list of graphs to compare each of the features against binary machine failure\n",
    "cols= ['process_temp', 'air_temp', 'rpm', 'torque', 'H', 'L', 'M']\n",
    "m=1\n",
    "for col in cols:\n",
    "  plt.figure(figsize=(8,10))\n",
    "  plt.subplot(3,1,m)\n",
    "  sns.histplot(data= train, x = col, hue=train.machine_failure)\n",
    "  plt.show()"
   ]
  },
  {
   "cell_type": "markdown",
   "metadata": {},
   "source": [
    "This was to vizualize all failures against the features \n",
    "* Processing temp fails the most around 310-312 degrees\n",
    "* Air temp failure is more spread out and the most range from 298 - 303\n",
    "* The bulk of failure from RPMS is in the lower range < 1500 and comes back at > 2250\n",
    "* Torque sees more failures when > 50\n",
    "* L type is most common and has most failures\n",
    "* M is second most common \n",
    "* H is least common with undetectable visual failures."
   ]
  },
  {
   "cell_type": "code",
   "execution_count": 9,
   "metadata": {},
   "outputs": [
    {
     "data": {
      "image/png": "[encoded data removed]",
      "text/plain": [
       "<Figure size 576x720 with 1 Axes>"
      ]
     },
     "metadata": {
      "needs_background": "light"
     },
     "output_type": "display_data"
    },
    {
     "data": {
      "image/png": "[encoded data removed]",
      "text/plain": [
       "<Figure size 576x720 with 1 Axes>"
      ]
     },
     "metadata": {
      "needs_background": "light"
     },
     "output_type": "display_data"
    },
    {
     "data": {
      "image/png": "[encoded data removed]",
      "text/plain": [
       "<Figure size 576x720 with 1 Axes>"
      ]
     },
     "metadata": {
      "needs_background": "light"
     },
     "output_type": "display_data"
    },
    {
     "data": {
      "image/png": "[encoded data removed]",
      "text/plain": [
       "<Figure size 576x720 with 1 Axes>"
      ]
     },
     "metadata": {
      "needs_background": "light"
     },
     "output_type": "display_data"
    },
    {
     "data": {
      "image/png": "[encoded data removed]",
      "text/plain": [
       "<Figure size 576x720 with 1 Axes>"
      ]
     },
     "metadata": {
      "needs_background": "light"
     },
     "output_type": "display_data"
    },
    {
     "data": {
      "image/png": "[encoded data removed]",
      "text/plain": [
       "<Figure size 576x720 with 1 Axes>"
      ]
     },
     "metadata": {
      "needs_background": "light"
     },
     "output_type": "display_data"
    },
    {
     "data": {
      "image/png": "[encoded data removed]",
      "text/plain": [
       "<Figure size 576x720 with 1 Axes>"
      ]
     },
     "metadata": {
      "needs_background": "light"
     },
     "output_type": "display_data"
    }
   ],
   "source": [
    "\n",
    "cols= ['process_temp', 'air_temp', 'rpm', 'torque', 'H', 'L', 'M']\n",
    "m=1\n",
    "for col in cols:\n",
    "  plt.figure(figsize=(8,10))\n",
    "  plt.subplot(3,1,m)\n",
    "  sns.histplot(data= train, x = col, hue=train.failure_type)\n",
    "  plt.show()"
   ]
  },
  {
   "cell_type": "markdown",
   "metadata": {},
   "source": [
    "The features are normally distributed\n",
    "Accounting for the different types of failures is hard to see because the data is very imbalanced and hard to read each failure type. \n",
    "Below I will focus on whether or not a machine will fail. "
   ]
  },
  {
   "cell_type": "code",
   "execution_count": 10,
   "metadata": {},
   "outputs": [
    {
     "data": {
      "text/plain": [
       "No Failure                  6178\n",
       "Heat Dissipation Failure      72\n",
       "Power Failure                 61\n",
       "Overstrain Failure            49\n",
       "Tool Wear Failure             29\n",
       "Random Failures               11\n",
       "Name: failure_type, dtype: int64"
      ]
     },
     "execution_count": 10,
     "metadata": {},
     "output_type": "execute_result"
    }
   ],
   "source": [
    "# Checking out train to see how many values of each failure I have versus non failure\n",
    "train.failure_type.value_counts()"
   ]
  },
  {
   "cell_type": "markdown",
   "metadata": {},
   "source": [
    "The data is severly imbalanced to non-failure. To combat this, I will use SMOTE to impute synthetic values on the train data to train a better model for unseen data."
   ]
  },
  {
   "cell_type": "code",
   "execution_count": 11,
   "metadata": {},
   "outputs": [
    {
     "data": {
      "text/plain": [
       "<AxesSubplot:>"
      ]
     },
     "execution_count": 11,
     "metadata": {},
     "output_type": "execute_result"
    },
    {
     "data": {
      "image/png": "[encoded data removed]",
      "text/plain": [
       "<Figure size 720x720 with 2 Axes>"
      ]
     },
     "metadata": {
      "needs_background": "light"
     },
     "output_type": "display_data"
    }
   ],
   "source": [
    "# making a correlation table using spearman becuase data is not normally distributed\n",
    "correlation_table = train.corr()\n",
    "\n",
    "# Declaring a size for the heatmap and making heatmap to see the correlations between all variables in the dataset\n",
    "plt.figure(figsize= (10,10))\n",
    "sns.heatmap(correlation_table, cmap='Blues', annot = True, mask = np.triu(correlation_table))"
   ]
  },
  {
   "cell_type": "markdown",
   "metadata": {},
   "source": [
    "checking the correlation it seems that both temperatures are highly correlated. Rpm and torque are also highly correlated. In a different explore file, I tried the models where I dropped one of the correlated variables and another where I made ratios. The models preformed worse and I came back to work on original data set. Please look at explore 2 for those experiments"
   ]
  },
  {
   "cell_type": "markdown",
   "metadata": {},
   "source": [
    "Question 1: How does RPM affect machine failure?\n",
    "\n",
    "- For this I wanted to put the rpms into bins to better showcase how it affects machine failure"
   ]
  },
  {
   "cell_type": "code",
   "execution_count": 10,
   "metadata": {},
   "outputs": [
    {
     "data": {
      "image/png": "[encoded data removed]",
      "text/plain": [
       "<Figure size 432x288 with 1 Axes>"
      ]
     },
     "metadata": {
      "needs_background": "light"
     },
     "output_type": "display_data"
    }
   ],
   "source": [
    "# Bringing in the function to bin rpm data in order to better visualize how rpm affects machine failure\n",
    "proj_acquire.rpm_bin(train)"
   ]
  },
  {
   "cell_type": "markdown",
   "metadata": {},
   "source": [
    "The chart shows that lower rpms experience the most failures by a wide margin.\n",
    "\n",
    "Ho - Rpm is independent from machine failure\n",
    "Ha - Rpm is dependent on machine failure"
   ]
  },
  {
   "cell_type": "code",
   "execution_count": 13,
   "metadata": {},
   "outputs": [
    {
     "name": "stdout",
     "output_type": "stream",
     "text": [
      "We reject the null and the variable is statistically significant\n"
     ]
    }
   ],
   "source": [
    "# Setting up an ANOVA test to determine statistical significance\n",
    "slow = train[train['rpm_bin'] == 'slow'].machine_failure\n",
    "jog = train[train['rpm_bin'] == 'medium'].machine_failure\n",
    "fast = train[train['rpm_bin'] == 'fast'].machine_failure\n",
    "# Set alpha to a 99% confidence level\n",
    "alpha = 0.01\n",
    "# Comparing mean of 3 independent samples\n",
    "t, p = stats.f_oneway(slow, jog, fast)\n",
    "if p < alpha:\n",
    "    print('We reject the null and the variable is statistically significant')\n",
    "else:\n",
    "    print('We fail to reject the null and it is not statistically significant')"
   ]
  },
  {
   "cell_type": "markdown",
   "metadata": {},
   "source": [
    "Question 2: How does toque affect machine failure?\n",
    " \n",
    "- I once again binned that data for easier vizualization"
   ]
  },
  {
   "cell_type": "code",
   "execution_count": 14,
   "metadata": {},
   "outputs": [
    {
     "data": {
      "image/png": "[encoded data removed]",
      "text/plain": [
       "<Figure size 432x288 with 1 Axes>"
      ]
     },
     "metadata": {
      "needs_background": "light"
     },
     "output_type": "display_data"
    }
   ],
   "source": [
    "# Bringing in the function to bin the toque data to better vizualize and test statistically. see proj_acquire.py for the full code\n",
    "proj_acquire.toque_bin(train)"
   ]
  },
  {
   "cell_type": "markdown",
   "metadata": {},
   "source": [
    "Torque appears to be opposite of rpm and experiences more failure on the high end of the range. Again the failure is by a large margin\n",
    "\n",
    "Ho - Machine failure is independent of torque\n",
    "Ha - Machine failure is dependent on torque"
   ]
  },
  {
   "cell_type": "code",
   "execution_count": 15,
   "metadata": {},
   "outputs": [
    {
     "name": "stdout",
     "output_type": "stream",
     "text": [
      "We reject the null and the variable is statistically significant\n"
     ]
    }
   ],
   "source": [
    "# Setting up an ANOVA test to test for statistical significance\n",
    "low = train[train['torque_bin'] == 'low'].machine_failure\n",
    "medium = train[train['torque_bin'] == 'medium'].machine_failure\n",
    "high = train[train['torque_bin'] == 'high'].machine_failure\n",
    "# Set alpha for a 99% confidence\n",
    "alpha = 0.01\n",
    "# Comparing mean of 3 independent samples against a p value\n",
    "t, p = stats.f_oneway(low, medium, high)\n",
    "if p < alpha:\n",
    "    print('We reject the null and the variable is statistically significant')\n",
    "else:\n",
    "    print('We fail to reject the null and it is not statistically significant')"
   ]
  },
  {
   "cell_type": "markdown",
   "metadata": {},
   "source": [
    "Question 3: How does processing temperatures affect machine failures?\n",
    "\n",
    "- Data is binned for easy viewing"
   ]
  },
  {
   "cell_type": "code",
   "execution_count": 17,
   "metadata": {},
   "outputs": [
    {
     "data": {
      "image/png": "[encoded data removed]",
      "text/plain": [
       "<Figure size 432x288 with 1 Axes>"
      ]
     },
     "metadata": {
      "needs_background": "light"
     },
     "output_type": "display_data"
    }
   ],
   "source": [
    "# Bringing in the function to bin the temperatures to graph and compare against overall failure\n",
    "proj_acquire.process_bin(train)"
   ]
  },
  {
   "cell_type": "markdown",
   "metadata": {},
   "source": [
    "There is a difference in failure rates amongst the bins. This has a wider band of failure with only the lower temp range no experiencing large number of failures\n",
    "\n",
    "Ho - Machine failure is indepenent of process temps\n",
    "Ha - Machine failure is dependent on process temps"
   ]
  },
  {
   "cell_type": "code",
   "execution_count": 18,
   "metadata": {},
   "outputs": [
    {
     "name": "stdout",
     "output_type": "stream",
     "text": [
      "We reject the null and the variable is statistically significant\n"
     ]
    }
   ],
   "source": [
    "# Setting up the variables for the annova test\n",
    "cold = train[train['process_temp_bin'] == 'cool'].machine_failure\n",
    "warm = train[train['process_temp_bin'] == 'mild'].machine_failure\n",
    "hotter = train[train['process_temp_bin'] == 'hot'].machine_failure\n",
    "# Set alpha with confidence of 99%\n",
    "alpha = 0.01\n",
    "# Comparing mean of 3 independent samples\n",
    "t, p = stats.f_oneway(cold, warm, hotter)\n",
    "if p < alpha:\n",
    "    print('We reject the null and the variable is statistically significant')\n",
    "else:\n",
    "    print('We fail to reject the null and it is not statistically significant')"
   ]
  },
  {
   "cell_type": "markdown",
   "metadata": {},
   "source": [
    "Question 4: Does tool wear affect machine failure?\n",
    "\n",
    "- binned for easy viewing"
   ]
  },
  {
   "cell_type": "code",
   "execution_count": 20,
   "metadata": {},
   "outputs": [
    {
     "data": {
      "image/png": "[encoded data removed]",
      "text/plain": [
       "<Figure size 432x288 with 1 Axes>"
      ]
     },
     "metadata": {
      "needs_background": "light"
     },
     "output_type": "display_data"
    }
   ],
   "source": [
    "#Bringing in the function to bin the tool wear data to better graph against machine failure\n",
    "proj_acquire.tool_bin(train)"
   ]
  },
  {
   "cell_type": "markdown",
   "metadata": {},
   "source": [
    "The older tools with more wear show much higher failure rates than those not as old. \n",
    "\n",
    "Ho - Machine failure is independent of tool wear\n",
    "Ha- Machine failure is dependent of tool wear"
   ]
  },
  {
   "cell_type": "code",
   "execution_count": 19,
   "metadata": {},
   "outputs": [
    {
     "name": "stdout",
     "output_type": "stream",
     "text": [
      "We reject the null and the variable is statistically significant\n"
     ]
    }
   ],
   "source": [
    "# Setting up the variables to preform an Annova test\n",
    "new = train[train['tool_wear_bin'] == 'new'].machine_failure\n",
    "med = train[train['tool_wear_bin'] == 'med'].machine_failure\n",
    "old = train[train['tool_wear_bin'] == 'old'].machine_failure\n",
    "# Set alpha to 99%\n",
    "alpha = 0.01\n",
    "# Comparing mean of 3 independent samples\n",
    "t, p = stats.f_oneway(new, med, old)\n",
    "if p < alpha:\n",
    "    print('We reject the null and the variable is statistically significant')\n",
    "else:\n",
    "    print('We fail to reject the null and it is not statistically significant')"
   ]
  },
  {
   "cell_type": "markdown",
   "metadata": {},
   "source": [
    "Question 5: Does air temperature affect machine failure?\n",
    "\n",
    "- binned for easy viewing"
   ]
  },
  {
   "cell_type": "code",
   "execution_count": 21,
   "metadata": {},
   "outputs": [
    {
     "data": {
      "image/png": "[encoded data removed]",
      "text/plain": [
       "<Figure size 432x288 with 1 Axes>"
      ]
     },
     "metadata": {
      "needs_background": "light"
     },
     "output_type": "display_data"
    }
   ],
   "source": [
    "# Bringing in the function to bin the air temps to better graph against machine failure\n",
    "proj_acquire.air_bin(train)"
   ]
  },
  {
   "cell_type": "markdown",
   "metadata": {},
   "source": [
    "Machine failures appear to happen in the mild to hot temperature zones. Cool temps has less affect on failures\n",
    "\n",
    "Ho - Machine failure is independent on air temps\n",
    "Ha - Machine failure is dependent on air temps"
   ]
  },
  {
   "cell_type": "code",
   "execution_count": 22,
   "metadata": {},
   "outputs": [
    {
     "name": "stdout",
     "output_type": "stream",
     "text": [
      "We reject the null and the variable is statistically significant\n"
     ]
    }
   ],
   "source": [
    "# Setting up the variables for the Annova test\n",
    "cool = train[train['air_temp_bin'] == 'cool'].machine_failure\n",
    "mild = train[train['air_temp_bin'] == 'mild'].machine_failure\n",
    "hot = train[train['air_temp_bin'] == 'hot'].machine_failure\n",
    "# Set alpha to be 99% confidence\n",
    "alpha = 0.01\n",
    "# Comparing mean of 3 independent samples\n",
    "t, p = stats.f_oneway(cool, mild, hot)\n",
    "if p < alpha:\n",
    "    print('We reject the null and the variable is statistically significant')\n",
    "else:\n",
    "    print('We fail to reject the null and it is not statistically significant')"
   ]
  },
  {
   "cell_type": "code",
   "execution_count": 22,
   "metadata": {},
   "outputs": [],
   "source": [
    "# I will not use the bins as in the previous explore notebooks, RFE did not select any of the bins\n",
    "train = proj_acquire.drop_bins(train)"
   ]
  },
  {
   "cell_type": "code",
   "execution_count": 23,
   "metadata": {},
   "outputs": [
    {
     "data": {
      "text/html": [
       "<div>\n",
       "<style scoped>\n",
       "    .dataframe tbody tr th:only-of-type {\n",
       "        vertical-align: middle;\n",
       "    }\n",
       "\n",
       "    .dataframe tbody tr th {\n",
       "        vertical-align: top;\n",
       "    }\n",
       "\n",
       "    .dataframe thead th {\n",
       "        text-align: right;\n",
       "    }\n",
       "</style>\n",
       "<table border=\"1\" class=\"dataframe\">\n",
       "  <thead>\n",
       "    <tr style=\"text-align: right;\">\n",
       "      <th></th>\n",
       "      <th>air_temp</th>\n",
       "      <th>process_temp</th>\n",
       "      <th>rpm</th>\n",
       "      <th>torque</th>\n",
       "      <th>tool_wear</th>\n",
       "      <th>machine_failure</th>\n",
       "      <th>failure_type</th>\n",
       "      <th>H</th>\n",
       "      <th>L</th>\n",
       "      <th>M</th>\n",
       "    </tr>\n",
       "  </thead>\n",
       "  <tbody>\n",
       "    <tr>\n",
       "      <th>5884</th>\n",
       "      <td>301.3</td>\n",
       "      <td>311.1</td>\n",
       "      <td>1438</td>\n",
       "      <td>43.0</td>\n",
       "      <td>137</td>\n",
       "      <td>0</td>\n",
       "      <td>No Failure</td>\n",
       "      <td>0</td>\n",
       "      <td>0</td>\n",
       "      <td>1</td>\n",
       "    </tr>\n",
       "    <tr>\n",
       "      <th>6928</th>\n",
       "      <td>301.1</td>\n",
       "      <td>311.7</td>\n",
       "      <td>1816</td>\n",
       "      <td>24.5</td>\n",
       "      <td>7</td>\n",
       "      <td>0</td>\n",
       "      <td>No Failure</td>\n",
       "      <td>0</td>\n",
       "      <td>1</td>\n",
       "      <td>0</td>\n",
       "    </tr>\n",
       "    <tr>\n",
       "      <th>4514</th>\n",
       "      <td>302.4</td>\n",
       "      <td>310.3</td>\n",
       "      <td>1479</td>\n",
       "      <td>36.2</td>\n",
       "      <td>115</td>\n",
       "      <td>0</td>\n",
       "      <td>No Failure</td>\n",
       "      <td>0</td>\n",
       "      <td>1</td>\n",
       "      <td>0</td>\n",
       "    </tr>\n",
       "    <tr>\n",
       "      <th>9532</th>\n",
       "      <td>299.2</td>\n",
       "      <td>310.5</td>\n",
       "      <td>1384</td>\n",
       "      <td>48.7</td>\n",
       "      <td>93</td>\n",
       "      <td>0</td>\n",
       "      <td>No Failure</td>\n",
       "      <td>0</td>\n",
       "      <td>1</td>\n",
       "      <td>0</td>\n",
       "    </tr>\n",
       "    <tr>\n",
       "      <th>6607</th>\n",
       "      <td>301.5</td>\n",
       "      <td>310.5</td>\n",
       "      <td>1556</td>\n",
       "      <td>39.1</td>\n",
       "      <td>48</td>\n",
       "      <td>0</td>\n",
       "      <td>No Failure</td>\n",
       "      <td>0</td>\n",
       "      <td>1</td>\n",
       "      <td>0</td>\n",
       "    </tr>\n",
       "  </tbody>\n",
       "</table>\n",
       "</div>"
      ],
      "text/plain": [
       "      air_temp  process_temp   rpm  torque  tool_wear  machine_failure  \\\n",
       "5884     301.3         311.1  1438    43.0        137                0   \n",
       "6928     301.1         311.7  1816    24.5          7                0   \n",
       "4514     302.4         310.3  1479    36.2        115                0   \n",
       "9532     299.2         310.5  1384    48.7         93                0   \n",
       "6607     301.5         310.5  1556    39.1         48                0   \n",
       "\n",
       "     failure_type  H  L  M  \n",
       "5884   No Failure  0  0  1  \n",
       "6928   No Failure  0  1  0  \n",
       "4514   No Failure  0  1  0  \n",
       "9532   No Failure  0  1  0  \n",
       "6607   No Failure  0  1  0  "
      ]
     },
     "execution_count": 23,
     "metadata": {},
     "output_type": "execute_result"
    }
   ],
   "source": [
    "# checking to see if bins dropped \n",
    "train.head()"
   ]
  },
  {
   "cell_type": "markdown",
   "metadata": {},
   "source": [
    "## Exploration Summary\n",
    "- Each of the variables explored show statistical significance. \n",
    "- Air and process temperatures show the most variety within overall failures. \n",
    "- Rpm shows failure in the low range of values\n",
    "- Tool wear and Torque show failure in the higher ranges compared to rpm.\n",
    "- The multicolinearity is ok becuase of the use of classification models. I explore handing multicolinearity in different explore notebooks\n",
    "- The bins were dropped as I explored those as well in different notebook and selected RFE did not choose a single bin.\n",
    "- I used anova tests for each of the bins becuase there were three bins each\n",
    "---\n",
    "## Modeling phase inwhich the first model will be an overal predictor of if a machine will fail or not fail. \n",
    "- I will be using recall score to determine the how accurately the model find true positives or those that failed and were predicted to fail\n",
    "- The first phase to determine the binary outcome of whether the machine will fail or not fail\n",
    "- The second model will determine the type of failure the machine occured. "
   ]
  },
  {
   "cell_type": "code",
   "execution_count": 24,
   "metadata": {},
   "outputs": [
    {
     "data": {
      "text/plain": [
       "0.9665625"
      ]
     },
     "execution_count": 24,
     "metadata": {},
     "output_type": "execute_result"
    }
   ],
   "source": [
    "# Setting the baseline\n",
    "baseline = 1 - train.machine_failure.mean()\n",
    "baseline"
   ]
  },
  {
   "cell_type": "markdown",
   "metadata": {},
   "source": [
    "Although I brought in baseline, I will not be using it to assess my models preformance. The baseline does not have a recall score or the true positives that I am looking to maximize. "
   ]
  },
  {
   "cell_type": "code",
   "execution_count": 9,
   "metadata": {},
   "outputs": [],
   "source": [
    "# Splitting the x and y variables for the model for all three subsets\n",
    "x_train = train.drop(columns = ['machine_failure', 'failure_type'])\n",
    "x_validate = validate.drop(columns = ['machine_failure', 'failure_type'])\n",
    "x_test = test.drop(columns = ['machine_failure', 'failure_type'])\n",
    "\n",
    "y_train = train['machine_failure']\n",
    "y_validate = validate['machine_failure']\n",
    "y_test = test['machine_failure']"
   ]
  },
  {
   "cell_type": "markdown",
   "metadata": {},
   "source": [
    "Because the data is so imbalanced I am using SMOTE to help generate more data and oversample to help models preform better. This increased the size of my training data from 6400 to 12370. Offering the model more data to train on."
   ]
  },
  {
   "cell_type": "code",
   "execution_count": 10,
   "metadata": {},
   "outputs": [],
   "source": [
    "# Bringing in and assigning smote\n",
    "sm = SMOTE(random_state=42)\n",
    "x_res, y_res = sm.fit_resample(x_train, y_train)\n"
   ]
  },
  {
   "cell_type": "code",
   "execution_count": 11,
   "metadata": {},
   "outputs": [
    {
     "data": {
      "text/plain": [
       "((6400, 8), (12372, 8))"
      ]
     },
     "execution_count": 11,
     "metadata": {},
     "output_type": "execute_result"
    }
   ],
   "source": [
    "# checking the before and after shapes\n",
    "x_train.shape, x_res.shape"
   ]
  },
  {
   "cell_type": "code",
   "execution_count": 28,
   "metadata": {},
   "outputs": [
    {
     "name": "stdout",
     "output_type": "stream",
     "text": [
      "              precision    recall  f1-score   support\n",
      "\n",
      "           0       0.96      0.87      0.91      6186\n",
      "           1       0.88      0.96      0.92      6186\n",
      "\n",
      "    accuracy                           0.92     12372\n",
      "   macro avg       0.92      0.92      0.92     12372\n",
      "weighted avg       0.92      0.92      0.92     12372\n",
      "\n",
      "              precision    recall  f1-score   support\n",
      "\n",
      "           0       0.99      0.86      0.92      1542\n",
      "           1       0.18      0.81      0.29        58\n",
      "\n",
      "    accuracy                           0.86      1600\n",
      "   macro avg       0.58      0.83      0.61      1600\n",
      "weighted avg       0.96      0.86      0.90      1600\n",
      "\n"
     ]
    }
   ],
   "source": [
    "# Bringing in and assigning the model to see the classification reports\n",
    "proj_acquire.decision_tree(x_res, y_res, x_validate, y_validate)"
   ]
  },
  {
   "cell_type": "markdown",
   "metadata": {},
   "source": [
    "The top is the train report and the bottom is validate's report\n",
    "The modeled did better on the train due. Decision tree had an 81% recall rate which means guessed actual failures correctly and an overall accuracy of 86%."
   ]
  },
  {
   "cell_type": "code",
   "execution_count": 29,
   "metadata": {},
   "outputs": [
    {
     "name": "stdout",
     "output_type": "stream",
     "text": [
      "              precision    recall  f1-score   support\n",
      "\n",
      "           0       0.92      0.91      0.91      6186\n",
      "           1       0.91      0.92      0.91      6186\n",
      "\n",
      "    accuracy                           0.91     12372\n",
      "   macro avg       0.91      0.91      0.91     12372\n",
      "weighted avg       0.91      0.91      0.91     12372\n",
      "\n",
      "              precision    recall  f1-score   support\n",
      "\n",
      "           0       0.99      0.91      0.95      1542\n",
      "           1       0.23      0.76      0.36        58\n",
      "\n",
      "    accuracy                           0.90      1600\n",
      "   macro avg       0.61      0.83      0.65      1600\n",
      "weighted avg       0.96      0.90      0.93      1600\n",
      "\n"
     ]
    }
   ],
   "source": [
    "# Bringing in and assigning the model to see the classification reports\n",
    "proj_acquire.random_forest(x_res, y_res, x_validate, y_validate)"
   ]
  },
  {
   "cell_type": "markdown",
   "metadata": {},
   "source": [
    "The top is the train report and the bottom is validate's report\n",
    "Random Forest had a good accuracy beating baseline, but the recall rate was lower than that of regular decision trees. I will not move forward with random forest"
   ]
  },
  {
   "cell_type": "code",
   "execution_count": 30,
   "metadata": {},
   "outputs": [
    {
     "name": "stdout",
     "output_type": "stream",
     "text": [
      "              precision    recall  f1-score   support\n",
      "\n",
      "           0       0.98      1.00      0.99      6186\n",
      "           1       1.00      0.98      0.99      6186\n",
      "\n",
      "    accuracy                           0.99     12372\n",
      "   macro avg       0.99      0.99      0.99     12372\n",
      "weighted avg       0.99      0.99      0.99     12372\n",
      "\n",
      "              precision    recall  f1-score   support\n",
      "\n",
      "           0       0.98      0.94      0.96      1542\n",
      "           1       0.23      0.47      0.31        58\n",
      "\n",
      "    accuracy                           0.92      1600\n",
      "   macro avg       0.60      0.70      0.63      1600\n",
      "weighted avg       0.95      0.92      0.94      1600\n",
      "\n"
     ]
    }
   ],
   "source": [
    "# Bringing in and assigning the model to see the classification reports\n",
    "proj_acquire.k_neighbors(x_res, y_res, x_validate, y_validate)"
   ]
  },
  {
   "cell_type": "markdown",
   "metadata": {},
   "source": [
    "The top is the train report and the bottom is validate's report\n",
    "K neighbors performed well in accuracy but the recall rate was terrible. Almost half of what the decisions trees rate was. I will not be moving forward with k neighbors. "
   ]
  },
  {
   "cell_type": "code",
   "execution_count": 31,
   "metadata": {},
   "outputs": [
    {
     "name": "stdout",
     "output_type": "stream",
     "text": [
      "              precision    recall  f1-score   support\n",
      "\n",
      "           0       0.87      0.90      0.88      6186\n",
      "           1       0.90      0.86      0.88      6186\n",
      "\n",
      "    accuracy                           0.88     12372\n",
      "   macro avg       0.88      0.88      0.88     12372\n",
      "weighted avg       0.88      0.88      0.88     12372\n",
      "\n",
      "              precision    recall  f1-score   support\n",
      "\n",
      "           0       0.99      0.90      0.94      1542\n",
      "           1       0.20      0.67      0.30        58\n",
      "\n",
      "    accuracy                           0.89      1600\n",
      "   macro avg       0.59      0.78      0.62      1600\n",
      "weighted avg       0.96      0.89      0.92      1600\n",
      "\n"
     ]
    }
   ],
   "source": [
    "proj_acquire.svm_model(x_res, y_res, x_validate, y_validate)"
   ]
  },
  {
   "cell_type": "markdown",
   "metadata": {},
   "source": [
    "The top is the train report and the bottom is validate's report\n",
    "\n",
    "The SVM model did not do terrible on the accuracy but with a 67% recall rate, I will not be moving forward with the SVM model. "
   ]
  },
  {
   "cell_type": "code",
   "execution_count": 32,
   "metadata": {},
   "outputs": [
    {
     "name": "stdout",
     "output_type": "stream",
     "text": [
      "              precision    recall  f1-score   support\n",
      "\n",
      "           0       1.00      1.00      1.00      6186\n",
      "           1       1.00      1.00      1.00      6186\n",
      "\n",
      "    accuracy                           1.00     12372\n",
      "   macro avg       1.00      1.00      1.00     12372\n",
      "weighted avg       1.00      1.00      1.00     12372\n",
      "\n",
      "              precision    recall  f1-score   support\n",
      "\n",
      "           0       0.99      0.98      0.99      1542\n",
      "           1       0.60      0.76      0.67        58\n",
      "\n",
      "    accuracy                           0.97      1600\n",
      "   macro avg       0.80      0.87      0.83      1600\n",
      "weighted avg       0.98      0.97      0.97      1600\n",
      "\n"
     ]
    }
   ],
   "source": [
    "proj_acquire.xg_model(x_res, y_res, x_validate, y_validate)"
   ]
  },
  {
   "cell_type": "markdown",
   "metadata": {},
   "source": [
    "The top is the train report and the bottom is validate's report\n",
    "Great accuracy on XGBoost classifier but the recall was poor. For that reason, I will not be moving forward with XGboost"
   ]
  },
  {
   "cell_type": "markdown",
   "metadata": {},
   "source": [
    "#\n",
    "---\n",
    "## Multiclassification model"
   ]
  },
  {
   "cell_type": "code",
   "execution_count": 12,
   "metadata": {},
   "outputs": [],
   "source": [
    "# Splitting the x and y variables for the model for all three subsets\n",
    "x_train2 = train.drop(columns = ['machine_failure', 'failure_type'])\n",
    "x_validate2 = validate.drop(columns = ['machine_failure', 'failure_type'])\n",
    "x_test2 = test.drop(columns = ['machine_failure', 'failure_type'])\n",
    "\n",
    "y_train2 = train['failure_type']\n",
    "y_validate2 = validate['failure_type']\n",
    "y_test2 = test['failure_type']"
   ]
  },
  {
   "cell_type": "code",
   "execution_count": 13,
   "metadata": {},
   "outputs": [],
   "source": [
    "# useing \n",
    "sm = SMOTE(random_state=42)\n",
    "x_res2, y_res2 = sm.fit_resample(x_train2, y_train2)"
   ]
  },
  {
   "cell_type": "code",
   "execution_count": 35,
   "metadata": {},
   "outputs": [
    {
     "name": "stdout",
     "output_type": "stream",
     "text": [
      "                          precision    recall  f1-score   support\n",
      "\n",
      "Heat Dissipation Failure       0.84      0.93      0.88      6178\n",
      "              No Failure       0.94      0.05      0.10      6178\n",
      "      Overstrain Failure       0.89      0.94      0.92      6178\n",
      "           Power Failure       0.96      0.92      0.94      6178\n",
      "         Random Failures       0.54      0.98      0.70      6178\n",
      "       Tool Wear Failure       0.91      0.94      0.93      6178\n",
      "\n",
      "                accuracy                           0.79     37068\n",
      "               macro avg       0.85      0.79      0.74     37068\n",
      "            weighted avg       0.85      0.79      0.74     37068\n",
      "\n",
      "                          precision    recall  f1-score   support\n",
      "\n",
      "Heat Dissipation Failure       0.10      0.83      0.17        18\n",
      "              No Failure       0.99      0.05      0.09      1544\n",
      "      Overstrain Failure       0.28      0.92      0.43        13\n",
      "           Power Failure       0.31      0.73      0.44        15\n",
      "         Random Failures       0.00      1.00      0.00         3\n",
      "       Tool Wear Failure       0.07      0.86      0.12         7\n",
      "\n",
      "                accuracy                           0.07      1600\n",
      "               macro avg       0.29      0.73      0.21      1600\n",
      "            weighted avg       0.96      0.07      0.10      1600\n",
      "\n"
     ]
    }
   ],
   "source": [
    "proj_acquire.decision_tree(x_res2, y_res2, x_validate2, y_validate2)"
   ]
  },
  {
   "cell_type": "markdown",
   "metadata": {},
   "source": [
    "The top is the train report and the bottom is validate's report\n",
    "The precision on validate is impressive at 99% on the no failures which is true negatives. It preforms well in recall for all types of failures with the worst being 73% for power failures, but the best 100% for random failures. Overall recall score of 73%"
   ]
  },
  {
   "cell_type": "code",
   "execution_count": 36,
   "metadata": {},
   "outputs": [
    {
     "name": "stdout",
     "output_type": "stream",
     "text": [
      "                          precision    recall  f1-score   support\n",
      "\n",
      "Heat Dissipation Failure       0.80      0.96      0.87      6178\n",
      "              No Failure       0.95      0.66      0.78      6178\n",
      "      Overstrain Failure       0.89      0.96      0.92      6178\n",
      "           Power Failure       0.96      0.92      0.94      6178\n",
      "         Random Failures       0.77      0.78      0.78      6178\n",
      "       Tool Wear Failure       0.91      0.97      0.94      6178\n",
      "\n",
      "                accuracy                           0.87     37068\n",
      "               macro avg       0.88      0.87      0.87     37068\n",
      "            weighted avg       0.88      0.87      0.87     37068\n",
      "\n",
      "                          precision    recall  f1-score   support\n",
      "\n",
      "Heat Dissipation Failure       0.20      0.78      0.31        18\n",
      "              No Failure       1.00      0.66      0.79      1544\n",
      "      Overstrain Failure       0.34      1.00      0.51        13\n",
      "           Power Failure       0.22      0.73      0.34        15\n",
      "         Random Failures       0.01      0.67      0.01         3\n",
      "       Tool Wear Failure       0.06      0.86      0.12         7\n",
      "\n",
      "                accuracy                           0.66      1600\n",
      "               macro avg       0.30      0.78      0.35      1600\n",
      "            weighted avg       0.97      0.66      0.78      1600\n",
      "\n"
     ]
    }
   ],
   "source": [
    "proj_acquire.random_forest(x_res2, y_res2, x_validate2, y_validate2)"
   ]
  },
  {
   "cell_type": "markdown",
   "metadata": {},
   "source": [
    "The top is the train report and the bottom is validate's report\n",
    "No failure precision was 100% however the recalls did not preform as well for the recalls rates as the decision tree did. "
   ]
  },
  {
   "cell_type": "code",
   "execution_count": 37,
   "metadata": {},
   "outputs": [
    {
     "name": "stdout",
     "output_type": "stream",
     "text": [
      "                          precision    recall  f1-score   support\n",
      "\n",
      "Heat Dissipation Failure       0.96      1.00      0.98      6178\n",
      "              No Failure       0.99      0.96      0.98      6178\n",
      "      Overstrain Failure       1.00      1.00      1.00      6178\n",
      "           Power Failure       1.00      1.00      1.00      6178\n",
      "         Random Failures       1.00      1.00      1.00      6178\n",
      "       Tool Wear Failure       1.00      1.00      1.00      6178\n",
      "\n",
      "                accuracy                           0.99     37068\n",
      "               macro avg       0.99      0.99      0.99     37068\n",
      "            weighted avg       0.99      0.99      0.99     37068\n",
      "\n",
      "                          precision    recall  f1-score   support\n",
      "\n",
      "Heat Dissipation Failure       0.09      0.56      0.16        18\n",
      "              No Failure       0.99      0.81      0.89      1544\n",
      "      Overstrain Failure       0.45      0.69      0.55        13\n",
      "           Power Failure       0.33      0.60      0.43        15\n",
      "         Random Failures       0.00      0.00      0.00         3\n",
      "       Tool Wear Failure       0.10      0.71      0.18         7\n",
      "\n",
      "                accuracy                           0.81      1600\n",
      "               macro avg       0.33      0.56      0.37      1600\n",
      "            weighted avg       0.96      0.81      0.87      1600\n",
      "\n"
     ]
    }
   ],
   "source": [
    "proj_acquire.k_neighbors(x_res2, y_res2, x_validate2, y_validate2)"
   ]
  },
  {
   "cell_type": "markdown",
   "metadata": {},
   "source": [
    "The top is the train report and the bottom is validate's report\n",
    "The results are similar to random forest, except with even worse recall rates. This might be improved if I were to scale the data. If time permits, I will try a scaled version to see how it performs. "
   ]
  },
  {
   "cell_type": "code",
   "execution_count": 14,
   "metadata": {},
   "outputs": [],
   "source": [
    "# Encoding the type of failure to pass thru XGBoost\n",
    "le = LabelEncoder()\n",
    "y_res2 = le.fit_transform(y_res2)\n",
    "y_validate2 = le.fit_transform(y_validate2)"
   ]
  },
  {
   "cell_type": "code",
   "execution_count": 39,
   "metadata": {},
   "outputs": [],
   "source": [
    "# proj_acquire.svm_model(x_res2, y_res2, x_validate2, y_validate2)"
   ]
  },
  {
   "cell_type": "markdown",
   "metadata": {},
   "source": [
    "The SVM model did not perforom on the multiclassification part. It will not be included"
   ]
  },
  {
   "cell_type": "code",
   "execution_count": 40,
   "metadata": {},
   "outputs": [
    {
     "name": "stdout",
     "output_type": "stream",
     "text": [
      "              precision    recall  f1-score   support\n",
      "\n",
      "           0       1.00      1.00      1.00      6178\n",
      "           1       1.00      1.00      1.00      6178\n",
      "           2       1.00      1.00      1.00      6178\n",
      "           3       1.00      1.00      1.00      6178\n",
      "           4       1.00      1.00      1.00      6178\n",
      "           5       1.00      1.00      1.00      6178\n",
      "\n",
      "    accuracy                           1.00     37068\n",
      "   macro avg       1.00      1.00      1.00     37068\n",
      "weighted avg       1.00      1.00      1.00     37068\n",
      "\n",
      "              precision    recall  f1-score   support\n",
      "\n",
      "           0       0.90      1.00      0.95        18\n",
      "           1       0.99      0.98      0.99      1544\n",
      "           2       0.71      0.92      0.80        13\n",
      "           3       0.74      0.93      0.82        15\n",
      "           4       0.00      0.00      0.00         3\n",
      "           5       0.07      0.14      0.10         7\n",
      "\n",
      "    accuracy                           0.97      1600\n",
      "   macro avg       0.57      0.66      0.61      1600\n",
      "weighted avg       0.98      0.97      0.98      1600\n",
      "\n"
     ]
    }
   ],
   "source": [
    "proj_acquire.xg_model(x_res2, y_res2, x_validate2, y_validate2)"
   ]
  },
  {
   "cell_type": "markdown",
   "metadata": {},
   "source": [
    "The top is the train report and the bottom is validate's report\n",
    "The metrics look good for xgboost. I missed all the random failues but is only that only accounts for 3 observations. The overall rate including the missed random failures is 66%"
   ]
  },
  {
   "cell_type": "markdown",
   "metadata": {},
   "source": []
  },
  {
   "cell_type": "markdown",
   "metadata": {},
   "source": [
    "The top two performing models for both the multiclassification and regular classification were Decision Tree and XGBoost Classifier. The decision tree performed slight better in over recall with a 73% compared to XGBoosts 66%. However XG has a 97% accuracy compared to just 7% of decisions tree, due to the extreme difference in accuracy I will be going with XGBoost for the test. "
   ]
  },
  {
   "cell_type": "markdown",
   "metadata": {},
   "source": [
    "#\n",
    "---\n",
    "\n",
    "### Trying out Tpot to create ml pipepline"
   ]
  },
  {
   "cell_type": "code",
   "execution_count": 15,
   "metadata": {},
   "outputs": [
    {
     "data": {
      "application/vnd.jupyter.widget-view+json": {
       "model_id": "8c56323cad8b4d3b8ada2edd082a1e0c",
       "version_major": 2,
       "version_minor": 0
      },
      "text/plain": [
       "Optimization Progress:   0%|          | 0/600 [00:00<?, ?pipeline/s]"
      ]
     },
     "metadata": {},
     "output_type": "display_data"
    },
    {
     "name": "stdout",
     "output_type": "stream",
     "text": [
      "\n",
      "Generation 1 - Current best internal CV score: 0.9947663993048614\n",
      "\n",
      "Generation 2 - Current best internal CV score: 0.9947663993048614\n",
      "\n",
      "Generation 3 - Current best internal CV score: 0.9950631352099061\n",
      "\n",
      "Generation 4 - Current best internal CV score: 0.9967087725756534\n",
      "\n",
      "Generation 5 - Current best internal CV score: 0.9967087725756534\n",
      "\n",
      "Best pipeline: MLPClassifier(ExtraTreesClassifier(StandardScaler(input_matrix), bootstrap=False, criterion=gini, max_features=0.4, min_samples_leaf=5, min_samples_split=9, n_estimators=100), alpha=0.0001, learning_rate_init=0.01)\n"
     ]
    },
    {
     "data": {
      "text/html": [
       "<style>#sk-container-id-1 {color: black;background-color: white;}#sk-container-id-1 pre{padding: 0;}#sk-container-id-1 div.sk-toggleable {background-color: white;}#sk-container-id-1 label.sk-toggleable__label {cursor: pointer;display: block;width: 100%;margin-bottom: 0;padding: 0.3em;box-sizing: border-box;text-align: center;}#sk-container-id-1 label.sk-toggleable__label-arrow:before {content: \"▸\";float: left;margin-right: 0.25em;color: #696969;}#sk-container-id-1 label.sk-toggleable__label-arrow:hover:before {color: black;}#sk-container-id-1 div.sk-estimator:hover label.sk-toggleable__label-arrow:before {color: black;}#sk-container-id-1 div.sk-toggleable__content {max-height: 0;max-width: 0;overflow: hidden;text-align: left;background-color: #f0f8ff;}#sk-container-id-1 div.sk-toggleable__content pre {margin: 0.2em;color: black;border-radius: 0.25em;background-color: #f0f8ff;}#sk-container-id-1 input.sk-toggleable__control:checked~div.sk-toggleable__content {max-height: 200px;max-width: 100%;overflow: auto;}#sk-container-id-1 input.sk-toggleable__control:checked~label.sk-toggleable__label-arrow:before {content: \"▾\";}#sk-container-id-1 div.sk-estimator input.sk-toggleable__control:checked~label.sk-toggleable__label {background-color: #d4ebff;}#sk-container-id-1 div.sk-label input.sk-toggleable__control:checked~label.sk-toggleable__label {background-color: #d4ebff;}#sk-container-id-1 input.sk-hidden--visually {border: 0;clip: rect(1px 1px 1px 1px);clip: rect(1px, 1px, 1px, 1px);height: 1px;margin: -1px;overflow: hidden;padding: 0;position: absolute;width: 1px;}#sk-container-id-1 div.sk-estimator {font-family: monospace;background-color: #f0f8ff;border: 1px dotted black;border-radius: 0.25em;box-sizing: border-box;margin-bottom: 0.5em;}#sk-container-id-1 div.sk-estimator:hover {background-color: #d4ebff;}#sk-container-id-1 div.sk-parallel-item::after {content: \"\";width: 100%;border-bottom: 1px solid gray;flex-grow: 1;}#sk-container-id-1 div.sk-label:hover label.sk-toggleable__label {background-color: #d4ebff;}#sk-container-id-1 div.sk-serial::before {content: \"\";position: absolute;border-left: 1px solid gray;box-sizing: border-box;top: 0;bottom: 0;left: 50%;z-index: 0;}#sk-container-id-1 div.sk-serial {display: flex;flex-direction: column;align-items: center;background-color: white;padding-right: 0.2em;padding-left: 0.2em;position: relative;}#sk-container-id-1 div.sk-item {position: relative;z-index: 1;}#sk-container-id-1 div.sk-parallel {display: flex;align-items: stretch;justify-content: center;background-color: white;position: relative;}#sk-container-id-1 div.sk-item::before, #sk-container-id-1 div.sk-parallel-item::before {content: \"\";position: absolute;border-left: 1px solid gray;box-sizing: border-box;top: 0;bottom: 0;left: 50%;z-index: -1;}#sk-container-id-1 div.sk-parallel-item {display: flex;flex-direction: column;z-index: 1;position: relative;background-color: white;}#sk-container-id-1 div.sk-parallel-item:first-child::after {align-self: flex-end;width: 50%;}#sk-container-id-1 div.sk-parallel-item:last-child::after {align-self: flex-start;width: 50%;}#sk-container-id-1 div.sk-parallel-item:only-child::after {width: 0;}#sk-container-id-1 div.sk-dashed-wrapped {border: 1px dashed gray;margin: 0 0.4em 0.5em 0.4em;box-sizing: border-box;padding-bottom: 0.4em;background-color: white;}#sk-container-id-1 div.sk-label label {font-family: monospace;font-weight: bold;display: inline-block;line-height: 1.2em;}#sk-container-id-1 div.sk-label-container {text-align: center;}#sk-container-id-1 div.sk-container {/* jupyter's `normalize.less` sets `[hidden] { display: none; }` but bootstrap.min.css set `[hidden] { display: none !important; }` so we also need the `!important` here to be able to override the default hidden behavior on the sphinx rendered scikit-learn.org. See: https://github.com/scikit-learn/scikit-learn/issues/21755 */display: inline-block !important;position: relative;}#sk-container-id-1 div.sk-text-repr-fallback {display: none;}</style><div id=\"sk-container-id-1\" class=\"sk-top-container\"><div class=\"sk-text-repr-fallback\"><pre>TPOTClassifier(generations=5, verbosity=2)</pre><b>In a Jupyter environment, please rerun this cell to show the HTML representation or trust the notebook. <br />On GitHub, the HTML representation is unable to render, please try loading this page with nbviewer.org.</b></div><div class=\"sk-container\" hidden><div class=\"sk-item\"><div class=\"sk-estimator sk-toggleable\"><input class=\"sk-toggleable__control sk-hidden--visually\" id=\"sk-estimator-id-1\" type=\"checkbox\" checked><label for=\"sk-estimator-id-1\" class=\"sk-toggleable__label sk-toggleable__label-arrow\">TPOTClassifier</label><div class=\"sk-toggleable__content\"><pre>TPOTClassifier(generations=5, verbosity=2)</pre></div></div></div></div></div>"
      ],
      "text/plain": [
       "TPOTClassifier(generations=5, verbosity=2)"
      ]
     },
     "execution_count": 15,
     "metadata": {},
     "output_type": "execute_result"
    }
   ],
   "source": [
    "tpot = TPOTClassifier(generations=5, verbosity=2)\n",
    "\n",
    "tpot.fit(x_res2, y_res2)"
   ]
  },
  {
   "cell_type": "code",
   "execution_count": 22,
   "metadata": {},
   "outputs": [
    {
     "name": "stdout",
     "output_type": "stream",
     "text": [
      "0.978125\n"
     ]
    }
   ],
   "source": [
    "print(tpot.score(x_validate2, y_validate2))"
   ]
  },
  {
   "cell_type": "code",
   "execution_count": 26,
   "metadata": {},
   "outputs": [
    {
     "name": "stdout",
     "output_type": "stream",
     "text": [
      "              precision    recall  f1-score   support\n",
      "\n",
      "           0       0.92      0.67      0.77        18\n",
      "           1       0.98      1.00      0.99      1544\n",
      "           2       0.77      0.77      0.77        13\n",
      "           3       0.60      0.40      0.48        15\n",
      "           4       0.00      0.00      0.00         3\n",
      "           5       0.00      0.00      0.00         7\n",
      "\n",
      "    accuracy                           0.98      1600\n",
      "   macro avg       0.55      0.47      0.50      1600\n",
      "weighted avg       0.97      0.98      0.97      1600\n",
      "\n"
     ]
    }
   ],
   "source": [
    "# Making a prediction on validate in order to make \n",
    "y_val_pre = tpot.predict(x_validate2)\n",
    "#print validate report\n",
    "print(classification_report(y_validate2, y_val_pre))"
   ]
  },
  {
   "cell_type": "code",
   "execution_count": 17,
   "metadata": {},
   "outputs": [],
   "source": [
    "#Export the result\n",
    "tpot.export('tpot_ml_pipeline.py')\n"
   ]
  },
  {
   "cell_type": "markdown",
   "metadata": {},
   "source": [
    "Tpot resulted in this pipeline the best. This did have the best accuracy amongst validate but the recal did poorly. \n",
    "\n",
    "\n",
    "ExTree = MLPClassifier(ExtraTreesClassifier(StandardScaler(input_matrix), bootstrap=False, criterion=gini, max_features=0.4, min_samples_leaf=5, min_samples_split=9, n_estimators=100), alpha=0.0001, learning_rate_init=0.01)\n"
   ]
  },
  {
   "cell_type": "code",
   "execution_count": null,
   "metadata": {},
   "outputs": [],
   "source": [
    "# ExTree = MLPClassifier(ExtraTreesClassifier(StandardScaler(input_matrix), bootstrap=False, criterion=gini, max_features=0.4, min_samples_leaf=5, min_samples_split=9, n_estimators=100), alpha=0.0001, learning_rate_init=0.01)\n"
   ]
  }
 ],
 "metadata": {
  "kernelspec": {
   "display_name": "Python 3.9.12 ('base')",
   "language": "python",
   "name": "python3"
  },
  "language_info": {
   "codemirror_mode": {
    "name": "ipython",
    "version": 3
   },
   "file_extension": ".py",
   "mimetype": "text/x-python",
   "name": "python",
   "nbconvert_exporter": "python",
   "pygments_lexer": "ipython3",
   "version": "3.9.12"
  },
  "orig_nbformat": 4,
  "vscode": {
   "interpreter": {
    "hash": "38cca0c38332a56087b24af0bc80247f4fced29cb4f7f437d91dc159adec9c4e"
   }
  }
 },
 "nbformat": 4,
 "nbformat_minor": 2
}
