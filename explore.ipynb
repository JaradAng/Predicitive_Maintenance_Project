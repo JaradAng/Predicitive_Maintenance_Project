{
 "cells": [
  {
   "cell_type": "code",
   "execution_count": 1,
   "metadata": {},
   "outputs": [
    {
     "name": "stdout",
     "output_type": "stream",
     "text": [
      "Collecting imblearn\n",
      "  Downloading imblearn-0.0-py2.py3-none-any.whl (1.9 kB)\n",
      "Collecting imbalanced-learn\n",
      "  Downloading imbalanced_learn-0.9.1-py3-none-any.whl (199 kB)\n",
      "\u001b[2K     \u001b[90m━━━━━━━━━━━━━━━━━━━━━━━━━━━━━━━━━━━━━━━\u001b[0m \u001b[32m199.3/199.3 kB\u001b[0m \u001b[31m1.8 MB/s\u001b[0m eta \u001b[36m0:00:00\u001b[0ma \u001b[36m0:00:01\u001b[0m\n",
      "\u001b[?25hCollecting scikit-learn>=1.1.0\n",
      "  Downloading scikit_learn-1.1.2-cp39-cp39-macosx_12_0_arm64.whl (7.7 MB)\n",
      "\u001b[2K     \u001b[90m━━━━━━━━━━━━━━━━━━━━━━━━━━━━━━━━━━━━━━━━\u001b[0m \u001b[32m7.7/7.7 MB\u001b[0m \u001b[31m10.3 MB/s\u001b[0m eta \u001b[36m0:00:00\u001b[0ma \u001b[36m0:00:01\u001b[0m\n",
      "\u001b[?25hRequirement already satisfied: threadpoolctl>=2.0.0 in /opt/homebrew/anaconda3/lib/python3.9/site-packages (from imbalanced-learn->imblearn) (2.2.0)\n",
      "Requirement already satisfied: scipy>=1.3.2 in /opt/homebrew/anaconda3/lib/python3.9/site-packages (from imbalanced-learn->imblearn) (1.7.3)\n",
      "Requirement already satisfied: joblib>=1.0.0 in /opt/homebrew/anaconda3/lib/python3.9/site-packages (from imbalanced-learn->imblearn) (1.1.0)\n",
      "Requirement already satisfied: numpy>=1.17.3 in /opt/homebrew/anaconda3/lib/python3.9/site-packages (from imbalanced-learn->imblearn) (1.21.5)\n",
      "Installing collected packages: scikit-learn, imbalanced-learn, imblearn\n",
      "  Attempting uninstall: scikit-learn\n",
      "    Found existing installation: scikit-learn 1.0.2\n",
      "    Uninstalling scikit-learn-1.0.2:\n",
      "      Successfully uninstalled scikit-learn-1.0.2\n",
      "Successfully installed imbalanced-learn-0.9.1 imblearn-0.0 scikit-learn-1.1.2\n"
     ]
    }
   ],
   "source": [
    "! pip install imblearn"
   ]
  },
  {
   "cell_type": "code",
   "execution_count": 2,
   "metadata": {},
   "outputs": [],
   "source": [
    "import pandas as pd\n",
    "import numpy as np\n",
    "import proj_acquire\n",
    "import os\n",
    "import matplotlib.pyplot as plt\n",
    "import seaborn as sns\n",
    "from sklearn.model_selection import train_test_split\n",
    "import scipy.stats as stats\n",
    "from sklearn.ensemble import RandomForestClassifier\n",
    "from sklearn.metrics import classification_report\n",
    "from sklearn.metrics import confusion_matrix\n",
    "from sklearn.linear_model import LogisticRegression, LinearRegression, LassoLars, TweedieRegressor\n",
    "from sklearn.neighbors import KNeighborsClassifier\n",
    "from sklearn.preprocessing import MinMaxScaler, RobustScaler\n",
    "from sklearn.feature_selection import RFE\n",
    "from sklearn.metrics import mean_squared_error\n",
    "from imblearn.over_sampling import SMOTE\n",
    "\n",
    "\n",
    "\n",
    "import warnings\n",
    "warnings.filterwarnings(\"ignore\")\n",
    "\n",
    "\n"
   ]
  },
  {
   "cell_type": "code",
   "execution_count": 3,
   "metadata": {},
   "outputs": [],
   "source": [
    "# importing the dataset\n",
    "df = pd.read_csv('predictive_maint.csv')"
   ]
  },
  {
   "cell_type": "code",
   "execution_count": 4,
   "metadata": {},
   "outputs": [
    {
     "data": {
      "text/plain": [
       "(10000, 14)"
      ]
     },
     "execution_count": 4,
     "metadata": {},
     "output_type": "execute_result"
    }
   ],
   "source": [
    "#looking at the overall shape\n",
    "df.shape"
   ]
  },
  {
   "cell_type": "code",
   "execution_count": 5,
   "metadata": {},
   "outputs": [
    {
     "data": {
      "text/plain": [
       "UDI                          int64\n",
       "Product ID                  object\n",
       "Type                        object\n",
       "Air temperature [K]        float64\n",
       "Process temperature [K]    float64\n",
       "Rotational speed [rpm]       int64\n",
       "Torque [Nm]                float64\n",
       "Tool wear [min]              int64\n",
       "Machine failure              int64\n",
       "TWF                          int64\n",
       "HDF                          int64\n",
       "PWF                          int64\n",
       "OSF                          int64\n",
       "RNF                          int64\n",
       "dtype: object"
      ]
     },
     "execution_count": 5,
     "metadata": {},
     "output_type": "execute_result"
    }
   ],
   "source": [
    "#looking at the data types\n",
    "df.dtypes"
   ]
  },
  {
   "cell_type": "code",
   "execution_count": 6,
   "metadata": {},
   "outputs": [
    {
     "data": {
      "text/html": [
       "<div>\n",
       "<style scoped>\n",
       "    .dataframe tbody tr th:only-of-type {\n",
       "        vertical-align: middle;\n",
       "    }\n",
       "\n",
       "    .dataframe tbody tr th {\n",
       "        vertical-align: top;\n",
       "    }\n",
       "\n",
       "    .dataframe thead th {\n",
       "        text-align: right;\n",
       "    }\n",
       "</style>\n",
       "<table border=\"1\" class=\"dataframe\">\n",
       "  <thead>\n",
       "    <tr style=\"text-align: right;\">\n",
       "      <th></th>\n",
       "      <th>UDI</th>\n",
       "      <th>Product ID</th>\n",
       "      <th>Type</th>\n",
       "      <th>Air temperature [K]</th>\n",
       "      <th>Process temperature [K]</th>\n",
       "      <th>Rotational speed [rpm]</th>\n",
       "      <th>Torque [Nm]</th>\n",
       "      <th>Tool wear [min]</th>\n",
       "      <th>Machine failure</th>\n",
       "      <th>TWF</th>\n",
       "      <th>HDF</th>\n",
       "      <th>PWF</th>\n",
       "      <th>OSF</th>\n",
       "      <th>RNF</th>\n",
       "    </tr>\n",
       "  </thead>\n",
       "  <tbody>\n",
       "    <tr>\n",
       "      <th>0</th>\n",
       "      <td>1</td>\n",
       "      <td>M14860</td>\n",
       "      <td>M</td>\n",
       "      <td>298.1</td>\n",
       "      <td>308.6</td>\n",
       "      <td>1551</td>\n",
       "      <td>42.8</td>\n",
       "      <td>0</td>\n",
       "      <td>0</td>\n",
       "      <td>0</td>\n",
       "      <td>0</td>\n",
       "      <td>0</td>\n",
       "      <td>0</td>\n",
       "      <td>0</td>\n",
       "    </tr>\n",
       "    <tr>\n",
       "      <th>1</th>\n",
       "      <td>2</td>\n",
       "      <td>L47181</td>\n",
       "      <td>L</td>\n",
       "      <td>298.2</td>\n",
       "      <td>308.7</td>\n",
       "      <td>1408</td>\n",
       "      <td>46.3</td>\n",
       "      <td>3</td>\n",
       "      <td>0</td>\n",
       "      <td>0</td>\n",
       "      <td>0</td>\n",
       "      <td>0</td>\n",
       "      <td>0</td>\n",
       "      <td>0</td>\n",
       "    </tr>\n",
       "    <tr>\n",
       "      <th>2</th>\n",
       "      <td>3</td>\n",
       "      <td>L47182</td>\n",
       "      <td>L</td>\n",
       "      <td>298.1</td>\n",
       "      <td>308.5</td>\n",
       "      <td>1498</td>\n",
       "      <td>49.4</td>\n",
       "      <td>5</td>\n",
       "      <td>0</td>\n",
       "      <td>0</td>\n",
       "      <td>0</td>\n",
       "      <td>0</td>\n",
       "      <td>0</td>\n",
       "      <td>0</td>\n",
       "    </tr>\n",
       "    <tr>\n",
       "      <th>3</th>\n",
       "      <td>4</td>\n",
       "      <td>L47183</td>\n",
       "      <td>L</td>\n",
       "      <td>298.2</td>\n",
       "      <td>308.6</td>\n",
       "      <td>1433</td>\n",
       "      <td>39.5</td>\n",
       "      <td>7</td>\n",
       "      <td>0</td>\n",
       "      <td>0</td>\n",
       "      <td>0</td>\n",
       "      <td>0</td>\n",
       "      <td>0</td>\n",
       "      <td>0</td>\n",
       "    </tr>\n",
       "    <tr>\n",
       "      <th>4</th>\n",
       "      <td>5</td>\n",
       "      <td>L47184</td>\n",
       "      <td>L</td>\n",
       "      <td>298.2</td>\n",
       "      <td>308.7</td>\n",
       "      <td>1408</td>\n",
       "      <td>40.0</td>\n",
       "      <td>9</td>\n",
       "      <td>0</td>\n",
       "      <td>0</td>\n",
       "      <td>0</td>\n",
       "      <td>0</td>\n",
       "      <td>0</td>\n",
       "      <td>0</td>\n",
       "    </tr>\n",
       "  </tbody>\n",
       "</table>\n",
       "</div>"
      ],
      "text/plain": [
       "   UDI Product ID Type  Air temperature [K]  Process temperature [K]  \\\n",
       "0    1     M14860    M                298.1                    308.6   \n",
       "1    2     L47181    L                298.2                    308.7   \n",
       "2    3     L47182    L                298.1                    308.5   \n",
       "3    4     L47183    L                298.2                    308.6   \n",
       "4    5     L47184    L                298.2                    308.7   \n",
       "\n",
       "   Rotational speed [rpm]  Torque [Nm]  Tool wear [min]  Machine failure  TWF  \\\n",
       "0                    1551         42.8                0                0    0   \n",
       "1                    1408         46.3                3                0    0   \n",
       "2                    1498         49.4                5                0    0   \n",
       "3                    1433         39.5                7                0    0   \n",
       "4                    1408         40.0                9                0    0   \n",
       "\n",
       "   HDF  PWF  OSF  RNF  \n",
       "0    0    0    0    0  \n",
       "1    0    0    0    0  \n",
       "2    0    0    0    0  \n",
       "3    0    0    0    0  \n",
       "4    0    0    0    0  "
      ]
     },
     "execution_count": 6,
     "metadata": {},
     "output_type": "execute_result"
    }
   ],
   "source": [
    "df.head()"
   ]
  },
  {
   "cell_type": "code",
   "execution_count": 7,
   "metadata": {},
   "outputs": [],
   "source": [
    "df.rename(columns = {'Air temperature [K]':'air_temp', 'Process temperature [K]':'process_temp','Rotational speed [rpm]':'rpm', 'Torque [Nm]':'torque', 'Tool wear [min]': 'tool_wear', 'Machine failure':  'machine_failure' }, inplace = True)"
   ]
  },
  {
   "cell_type": "code",
   "execution_count": 8,
   "metadata": {},
   "outputs": [],
   "source": [
    "dummy_df = pd.get_dummies(df['Type'])"
   ]
  },
  {
   "cell_type": "code",
   "execution_count": 9,
   "metadata": {},
   "outputs": [],
   "source": [
    "df = pd.concat([df, dummy_df], axis=1)"
   ]
  },
  {
   "cell_type": "code",
   "execution_count": 10,
   "metadata": {},
   "outputs": [
    {
     "data": {
      "text/html": [
       "<div>\n",
       "<style scoped>\n",
       "    .dataframe tbody tr th:only-of-type {\n",
       "        vertical-align: middle;\n",
       "    }\n",
       "\n",
       "    .dataframe tbody tr th {\n",
       "        vertical-align: top;\n",
       "    }\n",
       "\n",
       "    .dataframe thead th {\n",
       "        text-align: right;\n",
       "    }\n",
       "</style>\n",
       "<table border=\"1\" class=\"dataframe\">\n",
       "  <thead>\n",
       "    <tr style=\"text-align: right;\">\n",
       "      <th></th>\n",
       "      <th>UDI</th>\n",
       "      <th>Product ID</th>\n",
       "      <th>Type</th>\n",
       "      <th>air_temp</th>\n",
       "      <th>process_temp</th>\n",
       "      <th>rpm</th>\n",
       "      <th>torque</th>\n",
       "      <th>tool_wear</th>\n",
       "      <th>machine_failure</th>\n",
       "      <th>TWF</th>\n",
       "      <th>HDF</th>\n",
       "      <th>PWF</th>\n",
       "      <th>OSF</th>\n",
       "      <th>RNF</th>\n",
       "      <th>H</th>\n",
       "      <th>L</th>\n",
       "      <th>M</th>\n",
       "    </tr>\n",
       "  </thead>\n",
       "  <tbody>\n",
       "    <tr>\n",
       "      <th>0</th>\n",
       "      <td>1</td>\n",
       "      <td>M14860</td>\n",
       "      <td>M</td>\n",
       "      <td>298.1</td>\n",
       "      <td>308.6</td>\n",
       "      <td>1551</td>\n",
       "      <td>42.8</td>\n",
       "      <td>0</td>\n",
       "      <td>0</td>\n",
       "      <td>0</td>\n",
       "      <td>0</td>\n",
       "      <td>0</td>\n",
       "      <td>0</td>\n",
       "      <td>0</td>\n",
       "      <td>0</td>\n",
       "      <td>0</td>\n",
       "      <td>1</td>\n",
       "    </tr>\n",
       "    <tr>\n",
       "      <th>1</th>\n",
       "      <td>2</td>\n",
       "      <td>L47181</td>\n",
       "      <td>L</td>\n",
       "      <td>298.2</td>\n",
       "      <td>308.7</td>\n",
       "      <td>1408</td>\n",
       "      <td>46.3</td>\n",
       "      <td>3</td>\n",
       "      <td>0</td>\n",
       "      <td>0</td>\n",
       "      <td>0</td>\n",
       "      <td>0</td>\n",
       "      <td>0</td>\n",
       "      <td>0</td>\n",
       "      <td>0</td>\n",
       "      <td>1</td>\n",
       "      <td>0</td>\n",
       "    </tr>\n",
       "    <tr>\n",
       "      <th>2</th>\n",
       "      <td>3</td>\n",
       "      <td>L47182</td>\n",
       "      <td>L</td>\n",
       "      <td>298.1</td>\n",
       "      <td>308.5</td>\n",
       "      <td>1498</td>\n",
       "      <td>49.4</td>\n",
       "      <td>5</td>\n",
       "      <td>0</td>\n",
       "      <td>0</td>\n",
       "      <td>0</td>\n",
       "      <td>0</td>\n",
       "      <td>0</td>\n",
       "      <td>0</td>\n",
       "      <td>0</td>\n",
       "      <td>1</td>\n",
       "      <td>0</td>\n",
       "    </tr>\n",
       "    <tr>\n",
       "      <th>3</th>\n",
       "      <td>4</td>\n",
       "      <td>L47183</td>\n",
       "      <td>L</td>\n",
       "      <td>298.2</td>\n",
       "      <td>308.6</td>\n",
       "      <td>1433</td>\n",
       "      <td>39.5</td>\n",
       "      <td>7</td>\n",
       "      <td>0</td>\n",
       "      <td>0</td>\n",
       "      <td>0</td>\n",
       "      <td>0</td>\n",
       "      <td>0</td>\n",
       "      <td>0</td>\n",
       "      <td>0</td>\n",
       "      <td>1</td>\n",
       "      <td>0</td>\n",
       "    </tr>\n",
       "    <tr>\n",
       "      <th>4</th>\n",
       "      <td>5</td>\n",
       "      <td>L47184</td>\n",
       "      <td>L</td>\n",
       "      <td>298.2</td>\n",
       "      <td>308.7</td>\n",
       "      <td>1408</td>\n",
       "      <td>40.0</td>\n",
       "      <td>9</td>\n",
       "      <td>0</td>\n",
       "      <td>0</td>\n",
       "      <td>0</td>\n",
       "      <td>0</td>\n",
       "      <td>0</td>\n",
       "      <td>0</td>\n",
       "      <td>0</td>\n",
       "      <td>1</td>\n",
       "      <td>0</td>\n",
       "    </tr>\n",
       "  </tbody>\n",
       "</table>\n",
       "</div>"
      ],
      "text/plain": [
       "   UDI Product ID Type  air_temp  process_temp   rpm  torque  tool_wear  \\\n",
       "0    1     M14860    M     298.1         308.6  1551    42.8          0   \n",
       "1    2     L47181    L     298.2         308.7  1408    46.3          3   \n",
       "2    3     L47182    L     298.1         308.5  1498    49.4          5   \n",
       "3    4     L47183    L     298.2         308.6  1433    39.5          7   \n",
       "4    5     L47184    L     298.2         308.7  1408    40.0          9   \n",
       "\n",
       "   machine_failure  TWF  HDF  PWF  OSF  RNF  H  L  M  \n",
       "0                0    0    0    0    0    0  0  0  1  \n",
       "1                0    0    0    0    0    0  0  1  0  \n",
       "2                0    0    0    0    0    0  0  1  0  \n",
       "3                0    0    0    0    0    0  0  1  0  \n",
       "4                0    0    0    0    0    0  0  1  0  "
      ]
     },
     "execution_count": 10,
     "metadata": {},
     "output_type": "execute_result"
    }
   ],
   "source": [
    "df.head()"
   ]
  },
  {
   "cell_type": "code",
   "execution_count": 11,
   "metadata": {},
   "outputs": [
    {
     "data": {
      "text/plain": [
       "0    9661\n",
       "1     339\n",
       "Name: machine_failure, dtype: int64"
      ]
     },
     "execution_count": 11,
     "metadata": {},
     "output_type": "execute_result"
    }
   ],
   "source": [
    "#Checking for amount of overall failures \n",
    "df['machine_failure'].value_counts()"
   ]
  },
  {
   "cell_type": "code",
   "execution_count": 12,
   "metadata": {},
   "outputs": [
    {
     "data": {
      "text/plain": [
       "Index(['UDI', 'Product ID', 'Type', 'air_temp', 'process_temp', 'rpm',\n",
       "       'torque', 'tool_wear', 'machine_failure', 'TWF', 'HDF', 'PWF', 'OSF',\n",
       "       'RNF', 'H', 'L', 'M'],\n",
       "      dtype='object')"
      ]
     },
     "execution_count": 12,
     "metadata": {},
     "output_type": "execute_result"
    }
   ],
   "source": [
    "df.columns"
   ]
  },
  {
   "cell_type": "code",
   "execution_count": 13,
   "metadata": {},
   "outputs": [],
   "source": [
    "df = df.drop(columns=['UDI', 'Product ID', 'Type'])"
   ]
  },
  {
   "cell_type": "code",
   "execution_count": 14,
   "metadata": {},
   "outputs": [
    {
     "data": {
      "text/html": [
       "<div>\n",
       "<style scoped>\n",
       "    .dataframe tbody tr th:only-of-type {\n",
       "        vertical-align: middle;\n",
       "    }\n",
       "\n",
       "    .dataframe tbody tr th {\n",
       "        vertical-align: top;\n",
       "    }\n",
       "\n",
       "    .dataframe thead th {\n",
       "        text-align: right;\n",
       "    }\n",
       "</style>\n",
       "<table border=\"1\" class=\"dataframe\">\n",
       "  <thead>\n",
       "    <tr style=\"text-align: right;\">\n",
       "      <th></th>\n",
       "      <th>count</th>\n",
       "      <th>mean</th>\n",
       "      <th>std</th>\n",
       "      <th>min</th>\n",
       "      <th>25%</th>\n",
       "      <th>50%</th>\n",
       "      <th>75%</th>\n",
       "      <th>max</th>\n",
       "    </tr>\n",
       "  </thead>\n",
       "  <tbody>\n",
       "    <tr>\n",
       "      <th>air_temp</th>\n",
       "      <td>10000.0</td>\n",
       "      <td>300.00493</td>\n",
       "      <td>2.000259</td>\n",
       "      <td>295.3</td>\n",
       "      <td>298.3</td>\n",
       "      <td>300.1</td>\n",
       "      <td>301.5</td>\n",
       "      <td>304.5</td>\n",
       "    </tr>\n",
       "    <tr>\n",
       "      <th>process_temp</th>\n",
       "      <td>10000.0</td>\n",
       "      <td>310.00556</td>\n",
       "      <td>1.483734</td>\n",
       "      <td>305.7</td>\n",
       "      <td>308.8</td>\n",
       "      <td>310.1</td>\n",
       "      <td>311.1</td>\n",
       "      <td>313.8</td>\n",
       "    </tr>\n",
       "    <tr>\n",
       "      <th>rpm</th>\n",
       "      <td>10000.0</td>\n",
       "      <td>1538.77610</td>\n",
       "      <td>179.284096</td>\n",
       "      <td>1168.0</td>\n",
       "      <td>1423.0</td>\n",
       "      <td>1503.0</td>\n",
       "      <td>1612.0</td>\n",
       "      <td>2886.0</td>\n",
       "    </tr>\n",
       "    <tr>\n",
       "      <th>torque</th>\n",
       "      <td>10000.0</td>\n",
       "      <td>39.98691</td>\n",
       "      <td>9.968934</td>\n",
       "      <td>3.8</td>\n",
       "      <td>33.2</td>\n",
       "      <td>40.1</td>\n",
       "      <td>46.8</td>\n",
       "      <td>76.6</td>\n",
       "    </tr>\n",
       "    <tr>\n",
       "      <th>tool_wear</th>\n",
       "      <td>10000.0</td>\n",
       "      <td>107.95100</td>\n",
       "      <td>63.654147</td>\n",
       "      <td>0.0</td>\n",
       "      <td>53.0</td>\n",
       "      <td>108.0</td>\n",
       "      <td>162.0</td>\n",
       "      <td>253.0</td>\n",
       "    </tr>\n",
       "    <tr>\n",
       "      <th>machine_failure</th>\n",
       "      <td>10000.0</td>\n",
       "      <td>0.03390</td>\n",
       "      <td>0.180981</td>\n",
       "      <td>0.0</td>\n",
       "      <td>0.0</td>\n",
       "      <td>0.0</td>\n",
       "      <td>0.0</td>\n",
       "      <td>1.0</td>\n",
       "    </tr>\n",
       "    <tr>\n",
       "      <th>TWF</th>\n",
       "      <td>10000.0</td>\n",
       "      <td>0.00460</td>\n",
       "      <td>0.067671</td>\n",
       "      <td>0.0</td>\n",
       "      <td>0.0</td>\n",
       "      <td>0.0</td>\n",
       "      <td>0.0</td>\n",
       "      <td>1.0</td>\n",
       "    </tr>\n",
       "    <tr>\n",
       "      <th>HDF</th>\n",
       "      <td>10000.0</td>\n",
       "      <td>0.01150</td>\n",
       "      <td>0.106625</td>\n",
       "      <td>0.0</td>\n",
       "      <td>0.0</td>\n",
       "      <td>0.0</td>\n",
       "      <td>0.0</td>\n",
       "      <td>1.0</td>\n",
       "    </tr>\n",
       "    <tr>\n",
       "      <th>PWF</th>\n",
       "      <td>10000.0</td>\n",
       "      <td>0.00950</td>\n",
       "      <td>0.097009</td>\n",
       "      <td>0.0</td>\n",
       "      <td>0.0</td>\n",
       "      <td>0.0</td>\n",
       "      <td>0.0</td>\n",
       "      <td>1.0</td>\n",
       "    </tr>\n",
       "    <tr>\n",
       "      <th>OSF</th>\n",
       "      <td>10000.0</td>\n",
       "      <td>0.00980</td>\n",
       "      <td>0.098514</td>\n",
       "      <td>0.0</td>\n",
       "      <td>0.0</td>\n",
       "      <td>0.0</td>\n",
       "      <td>0.0</td>\n",
       "      <td>1.0</td>\n",
       "    </tr>\n",
       "    <tr>\n",
       "      <th>RNF</th>\n",
       "      <td>10000.0</td>\n",
       "      <td>0.00190</td>\n",
       "      <td>0.043550</td>\n",
       "      <td>0.0</td>\n",
       "      <td>0.0</td>\n",
       "      <td>0.0</td>\n",
       "      <td>0.0</td>\n",
       "      <td>1.0</td>\n",
       "    </tr>\n",
       "    <tr>\n",
       "      <th>H</th>\n",
       "      <td>10000.0</td>\n",
       "      <td>0.10030</td>\n",
       "      <td>0.300415</td>\n",
       "      <td>0.0</td>\n",
       "      <td>0.0</td>\n",
       "      <td>0.0</td>\n",
       "      <td>0.0</td>\n",
       "      <td>1.0</td>\n",
       "    </tr>\n",
       "    <tr>\n",
       "      <th>L</th>\n",
       "      <td>10000.0</td>\n",
       "      <td>0.60000</td>\n",
       "      <td>0.489922</td>\n",
       "      <td>0.0</td>\n",
       "      <td>0.0</td>\n",
       "      <td>1.0</td>\n",
       "      <td>1.0</td>\n",
       "      <td>1.0</td>\n",
       "    </tr>\n",
       "    <tr>\n",
       "      <th>M</th>\n",
       "      <td>10000.0</td>\n",
       "      <td>0.29970</td>\n",
       "      <td>0.458149</td>\n",
       "      <td>0.0</td>\n",
       "      <td>0.0</td>\n",
       "      <td>0.0</td>\n",
       "      <td>1.0</td>\n",
       "      <td>1.0</td>\n",
       "    </tr>\n",
       "  </tbody>\n",
       "</table>\n",
       "</div>"
      ],
      "text/plain": [
       "                   count        mean         std     min     25%     50%  \\\n",
       "air_temp         10000.0   300.00493    2.000259   295.3   298.3   300.1   \n",
       "process_temp     10000.0   310.00556    1.483734   305.7   308.8   310.1   \n",
       "rpm              10000.0  1538.77610  179.284096  1168.0  1423.0  1503.0   \n",
       "torque           10000.0    39.98691    9.968934     3.8    33.2    40.1   \n",
       "tool_wear        10000.0   107.95100   63.654147     0.0    53.0   108.0   \n",
       "machine_failure  10000.0     0.03390    0.180981     0.0     0.0     0.0   \n",
       "TWF              10000.0     0.00460    0.067671     0.0     0.0     0.0   \n",
       "HDF              10000.0     0.01150    0.106625     0.0     0.0     0.0   \n",
       "PWF              10000.0     0.00950    0.097009     0.0     0.0     0.0   \n",
       "OSF              10000.0     0.00980    0.098514     0.0     0.0     0.0   \n",
       "RNF              10000.0     0.00190    0.043550     0.0     0.0     0.0   \n",
       "H                10000.0     0.10030    0.300415     0.0     0.0     0.0   \n",
       "L                10000.0     0.60000    0.489922     0.0     0.0     1.0   \n",
       "M                10000.0     0.29970    0.458149     0.0     0.0     0.0   \n",
       "\n",
       "                    75%     max  \n",
       "air_temp          301.5   304.5  \n",
       "process_temp      311.1   313.8  \n",
       "rpm              1612.0  2886.0  \n",
       "torque             46.8    76.6  \n",
       "tool_wear         162.0   253.0  \n",
       "machine_failure     0.0     1.0  \n",
       "TWF                 0.0     1.0  \n",
       "HDF                 0.0     1.0  \n",
       "PWF                 0.0     1.0  \n",
       "OSF                 0.0     1.0  \n",
       "RNF                 0.0     1.0  \n",
       "H                   0.0     1.0  \n",
       "L                   1.0     1.0  \n",
       "M                   1.0     1.0  "
      ]
     },
     "execution_count": 14,
     "metadata": {},
     "output_type": "execute_result"
    }
   ],
   "source": [
    "#Checking for nulls and how the data is distributed\n",
    "df.describe().T"
   ]
  },
  {
   "cell_type": "code",
   "execution_count": 15,
   "metadata": {},
   "outputs": [],
   "source": [
    "# Splitting the data set via train validate test\n",
    "def split_maint(df):\n",
    "\n",
    "    # split the data\n",
    "    train_validate, test = train_test_split(df, test_size=.2, \n",
    "                                            random_state=123, \n",
    "                                            stratify=df.machine_failure)\n",
    "    train, validate = train_test_split(train_validate, test_size=.2, \n",
    "                                       random_state=123, \n",
    "                                       stratify=train_validate.machine_failure)\n",
    "    return train, validate, test"
   ]
  },
  {
   "cell_type": "code",
   "execution_count": 16,
   "metadata": {},
   "outputs": [],
   "source": [
    "# using function to split the data\n",
    "train, validate, test = split_maint(df)"
   ]
  },
  {
   "cell_type": "code",
   "execution_count": 17,
   "metadata": {},
   "outputs": [
    {
     "data": {
      "text/plain": [
       "((6400, 14), (1600, 14), (2000, 14))"
      ]
     },
     "execution_count": 17,
     "metadata": {},
     "output_type": "execute_result"
    }
   ],
   "source": [
    "#Checking to see if the split worked properly\n",
    "train.shape, validate.shape, test.shape"
   ]
  },
  {
   "cell_type": "code",
   "execution_count": 18,
   "metadata": {},
   "outputs": [
    {
     "data": {
      "text/plain": [
       "TWF  HDF  PWF  OSF  RNF\n",
       "0    0    0    0    0      6179\n",
       "     1    0    0    0        73\n",
       "     0    1    0    0        52\n",
       "          0    1    0        48\n",
       "1    0    0    0    0        22\n",
       "0    0    0    0    1        11\n",
       "          1    1    0         6\n",
       "     1    0    1    0         3\n",
       "          1    0    0         2\n",
       "1    0    0    1    0         2\n",
       "               0    1         1\n",
       "          1    1    0         1\n",
       "dtype: int64"
      ]
     },
     "execution_count": 18,
     "metadata": {},
     "output_type": "execute_result"
    }
   ],
   "source": [
    "train.value_counts(subset=['TWF', 'HDF', 'PWF', 'OSF', 'RNF'])"
   ]
  },
  {
   "cell_type": "code",
   "execution_count": 19,
   "metadata": {},
   "outputs": [
    {
     "data": {
      "text/html": [
       "<div>\n",
       "<style scoped>\n",
       "    .dataframe tbody tr th:only-of-type {\n",
       "        vertical-align: middle;\n",
       "    }\n",
       "\n",
       "    .dataframe tbody tr th {\n",
       "        vertical-align: top;\n",
       "    }\n",
       "\n",
       "    .dataframe thead th {\n",
       "        text-align: right;\n",
       "    }\n",
       "</style>\n",
       "<table border=\"1\" class=\"dataframe\">\n",
       "  <thead>\n",
       "    <tr style=\"text-align: right;\">\n",
       "      <th></th>\n",
       "      <th>air_temp</th>\n",
       "      <th>process_temp</th>\n",
       "      <th>rpm</th>\n",
       "      <th>torque</th>\n",
       "      <th>tool_wear</th>\n",
       "      <th>machine_failure</th>\n",
       "      <th>TWF</th>\n",
       "      <th>HDF</th>\n",
       "      <th>PWF</th>\n",
       "      <th>OSF</th>\n",
       "      <th>RNF</th>\n",
       "      <th>H</th>\n",
       "      <th>L</th>\n",
       "      <th>M</th>\n",
       "    </tr>\n",
       "  </thead>\n",
       "  <tbody>\n",
       "    <tr>\n",
       "      <th>8630</th>\n",
       "      <td>297.4</td>\n",
       "      <td>308.4</td>\n",
       "      <td>1371</td>\n",
       "      <td>57.4</td>\n",
       "      <td>52</td>\n",
       "      <td>0</td>\n",
       "      <td>0</td>\n",
       "      <td>0</td>\n",
       "      <td>0</td>\n",
       "      <td>0</td>\n",
       "      <td>0</td>\n",
       "      <td>0</td>\n",
       "      <td>1</td>\n",
       "      <td>0</td>\n",
       "    </tr>\n",
       "    <tr>\n",
       "      <th>1595</th>\n",
       "      <td>298.0</td>\n",
       "      <td>308.2</td>\n",
       "      <td>1365</td>\n",
       "      <td>52.9</td>\n",
       "      <td>218</td>\n",
       "      <td>1</td>\n",
       "      <td>0</td>\n",
       "      <td>0</td>\n",
       "      <td>0</td>\n",
       "      <td>1</td>\n",
       "      <td>0</td>\n",
       "      <td>0</td>\n",
       "      <td>1</td>\n",
       "      <td>0</td>\n",
       "    </tr>\n",
       "    <tr>\n",
       "      <th>4464</th>\n",
       "      <td>302.8</td>\n",
       "      <td>310.6</td>\n",
       "      <td>1671</td>\n",
       "      <td>30.5</td>\n",
       "      <td>201</td>\n",
       "      <td>0</td>\n",
       "      <td>0</td>\n",
       "      <td>0</td>\n",
       "      <td>0</td>\n",
       "      <td>0</td>\n",
       "      <td>0</td>\n",
       "      <td>0</td>\n",
       "      <td>1</td>\n",
       "      <td>0</td>\n",
       "    </tr>\n",
       "    <tr>\n",
       "      <th>8736</th>\n",
       "      <td>297.3</td>\n",
       "      <td>308.7</td>\n",
       "      <td>1491</td>\n",
       "      <td>40.2</td>\n",
       "      <td>112</td>\n",
       "      <td>0</td>\n",
       "      <td>0</td>\n",
       "      <td>0</td>\n",
       "      <td>0</td>\n",
       "      <td>0</td>\n",
       "      <td>0</td>\n",
       "      <td>0</td>\n",
       "      <td>1</td>\n",
       "      <td>0</td>\n",
       "    </tr>\n",
       "    <tr>\n",
       "      <th>1411</th>\n",
       "      <td>298.9</td>\n",
       "      <td>310.1</td>\n",
       "      <td>1944</td>\n",
       "      <td>23.4</td>\n",
       "      <td>192</td>\n",
       "      <td>0</td>\n",
       "      <td>0</td>\n",
       "      <td>0</td>\n",
       "      <td>0</td>\n",
       "      <td>0</td>\n",
       "      <td>0</td>\n",
       "      <td>0</td>\n",
       "      <td>1</td>\n",
       "      <td>0</td>\n",
       "    </tr>\n",
       "  </tbody>\n",
       "</table>\n",
       "</div>"
      ],
      "text/plain": [
       "      air_temp  process_temp   rpm  torque  tool_wear  machine_failure  TWF  \\\n",
       "8630     297.4         308.4  1371    57.4         52                0    0   \n",
       "1595     298.0         308.2  1365    52.9        218                1    0   \n",
       "4464     302.8         310.6  1671    30.5        201                0    0   \n",
       "8736     297.3         308.7  1491    40.2        112                0    0   \n",
       "1411     298.9         310.1  1944    23.4        192                0    0   \n",
       "\n",
       "      HDF  PWF  OSF  RNF  H  L  M  \n",
       "8630    0    0    0    0  0  1  0  \n",
       "1595    0    0    1    0  0  1  0  \n",
       "4464    0    0    0    0  0  1  0  \n",
       "8736    0    0    0    0  0  1  0  \n",
       "1411    0    0    0    0  0  1  0  "
      ]
     },
     "execution_count": 19,
     "metadata": {},
     "output_type": "execute_result"
    }
   ],
   "source": [
    "train.head()"
   ]
  },
  {
   "cell_type": "code",
   "execution_count": 17,
   "metadata": {},
   "outputs": [
    {
     "data": {
      "image/png": "[encoded data removed]",
      "text/plain": [
       "<Figure size 432x288 with 1 Axes>"
      ]
     },
     "metadata": {
      "needs_background": "light"
     },
     "output_type": "display_data"
    },
    {
     "data": {
      "image/png": "[encoded data removed]",
      "text/plain": [
       "<Figure size 432x288 with 1 Axes>"
      ]
     },
     "metadata": {
      "needs_background": "light"
     },
     "output_type": "display_data"
    },
    {
     "data": {
      "image/png": "[encoded data removed]",
      "text/plain": [
       "<Figure size 432x288 with 1 Axes>"
      ]
     },
     "metadata": {
      "needs_background": "light"
     },
     "output_type": "display_data"
    },
    {
     "data": {
      "image/png": "[encoded data removed]",
      "text/plain": [
       "<Figure size 432x288 with 1 Axes>"
      ]
     },
     "metadata": {
      "needs_background": "light"
     },
     "output_type": "display_data"
    },
    {
     "data": {
      "image/png": "[encoded data removed]",
      "text/plain": [
       "<Figure size 432x288 with 1 Axes>"
      ]
     },
     "metadata": {
      "needs_background": "light"
     },
     "output_type": "display_data"
    },
    {
     "data": {
      "image/png": "[encoded data removed]",
      "text/plain": [
       "<Figure size 432x288 with 1 Axes>"
      ]
     },
     "metadata": {
      "needs_background": "light"
     },
     "output_type": "display_data"
    },
    {
     "data": {
      "image/png": "[encoded data removed]",
      "text/plain": [
       "<Figure size 432x288 with 1 Axes>"
      ]
     },
     "metadata": {
      "needs_background": "light"
     },
     "output_type": "display_data"
    },
    {
     "data": {
      "image/png": "[encoded data removed]",
      "text/plain": [
       "<Figure size 432x288 with 1 Axes>"
      ]
     },
     "metadata": {
      "needs_background": "light"
     },
     "output_type": "display_data"
    },
    {
     "data": {
      "image/png": "[encoded data removed]",
      "text/plain": [
       "<Figure size 432x288 with 1 Axes>"
      ]
     },
     "metadata": {
      "needs_background": "light"
     },
     "output_type": "display_data"
    },
    {
     "data": {
      "image/png": "[encoded data removed]",
      "text/plain": [
       "<Figure size 432x288 with 1 Axes>"
      ]
     },
     "metadata": {
      "needs_background": "light"
     },
     "output_type": "display_data"
    },
    {
     "data": {
      "image/png": "[encoded data removed]",
      "text/plain": [
       "<Figure size 432x288 with 1 Axes>"
      ]
     },
     "metadata": {
      "needs_background": "light"
     },
     "output_type": "display_data"
    },
    {
     "data": {
      "image/png": "[encoded data removed]",
      "text/plain": [
       "<Figure size 432x288 with 1 Axes>"
      ]
     },
     "metadata": {
      "needs_background": "light"
     },
     "output_type": "display_data"
    }
   ],
   "source": [
    "for col in train.columns:\n",
    "    sns.barplot(data = train, x= train[col], y=train.machine_failure)\n",
    "    plt.title(col)\n",
    "    plt.show()"
   ]
  },
  {
   "cell_type": "code",
   "execution_count": 17,
   "metadata": {},
   "outputs": [
    {
     "data": {
      "text/plain": [
       "Text(0.5, 1.0, 'rpm vs torque')"
      ]
     },
     "execution_count": 17,
     "metadata": {},
     "output_type": "execute_result"
    },
    {
     "data": {
      "image/png": "[encoded data removed]",
      "text/plain": [
       "<Figure size 432x288 with 1 Axes>"
      ]
     },
     "metadata": {
      "needs_background": "light"
     },
     "output_type": "display_data"
    }
   ],
   "source": [
    "# Plotting out internet service type against churn with overal churn mean as the black line\n",
    "sns.barplot('rpm', 'torque', data=train, alpha=.5)\n",
    "plt.axhline(train.machine_failure.mean(), ls = '--', color = 'black')\n",
    "plt.xlabel('rpm')\n",
    "plt.ylabel('torque')\n",
    "plt.title('rpm vs torque')"
   ]
  },
  {
   "cell_type": "code",
   "execution_count": 18,
   "metadata": {},
   "outputs": [
    {
     "data": {
      "text/plain": [
       "Index(['Type', 'air_temp', 'process_temp', 'rpm', 'torque', 'tool_wear',\n",
       "       'machine_failure', 'TWF', 'HDF', 'PWF', 'OSF', 'RNF'],\n",
       "      dtype='object')"
      ]
     },
     "execution_count": 18,
     "metadata": {},
     "output_type": "execute_result"
    }
   ],
   "source": [
    "train.columns"
   ]
  },
  {
   "cell_type": "code",
   "execution_count": 19,
   "metadata": {},
   "outputs": [
    {
     "data": {
      "text/plain": [
       "0    6388\n",
       "1      12\n",
       "Name: RNF, dtype: int64"
      ]
     },
     "execution_count": 19,
     "metadata": {},
     "output_type": "execute_result"
    }
   ],
   "source": [
    "train.RNF.value_counts()"
   ]
  },
  {
   "cell_type": "code",
   "execution_count": 20,
   "metadata": {},
   "outputs": [],
   "source": [
    "for col in train.columns:\n",
    "    train.groupby(train[col]).value_counts()\n",
    " "
   ]
  },
  {
   "cell_type": "code",
   "execution_count": 21,
   "metadata": {},
   "outputs": [
    {
     "data": {
      "text/html": [
       "<div>\n",
       "<style scoped>\n",
       "    .dataframe tbody tr th:only-of-type {\n",
       "        vertical-align: middle;\n",
       "    }\n",
       "\n",
       "    .dataframe tbody tr th {\n",
       "        vertical-align: top;\n",
       "    }\n",
       "\n",
       "    .dataframe thead th {\n",
       "        text-align: right;\n",
       "    }\n",
       "</style>\n",
       "<table border=\"1\" class=\"dataframe\">\n",
       "  <thead>\n",
       "    <tr style=\"text-align: right;\">\n",
       "      <th></th>\n",
       "      <th></th>\n",
       "      <th>air_temp</th>\n",
       "      <th>process_temp</th>\n",
       "      <th>rpm</th>\n",
       "      <th>torque</th>\n",
       "      <th>tool_wear</th>\n",
       "      <th>TWF</th>\n",
       "      <th>HDF</th>\n",
       "      <th>PWF</th>\n",
       "      <th>OSF</th>\n",
       "      <th>RNF</th>\n",
       "    </tr>\n",
       "    <tr>\n",
       "      <th>Type</th>\n",
       "      <th>machine_failure</th>\n",
       "      <th></th>\n",
       "      <th></th>\n",
       "      <th></th>\n",
       "      <th></th>\n",
       "      <th></th>\n",
       "      <th></th>\n",
       "      <th></th>\n",
       "      <th></th>\n",
       "      <th></th>\n",
       "      <th></th>\n",
       "    </tr>\n",
       "  </thead>\n",
       "  <tbody>\n",
       "    <tr>\n",
       "      <th rowspan=\"2\" valign=\"top\">H</th>\n",
       "      <th>0</th>\n",
       "      <td>187041.2</td>\n",
       "      <td>193359.0</td>\n",
       "      <td>958535</td>\n",
       "      <td>24846.0</td>\n",
       "      <td>66827</td>\n",
       "      <td>0</td>\n",
       "      <td>0</td>\n",
       "      <td>0</td>\n",
       "      <td>0</td>\n",
       "      <td>1</td>\n",
       "    </tr>\n",
       "    <tr>\n",
       "      <th>1</th>\n",
       "      <td>3916.5</td>\n",
       "      <td>4035.5</td>\n",
       "      <td>19068</td>\n",
       "      <td>667.9</td>\n",
       "      <td>1650</td>\n",
       "      <td>3</td>\n",
       "      <td>5</td>\n",
       "      <td>4</td>\n",
       "      <td>2</td>\n",
       "      <td>0</td>\n",
       "    </tr>\n",
       "    <tr>\n",
       "      <th rowspan=\"2\" valign=\"top\">L</th>\n",
       "      <th>0</th>\n",
       "      <td>1104894.1</td>\n",
       "      <td>1141787.8</td>\n",
       "      <td>5682639</td>\n",
       "      <td>145250.3</td>\n",
       "      <td>392644</td>\n",
       "      <td>0</td>\n",
       "      <td>0</td>\n",
       "      <td>0</td>\n",
       "      <td>0</td>\n",
       "      <td>9</td>\n",
       "    </tr>\n",
       "    <tr>\n",
       "      <th>1</th>\n",
       "      <td>44816.3</td>\n",
       "      <td>46226.3</td>\n",
       "      <td>222168</td>\n",
       "      <td>7509.9</td>\n",
       "      <td>21774</td>\n",
       "      <td>14</td>\n",
       "      <td>50</td>\n",
       "      <td>38</td>\n",
       "      <td>53</td>\n",
       "      <td>1</td>\n",
       "    </tr>\n",
       "    <tr>\n",
       "      <th rowspan=\"2\" valign=\"top\">M</th>\n",
       "      <th>0</th>\n",
       "      <td>562751.8</td>\n",
       "      <td>581556.3</td>\n",
       "      <td>2882581</td>\n",
       "      <td>74671.9</td>\n",
       "      <td>202976</td>\n",
       "      <td>0</td>\n",
       "      <td>0</td>\n",
       "      <td>0</td>\n",
       "      <td>0</td>\n",
       "      <td>1</td>\n",
       "    </tr>\n",
       "    <tr>\n",
       "      <th>1</th>\n",
       "      <td>16579.4</td>\n",
       "      <td>17080.2</td>\n",
       "      <td>88752</td>\n",
       "      <td>2483.8</td>\n",
       "      <td>7019</td>\n",
       "      <td>9</td>\n",
       "      <td>23</td>\n",
       "      <td>19</td>\n",
       "      <td>5</td>\n",
       "      <td>0</td>\n",
       "    </tr>\n",
       "  </tbody>\n",
       "</table>\n",
       "</div>"
      ],
      "text/plain": [
       "                       air_temp  process_temp      rpm    torque  tool_wear  \\\n",
       "Type machine_failure                                                          \n",
       "H    0                 187041.2      193359.0   958535   24846.0      66827   \n",
       "     1                   3916.5        4035.5    19068     667.9       1650   \n",
       "L    0                1104894.1     1141787.8  5682639  145250.3     392644   \n",
       "     1                  44816.3       46226.3   222168    7509.9      21774   \n",
       "M    0                 562751.8      581556.3  2882581   74671.9     202976   \n",
       "     1                  16579.4       17080.2    88752    2483.8       7019   \n",
       "\n",
       "                      TWF  HDF  PWF  OSF  RNF  \n",
       "Type machine_failure                           \n",
       "H    0                  0    0    0    0    1  \n",
       "     1                  3    5    4    2    0  \n",
       "L    0                  0    0    0    0    9  \n",
       "     1                 14   50   38   53    1  \n",
       "M    0                  0    0    0    0    1  \n",
       "     1                  9   23   19    5    0  "
      ]
     },
     "execution_count": 21,
     "metadata": {},
     "output_type": "execute_result"
    }
   ],
   "source": [
    "train.groupby(['Type','machine_failure']).sum()"
   ]
  },
  {
   "cell_type": "code",
   "execution_count": 22,
   "metadata": {},
   "outputs": [
    {
     "data": {
      "image/png": "[encoded data removed]",
      "text/plain": [
       "<Figure size 432x288 with 1 Axes>"
      ]
     },
     "metadata": {
      "needs_background": "light"
     },
     "output_type": "display_data"
    },
    {
     "data": {
      "image/png": "[encoded data removed]",
      "text/plain": [
       "<Figure size 432x288 with 1 Axes>"
      ]
     },
     "metadata": {
      "needs_background": "light"
     },
     "output_type": "display_data"
    },
    {
     "data": {
      "image/png": "[encoded data removed]",
      "text/plain": [
       "<Figure size 432x288 with 1 Axes>"
      ]
     },
     "metadata": {
      "needs_background": "light"
     },
     "output_type": "display_data"
    },
    {
     "data": {
      "image/png": "[encoded data removed]",
      "text/plain": [
       "<Figure size 432x288 with 1 Axes>"
      ]
     },
     "metadata": {
      "needs_background": "light"
     },
     "output_type": "display_data"
    }
   ],
   "source": [
    "cols = ['process_temp', 'rpm', 'torque', 'tool_wear']\n",
    "for col in cols:\n",
    "    sns.boxplot(data= train, y= col, x = 'machine_failure')\n",
    "    plt.show()"
   ]
  },
  {
   "cell_type": "code",
   "execution_count": 23,
   "metadata": {},
   "outputs": [
    {
     "data": {
      "text/plain": [
       "Index(['Type', 'air_temp', 'process_temp', 'rpm', 'torque', 'tool_wear',\n",
       "       'machine_failure', 'TWF', 'HDF', 'PWF', 'OSF', 'RNF'],\n",
       "      dtype='object')"
      ]
     },
     "execution_count": 23,
     "metadata": {},
     "output_type": "execute_result"
    }
   ],
   "source": [
    "train.columns"
   ]
  },
  {
   "cell_type": "code",
   "execution_count": 24,
   "metadata": {},
   "outputs": [
    {
     "data": {
      "image/png": "[encoded data removed]",
      "text/plain": [
       "<Figure size 576x720 with 1 Axes>"
      ]
     },
     "metadata": {
      "needs_background": "light"
     },
     "output_type": "display_data"
    },
    {
     "data": {
      "image/png": "[encoded data removed]",
      "text/plain": [
       "<Figure size 576x720 with 1 Axes>"
      ]
     },
     "metadata": {
      "needs_background": "light"
     },
     "output_type": "display_data"
    },
    {
     "data": {
      "image/png": "[encoded data removed]",
      "text/plain": [
       "<Figure size 576x720 with 1 Axes>"
      ]
     },
     "metadata": {
      "needs_background": "light"
     },
     "output_type": "display_data"
    },
    {
     "data": {
      "image/png": "[encoded data removed]",
      "text/plain": [
       "<Figure size 576x720 with 1 Axes>"
      ]
     },
     "metadata": {
      "needs_background": "light"
     },
     "output_type": "display_data"
    },
    {
     "data": {
      "image/png": "[encoded data removed]",
      "text/plain": [
       "<Figure size 576x720 with 1 Axes>"
      ]
     },
     "metadata": {
      "needs_background": "light"
     },
     "output_type": "display_data"
    },
    {
     "data": {
      "image/png": "[encoded data removed]",
      "text/plain": [
       "<Figure size 576x720 with 1 Axes>"
      ]
     },
     "metadata": {
      "needs_background": "light"
     },
     "output_type": "display_data"
    },
    {
     "data": {
      "image/png": "[encoded data removed]",
      "text/plain": [
       "<Figure size 576x720 with 1 Axes>"
      ]
     },
     "metadata": {
      "needs_background": "light"
     },
     "output_type": "display_data"
    },
    {
     "data": {
      "image/png": "[encoded data removed]",
      "text/plain": [
       "<Figure size 576x720 with 1 Axes>"
      ]
     },
     "metadata": {
      "needs_background": "light"
     },
     "output_type": "display_data"
    },
    {
     "data": {
      "image/png": "[encoded data removed]",
      "text/plain": [
       "<Figure size 576x720 with 1 Axes>"
      ]
     },
     "metadata": {
      "needs_background": "light"
     },
     "output_type": "display_data"
    },
    {
     "data": {
      "image/png": "[encoded data removed]",
      "text/plain": [
       "<Figure size 576x720 with 1 Axes>"
      ]
     },
     "metadata": {
      "needs_background": "light"
     },
     "output_type": "display_data"
    },
    {
     "data": {
      "image/png": "[encoded data removed]",
      "text/plain": [
       "<Figure size 576x720 with 1 Axes>"
      ]
     },
     "metadata": {
      "needs_background": "light"
     },
     "output_type": "display_data"
    },
    {
     "data": {
      "image/png": "[encoded data removed]",
      "text/plain": [
       "<Figure size 576x720 with 1 Axes>"
      ]
     },
     "metadata": {
      "needs_background": "light"
     },
     "output_type": "display_data"
    },
    {
     "data": {
      "image/png": "[encoded data removed]",
      "text/plain": [
       "<Figure size 576x720 with 1 Axes>"
      ]
     },
     "metadata": {
      "needs_background": "light"
     },
     "output_type": "display_data"
    },
    {
     "data": {
      "image/png": "[encoded data removed]",
      "text/plain": [
       "<Figure size 576x720 with 1 Axes>"
      ]
     },
     "metadata": {
      "needs_background": "light"
     },
     "output_type": "display_data"
    },
    {
     "data": {
      "image/png": "[encoded data removed]",
      "text/plain": [
       "<Figure size 576x720 with 1 Axes>"
      ]
     },
     "metadata": {
      "needs_background": "light"
     },
     "output_type": "display_data"
    },
    {
     "data": {
      "image/png": "[encoded data removed]",
      "text/plain": [
       "<Figure size 576x720 with 1 Axes>"
      ]
     },
     "metadata": {
      "needs_background": "light"
     },
     "output_type": "display_data"
    },
    {
     "data": {
      "image/png": "[encoded data removed]",
      "text/plain": [
       "<Figure size 576x720 with 1 Axes>"
      ]
     },
     "metadata": {
      "needs_background": "light"
     },
     "output_type": "display_data"
    },
    {
     "data": {
      "image/png": "[encoded data removed]",
      "text/plain": [
       "<Figure size 576x720 with 1 Axes>"
      ]
     },
     "metadata": {
      "needs_background": "light"
     },
     "output_type": "display_data"
    },
    {
     "data": {
      "image/png": "[encoded data removed]",
      "text/plain": [
       "<Figure size 576x720 with 1 Axes>"
      ]
     },
     "metadata": {
      "needs_background": "light"
     },
     "output_type": "display_data"
    },
    {
     "data": {
      "image/png": "[encoded data removed]",
      "text/plain": [
       "<Figure size 576x720 with 1 Axes>"
      ]
     },
     "metadata": {
      "needs_background": "light"
     },
     "output_type": "display_data"
    },
    {
     "data": {
      "image/png": "[encoded data removed]",
      "text/plain": [
       "<Figure size 576x720 with 1 Axes>"
      ]
     },
     "metadata": {
      "needs_background": "light"
     },
     "output_type": "display_data"
    },
    {
     "data": {
      "image/png": "[encoded data removed]",
      "text/plain": [
       "<Figure size 576x720 with 1 Axes>"
      ]
     },
     "metadata": {
      "needs_background": "light"
     },
     "output_type": "display_data"
    },
    {
     "data": {
      "image/png": "[encoded data removed]",
      "text/plain": [
       "<Figure size 576x720 with 1 Axes>"
      ]
     },
     "metadata": {
      "needs_background": "light"
     },
     "output_type": "display_data"
    },
    {
     "data": {
      "image/png": "[encoded data removed]",
      "text/plain": [
       "<Figure size 576x720 with 1 Axes>"
      ]
     },
     "metadata": {
      "needs_background": "light"
     },
     "output_type": "display_data"
    },
    {
     "data": {
      "image/png": "[encoded data removed]",
      "text/plain": [
       "<Figure size 576x720 with 1 Axes>"
      ]
     },
     "metadata": {
      "needs_background": "light"
     },
     "output_type": "display_data"
    }
   ],
   "source": [
    "cols = ['process_temp', 'rpm', 'torque', 'tool_wear', 'Type']\n",
    "fails = ['TWF', 'HDF', 'PWF', 'OSF', 'RNF']\n",
    "m=2\n",
    "for col in cols:\n",
    "    for fail in fails:\n",
    "        plt.figure(figsize=(8,10))\n",
    "        plt.subplot(3,1, m)\n",
    "        sns.boxplot(data= train, y= col, x = fail)\n",
    "        plt.show()"
   ]
  },
  {
   "cell_type": "code",
   "execution_count": 28,
   "metadata": {},
   "outputs": [
    {
     "data": {
      "text/plain": [
       "<AxesSubplot:>"
      ]
     },
     "execution_count": 28,
     "metadata": {},
     "output_type": "execute_result"
    },
    {
     "data": {
      "image/png": "[encoded data removed]",
      "text/plain": [
       "<Figure size 1440x1440 with 2 Axes>"
      ]
     },
     "metadata": {
      "needs_background": "light"
     },
     "output_type": "display_data"
    }
   ],
   "source": [
    "# making a correlation table using spearman becuase data is not normally distributed\n",
    "correlation_table = train.corr()\n",
    "\n",
    "# Declaring a size for the heatmap and making heatmap to see the correlations between all variables in the dataset\n",
    "plt.figure(figsize= (20,20))\n",
    "sns.heatmap(correlation_table, cmap='Blues', annot = True, mask = np.triu(correlation_table))"
   ]
  },
  {
   "cell_type": "code",
   "execution_count": 22,
   "metadata": {},
   "outputs": [],
   "source": [
    "train['rpm_trq_ratio'] = train.rpm / train.torque"
   ]
  },
  {
   "cell_type": "code",
   "execution_count": 26,
   "metadata": {},
   "outputs": [
    {
     "data": {
      "text/plain": [
       "Text(0.5, 1.0, 'RPM speed bins against failure average')"
      ]
     },
     "execution_count": 26,
     "metadata": {},
     "output_type": "execute_result"
    },
    {
     "data": {
      "image/png": "[encoded data removed]",
      "text/plain": [
       "<Figure size 432x288 with 1 Axes>"
      ]
     },
     "metadata": {
      "needs_background": "light"
     },
     "output_type": "display_data"
    }
   ],
   "source": [
    "# Plotting out internet service type against churn with overal churn mean as the black line\n",
    "sns.boxplot('rpm_trq_ratio', 'machine_failure', data=train)\n",
    "plt.axhline(train.machine_failure.mean(), ls = '--', color = 'black')\n",
    "plt.xlabel('Service Type')\n",
    "plt.ylabel('macahine failure')\n",
    "plt.title('RPM speed bins against failure average')"
   ]
  },
  {
   "cell_type": "markdown",
   "metadata": {},
   "source": [
    "How does rpm affect machine failure rates?"
   ]
  },
  {
   "cell_type": "code",
   "execution_count": 25,
   "metadata": {},
   "outputs": [],
   "source": [
    "# create a categorical feature\n",
    "train['rpm_bin'] = pd.qcut(train.rpm, 3, labels=['slow', 'medium', 'fast'])\n",
    "# Plotting out internet service type against churn with overal churn mean as the black line\n",
    "sns.barplot('rpm', 'machine_failure', data=train, alpha=.5)\n",
    "plt.axhline(train.machine_failure.mean(), ls = '--', color = 'black')\n",
    "plt.xlabel('Service Type')\n",
    "plt.ylabel('Churn Rate')\n",
    "plt.title('RPM speed bins against failure average')"
   ]
  },
  {
   "cell_type": "code",
   "execution_count": 27,
   "metadata": {},
   "outputs": [
    {
     "name": "stdout",
     "output_type": "stream",
     "text": [
      "We reject the null and the variable is statistically significant\n"
     ]
    }
   ],
   "source": [
    "slow = train[train['rpm_bin'] == 'slow'].machine_failure\n",
    "jog = train[train['rpm_bin'] == 'medium'].machine_failure\n",
    "fast = train[train['rpm_bin'] == 'fast'].machine_failure\n",
    "# Set alpha\n",
    "alpha = 0.05\n",
    "# Comparing mean of 3 independent samples\n",
    "t, p = stats.f_oneway(slow, jog, fast)\n",
    "if p < alpha:\n",
    "    print('We reject the null and the variable is statistically significant')\n",
    "else:\n",
    "    print('We fail to reject the null and it is not statistically significant')"
   ]
  },
  {
   "cell_type": "code",
   "execution_count": 28,
   "metadata": {},
   "outputs": [
    {
     "data": {
      "text/plain": [
       "Text(0.5, 1.0, 'Torque bins against failure average')"
      ]
     },
     "execution_count": 28,
     "metadata": {},
     "output_type": "execute_result"
    },
    {
     "data": {
      "image/png": "[encoded data removed]",
      "text/plain": [
       "<Figure size 432x288 with 1 Axes>"
      ]
     },
     "metadata": {
      "needs_background": "light"
     },
     "output_type": "display_data"
    }
   ],
   "source": [
    "# create a categorical feature\n",
    "train['torque_bin'] = pd.qcut(train.air_temp, 3, labels=['low', 'medium', 'high'])\n",
    "\n",
    "# Plotting out internet service type against churn with overal churn mean as the black line\n",
    "sns.barplot('torque_bin', 'machine_failure', data=train, alpha=.5)\n",
    "plt.axhline(train.machine_failure.mean(), ls = '--', color = 'black')\n",
    "plt.xlabel('Torque bin')\n",
    "plt.ylabel('Machine Failure')\n",
    "plt.title('Torque bins against failure average')"
   ]
  },
  {
   "cell_type": "code",
   "execution_count": 29,
   "metadata": {},
   "outputs": [
    {
     "name": "stdout",
     "output_type": "stream",
     "text": [
      "We reject the null and the variable is statistically significant\n"
     ]
    }
   ],
   "source": [
    "low = train[train['torque_bin'] == 'low'].machine_failure\n",
    "medium = train[train['torque_bin'] == 'medium'].machine_failure\n",
    "high = train[train['torque_bin'] == 'high'].machine_failure\n",
    "# Set alpha\n",
    "alpha = 0.05\n",
    "# Comparing mean of 3 independent samples\n",
    "t, p = stats.f_oneway(low, medium, high)\n",
    "if p < alpha:\n",
    "    print('We reject the null and the variable is statistically significant')\n",
    "else:\n",
    "    print('We fail to reject the null and it is not statistically significant')"
   ]
  },
  {
   "cell_type": "code",
   "execution_count": 30,
   "metadata": {},
   "outputs": [
    {
     "data": {
      "text/plain": [
       "Text(0.5, 1.0, 'Process temp bins against failure average')"
      ]
     },
     "execution_count": 30,
     "metadata": {},
     "output_type": "execute_result"
    },
    {
     "data": {
      "image/png": "[encoded data removed]",
      "text/plain": [
       "<Figure size 432x288 with 1 Axes>"
      ]
     },
     "metadata": {
      "needs_background": "light"
     },
     "output_type": "display_data"
    }
   ],
   "source": [
    "# create a categorical feature\n",
    "train['process_temp_bin'] = pd.qcut(train.process_temp, 3, labels=['cool', 'mild', 'hot'])\n",
    "\n",
    "# Plotting out internet service type against churn with overal churn mean as the black line\n",
    "sns.barplot('process_temp_bin', 'machine_failure', data=train, alpha=.5)\n",
    "plt.axhline(train.machine_failure.mean(), ls = '--', color = 'black')\n",
    "plt.xlabel('Process temp bin')\n",
    "plt.ylabel('Machine failure avg')\n",
    "plt.title('Process temp bins against failure average')"
   ]
  },
  {
   "cell_type": "code",
   "execution_count": 31,
   "metadata": {},
   "outputs": [
    {
     "name": "stdout",
     "output_type": "stream",
     "text": [
      "We reject the null and the variable is statistically significant\n"
     ]
    }
   ],
   "source": [
    "cold = train[train['process_temp_bin'] == 'cool'].machine_failure\n",
    "warm = train[train['process_temp_bin'] == 'mild'].machine_failure\n",
    "hotter = train[train['process_temp_bin'] == 'hot'].machine_failure\n",
    "# Set alpha\n",
    "alpha = 0.05\n",
    "# Comparing mean of 3 independent samples\n",
    "t, p = stats.f_oneway(cold, warm, hotter)\n",
    "if p < alpha:\n",
    "    print('We reject the null and the variable is statistically significant')\n",
    "else:\n",
    "    print('We fail to reject the null and it is not statistically significant')"
   ]
  },
  {
   "cell_type": "code",
   "execution_count": 32,
   "metadata": {},
   "outputs": [
    {
     "data": {
      "text/plain": [
       "Text(0.5, 1.0, 'Tool wear bins against failure average')"
      ]
     },
     "execution_count": 32,
     "metadata": {},
     "output_type": "execute_result"
    },
    {
     "data": {
      "image/png": "[encoded data removed]",
      "text/plain": [
       "<Figure size 432x288 with 1 Axes>"
      ]
     },
     "metadata": {
      "needs_background": "light"
     },
     "output_type": "display_data"
    }
   ],
   "source": [
    "# create a categorical feature\n",
    "train['tool_wear_bin'] = pd.qcut(train.tool_wear, 3, labels=['new', 'med', 'old'])\n",
    "\n",
    "# Plotting out internet service type against churn with overal churn mean as the black line\n",
    "sns.barplot('tool_wear_bin', 'machine_failure', data=train, alpha=.5)\n",
    "plt.axhline(train.machine_failure.mean(), ls = '--', color = 'black')\n",
    "plt.xlabel('Tool Wear bin')\n",
    "plt.ylabel('Machine failure avg')\n",
    "plt.title('Tool wear bins against failure average')"
   ]
  },
  {
   "cell_type": "code",
   "execution_count": 33,
   "metadata": {},
   "outputs": [
    {
     "name": "stdout",
     "output_type": "stream",
     "text": [
      "We reject the null and the variable is statistically significant\n"
     ]
    }
   ],
   "source": [
    "new = train[train['tool_wear_bin'] == 'new'].machine_failure\n",
    "med = train[train['tool_wear_bin'] == 'med'].machine_failure\n",
    "old = train[train['tool_wear_bin'] == 'old'].machine_failure\n",
    "# Set alpha\n",
    "alpha = 0.05\n",
    "# Comparing mean of 3 independent samples\n",
    "t, p = stats.f_oneway(new, med, old)\n",
    "if p < alpha:\n",
    "    print('We reject the null and the variable is statistically significant')\n",
    "else:\n",
    "    print('We fail to reject the null and it is not statistically significant')"
   ]
  },
  {
   "cell_type": "code",
   "execution_count": 34,
   "metadata": {},
   "outputs": [
    {
     "ename": "ValueError",
     "evalue": "Could not interpret input 'air_temp_bin'",
     "output_type": "error",
     "traceback": [
      "\u001b[0;31m---------------------------------------------------------------------------\u001b[0m",
      "\u001b[0;31mValueError\u001b[0m                                Traceback (most recent call last)",
      "\u001b[1;32m/Users/jarad/codeup_data_science/individual project/explore.ipynb Cell 35\u001b[0m in \u001b[0;36m<cell line: 2>\u001b[0;34m()\u001b[0m\n\u001b[1;32m      <a href='vscode-notebook-cell:/Users/jarad/codeup_data_science/individual%20project/explore.ipynb#X46sZmlsZQ%3D%3D?line=0'>1</a>\u001b[0m \u001b[39m# Plotting out internet service type against churn with overal churn mean as the black line\u001b[39;00m\n\u001b[0;32m----> <a href='vscode-notebook-cell:/Users/jarad/codeup_data_science/individual%20project/explore.ipynb#X46sZmlsZQ%3D%3D?line=1'>2</a>\u001b[0m sns\u001b[39m.\u001b[39;49mbarplot(\u001b[39m'\u001b[39;49m\u001b[39mair_temp_bin\u001b[39;49m\u001b[39m'\u001b[39;49m, \u001b[39m'\u001b[39;49m\u001b[39mmachine_failure\u001b[39;49m\u001b[39m'\u001b[39;49m, data\u001b[39m=\u001b[39;49mtrain, alpha\u001b[39m=\u001b[39;49m\u001b[39m.5\u001b[39;49m)\n\u001b[1;32m      <a href='vscode-notebook-cell:/Users/jarad/codeup_data_science/individual%20project/explore.ipynb#X46sZmlsZQ%3D%3D?line=2'>3</a>\u001b[0m plt\u001b[39m.\u001b[39maxhline(train\u001b[39m.\u001b[39mmachine_failure\u001b[39m.\u001b[39mmean(), ls \u001b[39m=\u001b[39m \u001b[39m'\u001b[39m\u001b[39m--\u001b[39m\u001b[39m'\u001b[39m, color \u001b[39m=\u001b[39m \u001b[39m'\u001b[39m\u001b[39mblack\u001b[39m\u001b[39m'\u001b[39m)\n\u001b[1;32m      <a href='vscode-notebook-cell:/Users/jarad/codeup_data_science/individual%20project/explore.ipynb#X46sZmlsZQ%3D%3D?line=3'>4</a>\u001b[0m plt\u001b[39m.\u001b[39mxlabel(\u001b[39m'\u001b[39m\u001b[39mAir temp bin\u001b[39m\u001b[39m'\u001b[39m)\n",
      "File \u001b[0;32m/opt/homebrew/anaconda3/lib/python3.9/site-packages/seaborn/_decorators.py:46\u001b[0m, in \u001b[0;36m_deprecate_positional_args.<locals>.inner_f\u001b[0;34m(*args, **kwargs)\u001b[0m\n\u001b[1;32m     36\u001b[0m     warnings\u001b[39m.\u001b[39mwarn(\n\u001b[1;32m     37\u001b[0m         \u001b[39m\"\u001b[39m\u001b[39mPass the following variable\u001b[39m\u001b[39m{}\u001b[39;00m\u001b[39m as \u001b[39m\u001b[39m{}\u001b[39;00m\u001b[39mkeyword arg\u001b[39m\u001b[39m{}\u001b[39;00m\u001b[39m: \u001b[39m\u001b[39m{}\u001b[39;00m\u001b[39m. \u001b[39m\u001b[39m\"\u001b[39m\n\u001b[1;32m     38\u001b[0m         \u001b[39m\"\u001b[39m\u001b[39mFrom version 0.12, the only valid positional argument \u001b[39m\u001b[39m\"\u001b[39m\n\u001b[0;32m   (...)\u001b[0m\n\u001b[1;32m     43\u001b[0m         \u001b[39mFutureWarning\u001b[39;00m\n\u001b[1;32m     44\u001b[0m     )\n\u001b[1;32m     45\u001b[0m kwargs\u001b[39m.\u001b[39mupdate({k: arg \u001b[39mfor\u001b[39;00m k, arg \u001b[39min\u001b[39;00m \u001b[39mzip\u001b[39m(sig\u001b[39m.\u001b[39mparameters, args)})\n\u001b[0;32m---> 46\u001b[0m \u001b[39mreturn\u001b[39;00m f(\u001b[39m*\u001b[39;49m\u001b[39m*\u001b[39;49mkwargs)\n",
      "File \u001b[0;32m/opt/homebrew/anaconda3/lib/python3.9/site-packages/seaborn/categorical.py:3182\u001b[0m, in \u001b[0;36mbarplot\u001b[0;34m(x, y, hue, data, order, hue_order, estimator, ci, n_boot, units, seed, orient, color, palette, saturation, errcolor, errwidth, capsize, dodge, ax, **kwargs)\u001b[0m\n\u001b[1;32m   3169\u001b[0m \u001b[39m@_deprecate_positional_args\u001b[39m\n\u001b[1;32m   3170\u001b[0m \u001b[39mdef\u001b[39;00m \u001b[39mbarplot\u001b[39m(\n\u001b[1;32m   3171\u001b[0m     \u001b[39m*\u001b[39m,\n\u001b[0;32m   (...)\u001b[0m\n\u001b[1;32m   3179\u001b[0m     \u001b[39m*\u001b[39m\u001b[39m*\u001b[39mkwargs,\n\u001b[1;32m   3180\u001b[0m ):\n\u001b[0;32m-> 3182\u001b[0m     plotter \u001b[39m=\u001b[39m _BarPlotter(x, y, hue, data, order, hue_order,\n\u001b[1;32m   3183\u001b[0m                           estimator, ci, n_boot, units, seed,\n\u001b[1;32m   3184\u001b[0m                           orient, color, palette, saturation,\n\u001b[1;32m   3185\u001b[0m                           errcolor, errwidth, capsize, dodge)\n\u001b[1;32m   3187\u001b[0m     \u001b[39mif\u001b[39;00m ax \u001b[39mis\u001b[39;00m \u001b[39mNone\u001b[39;00m:\n\u001b[1;32m   3188\u001b[0m         ax \u001b[39m=\u001b[39m plt\u001b[39m.\u001b[39mgca()\n",
      "File \u001b[0;32m/opt/homebrew/anaconda3/lib/python3.9/site-packages/seaborn/categorical.py:1584\u001b[0m, in \u001b[0;36m_BarPlotter.__init__\u001b[0;34m(self, x, y, hue, data, order, hue_order, estimator, ci, n_boot, units, seed, orient, color, palette, saturation, errcolor, errwidth, capsize, dodge)\u001b[0m\n\u001b[1;32m   1579\u001b[0m \u001b[39mdef\u001b[39;00m \u001b[39m__init__\u001b[39m(\u001b[39mself\u001b[39m, x, y, hue, data, order, hue_order,\n\u001b[1;32m   1580\u001b[0m              estimator, ci, n_boot, units, seed,\n\u001b[1;32m   1581\u001b[0m              orient, color, palette, saturation, errcolor,\n\u001b[1;32m   1582\u001b[0m              errwidth, capsize, dodge):\n\u001b[1;32m   1583\u001b[0m     \u001b[39m\"\"\"Initialize the plotter.\"\"\"\u001b[39;00m\n\u001b[0;32m-> 1584\u001b[0m     \u001b[39mself\u001b[39;49m\u001b[39m.\u001b[39;49mestablish_variables(x, y, hue, data, orient,\n\u001b[1;32m   1585\u001b[0m                              order, hue_order, units)\n\u001b[1;32m   1586\u001b[0m     \u001b[39mself\u001b[39m\u001b[39m.\u001b[39mestablish_colors(color, palette, saturation)\n\u001b[1;32m   1587\u001b[0m     \u001b[39mself\u001b[39m\u001b[39m.\u001b[39mestimate_statistic(estimator, ci, n_boot, seed)\n",
      "File \u001b[0;32m/opt/homebrew/anaconda3/lib/python3.9/site-packages/seaborn/categorical.py:153\u001b[0m, in \u001b[0;36m_CategoricalPlotter.establish_variables\u001b[0;34m(self, x, y, hue, data, orient, order, hue_order, units)\u001b[0m\n\u001b[1;32m    151\u001b[0m     \u001b[39mif\u001b[39;00m \u001b[39misinstance\u001b[39m(var, \u001b[39mstr\u001b[39m):\n\u001b[1;32m    152\u001b[0m         err \u001b[39m=\u001b[39m \u001b[39m\"\u001b[39m\u001b[39mCould not interpret input \u001b[39m\u001b[39m'\u001b[39m\u001b[39m{}\u001b[39;00m\u001b[39m'\u001b[39m\u001b[39m\"\u001b[39m\u001b[39m.\u001b[39mformat(var)\n\u001b[0;32m--> 153\u001b[0m         \u001b[39mraise\u001b[39;00m \u001b[39mValueError\u001b[39;00m(err)\n\u001b[1;32m    155\u001b[0m \u001b[39m# Figure out the plotting orientation\u001b[39;00m\n\u001b[1;32m    156\u001b[0m orient \u001b[39m=\u001b[39m infer_orient(\n\u001b[1;32m    157\u001b[0m     x, y, orient, require_numeric\u001b[39m=\u001b[39m\u001b[39mself\u001b[39m\u001b[39m.\u001b[39mrequire_numeric\n\u001b[1;32m    158\u001b[0m )\n",
      "\u001b[0;31mValueError\u001b[0m: Could not interpret input 'air_temp_bin'"
     ]
    }
   ],
   "source": [
    "# # Plotting out internet service type against churn with overal churn mean as the black line\n",
    "# sns.barplot('air_temp_bin', 'machine_failure', data=train, alpha=.5)\n",
    "# plt.axhline(train.machine_failure.mean(), ls = '--', color = 'black')\n",
    "# plt.xlabel('Air temp bin')\n",
    "# plt.ylabel('Machine Failure')\n",
    "# plt.title('Air temp bins against failure average')"
   ]
  },
  {
   "cell_type": "code",
   "execution_count": null,
   "metadata": {},
   "outputs": [],
   "source": []
  },
  {
   "cell_type": "code",
   "execution_count": null,
   "metadata": {},
   "outputs": [
    {
     "data": {
      "text/plain": [
       "Text(0.5, 1.0, 'Air temp bins against failure average')"
      ]
     },
     "execution_count": 17,
     "metadata": {},
     "output_type": "execute_result"
    },
    {
     "data": {
      "image/png": "[encoded data removed]",
      "text/plain": [
       "<Figure size 432x288 with 1 Axes>"
      ]
     },
     "metadata": {
      "needs_background": "light"
     },
     "output_type": "display_data"
    }
   ],
   "source": [
    "# Plotting out internet service type against churn with overal churn mean as the black line\n",
    "sns.barplot('Type', 'machine_failure', data=train, alpha=.5)\n",
    "plt.axhline(train.machine_failure.mean(), ls = '--', color = 'black')\n",
    "plt.xlabel('Air temp bin')\n",
    "plt.ylabel('Machine Failure')\n",
    "plt.title('Air temp bins against failure average')"
   ]
  },
  {
   "cell_type": "code",
   "execution_count": 19,
   "metadata": {},
   "outputs": [
    {
     "ename": "KeyError",
     "evalue": "'air_temp_bin'",
     "output_type": "error",
     "traceback": [
      "\u001b[0;31m---------------------------------------------------------------------------\u001b[0m",
      "\u001b[0;31mKeyError\u001b[0m                                  Traceback (most recent call last)",
      "File \u001b[0;32m/opt/homebrew/anaconda3/lib/python3.9/site-packages/pandas/core/indexes/base.py:3621\u001b[0m, in \u001b[0;36mIndex.get_loc\u001b[0;34m(self, key, method, tolerance)\u001b[0m\n\u001b[1;32m   3620\u001b[0m \u001b[39mtry\u001b[39;00m:\n\u001b[0;32m-> 3621\u001b[0m     \u001b[39mreturn\u001b[39;00m \u001b[39mself\u001b[39;49m\u001b[39m.\u001b[39;49m_engine\u001b[39m.\u001b[39;49mget_loc(casted_key)\n\u001b[1;32m   3622\u001b[0m \u001b[39mexcept\u001b[39;00m \u001b[39mKeyError\u001b[39;00m \u001b[39mas\u001b[39;00m err:\n",
      "File \u001b[0;32m/opt/homebrew/anaconda3/lib/python3.9/site-packages/pandas/_libs/index.pyx:136\u001b[0m, in \u001b[0;36mpandas._libs.index.IndexEngine.get_loc\u001b[0;34m()\u001b[0m\n",
      "File \u001b[0;32m/opt/homebrew/anaconda3/lib/python3.9/site-packages/pandas/_libs/index.pyx:163\u001b[0m, in \u001b[0;36mpandas._libs.index.IndexEngine.get_loc\u001b[0;34m()\u001b[0m\n",
      "File \u001b[0;32mpandas/_libs/hashtable_class_helper.pxi:5198\u001b[0m, in \u001b[0;36mpandas._libs.hashtable.PyObjectHashTable.get_item\u001b[0;34m()\u001b[0m\n",
      "File \u001b[0;32mpandas/_libs/hashtable_class_helper.pxi:5206\u001b[0m, in \u001b[0;36mpandas._libs.hashtable.PyObjectHashTable.get_item\u001b[0;34m()\u001b[0m\n",
      "\u001b[0;31mKeyError\u001b[0m: 'air_temp_bin'",
      "\nThe above exception was the direct cause of the following exception:\n",
      "\u001b[0;31mKeyError\u001b[0m                                  Traceback (most recent call last)",
      "\u001b[1;32m/Users/jarad/codeup_data_science/individual project/explore.ipynb Cell 41\u001b[0m in \u001b[0;36m<cell line: 1>\u001b[0;34m()\u001b[0m\n\u001b[0;32m----> <a href='vscode-notebook-cell:/Users/jarad/codeup_data_science/individual%20project/explore.ipynb#X52sZmlsZQ%3D%3D?line=0'>1</a>\u001b[0m cool \u001b[39m=\u001b[39m train[train[\u001b[39m'\u001b[39;49m\u001b[39mair_temp_bin\u001b[39;49m\u001b[39m'\u001b[39;49m] \u001b[39m==\u001b[39m \u001b[39m'\u001b[39m\u001b[39mcool\u001b[39m\u001b[39m'\u001b[39m]\u001b[39m.\u001b[39mmachine_failure\n\u001b[1;32m      <a href='vscode-notebook-cell:/Users/jarad/codeup_data_science/individual%20project/explore.ipynb#X52sZmlsZQ%3D%3D?line=1'>2</a>\u001b[0m mild \u001b[39m=\u001b[39m train[train[\u001b[39m'\u001b[39m\u001b[39mair_temp_bin\u001b[39m\u001b[39m'\u001b[39m] \u001b[39m==\u001b[39m \u001b[39m'\u001b[39m\u001b[39mmild\u001b[39m\u001b[39m'\u001b[39m]\u001b[39m.\u001b[39mmachine_failure\n\u001b[1;32m      <a href='vscode-notebook-cell:/Users/jarad/codeup_data_science/individual%20project/explore.ipynb#X52sZmlsZQ%3D%3D?line=2'>3</a>\u001b[0m hot \u001b[39m=\u001b[39m train[train[\u001b[39m'\u001b[39m\u001b[39mair_temp_bin\u001b[39m\u001b[39m'\u001b[39m] \u001b[39m==\u001b[39m \u001b[39m'\u001b[39m\u001b[39mhot\u001b[39m\u001b[39m'\u001b[39m]\u001b[39m.\u001b[39mmachine_failure\n",
      "File \u001b[0;32m/opt/homebrew/anaconda3/lib/python3.9/site-packages/pandas/core/frame.py:3505\u001b[0m, in \u001b[0;36mDataFrame.__getitem__\u001b[0;34m(self, key)\u001b[0m\n\u001b[1;32m   3503\u001b[0m \u001b[39mif\u001b[39;00m \u001b[39mself\u001b[39m\u001b[39m.\u001b[39mcolumns\u001b[39m.\u001b[39mnlevels \u001b[39m>\u001b[39m \u001b[39m1\u001b[39m:\n\u001b[1;32m   3504\u001b[0m     \u001b[39mreturn\u001b[39;00m \u001b[39mself\u001b[39m\u001b[39m.\u001b[39m_getitem_multilevel(key)\n\u001b[0;32m-> 3505\u001b[0m indexer \u001b[39m=\u001b[39m \u001b[39mself\u001b[39;49m\u001b[39m.\u001b[39;49mcolumns\u001b[39m.\u001b[39;49mget_loc(key)\n\u001b[1;32m   3506\u001b[0m \u001b[39mif\u001b[39;00m is_integer(indexer):\n\u001b[1;32m   3507\u001b[0m     indexer \u001b[39m=\u001b[39m [indexer]\n",
      "File \u001b[0;32m/opt/homebrew/anaconda3/lib/python3.9/site-packages/pandas/core/indexes/base.py:3623\u001b[0m, in \u001b[0;36mIndex.get_loc\u001b[0;34m(self, key, method, tolerance)\u001b[0m\n\u001b[1;32m   3621\u001b[0m     \u001b[39mreturn\u001b[39;00m \u001b[39mself\u001b[39m\u001b[39m.\u001b[39m_engine\u001b[39m.\u001b[39mget_loc(casted_key)\n\u001b[1;32m   3622\u001b[0m \u001b[39mexcept\u001b[39;00m \u001b[39mKeyError\u001b[39;00m \u001b[39mas\u001b[39;00m err:\n\u001b[0;32m-> 3623\u001b[0m     \u001b[39mraise\u001b[39;00m \u001b[39mKeyError\u001b[39;00m(key) \u001b[39mfrom\u001b[39;00m \u001b[39merr\u001b[39;00m\n\u001b[1;32m   3624\u001b[0m \u001b[39mexcept\u001b[39;00m \u001b[39mTypeError\u001b[39;00m:\n\u001b[1;32m   3625\u001b[0m     \u001b[39m# If we have a listlike key, _check_indexing_error will raise\u001b[39;00m\n\u001b[1;32m   3626\u001b[0m     \u001b[39m#  InvalidIndexError. Otherwise we fall through and re-raise\u001b[39;00m\n\u001b[1;32m   3627\u001b[0m     \u001b[39m#  the TypeError.\u001b[39;00m\n\u001b[1;32m   3628\u001b[0m     \u001b[39mself\u001b[39m\u001b[39m.\u001b[39m_check_indexing_error(key)\n",
      "\u001b[0;31mKeyError\u001b[0m: 'air_temp_bin'"
     ]
    }
   ],
   "source": [
    "cool = train[train['air_temp_bin'] == 'cool'].machine_failure\n",
    "mild = train[train['air_temp_bin'] == 'mild'].machine_failure\n",
    "hot = train[train['air_temp_bin'] == 'hot'].machine_failure\n",
    "# Set alpha\n",
    "alpha = 0.05\n",
    "# Comparing mean of 3 independent samples\n",
    "t, p = stats.f_oneway(cool, mild, hot)\n",
    "if p < alpha:\n",
    "    print('We reject the null and the variable is statistically significant')\n",
    "else:\n",
    "    print('We fail to reject the null and it is not statistically significant')"
   ]
  },
  {
   "cell_type": "code",
   "execution_count": null,
   "metadata": {},
   "outputs": [
    {
     "data": {
      "text/plain": [
       "Text(0.5, 1.0, 'Air temp bins against failure average')"
      ]
     },
     "execution_count": 18,
     "metadata": {},
     "output_type": "execute_result"
    },
    {
     "data": {
      "image/png": "[encoded data removed]",
      "text/plain": [
       "<Figure size 432x288 with 1 Axes>"
      ]
     },
     "metadata": {
      "needs_background": "light"
     },
     "output_type": "display_data"
    }
   ],
   "source": [
    "# create a categorical feature\n",
    "train['air_bin'] = pd.qcut(train.air_temp, 4)\n",
    "\n",
    "# Plotting out internet service type against churn with overal churn mean as the black line\n",
    "sns.barplot('air_bin', 'machine_failure', data=train, alpha=.5)\n",
    "plt.axhline(train.machine_failure.mean(), ls = '--', color = 'black')\n",
    "plt.xlabel('Air temp bin')\n",
    "plt.ylabel('Machine Failure')\n",
    "plt.title('Air temp bins against failure average')"
   ]
  },
  {
   "cell_type": "code",
   "execution_count": 33,
   "metadata": {},
   "outputs": [
    {
     "data": {
      "text/plain": [
       "Index(['air_temp', 'process_temp', 'rpm', 'torque', 'tool_wear',\n",
       "       'machine_failure', 'TWF', 'HDF', 'PWF', 'OSF', 'RNF', 'H', 'L', 'M',\n",
       "       'rpm_trq_ratio'],\n",
       "      dtype='object')"
      ]
     },
     "execution_count": 33,
     "metadata": {},
     "output_type": "execute_result"
    }
   ],
   "source": [
    "train.columns"
   ]
  },
  {
   "cell_type": "code",
   "execution_count": 29,
   "metadata": {},
   "outputs": [],
   "source": [
    "def MinMax_scaler(x_train, x_validate, x_test):\n",
    " \n",
    "    scaler = RobustScaler().fit(x_train)\n",
    "\n",
    "    scaler.fit(x_train)\n",
    "\n",
    "        #Columns to scale\n",
    "    cols = ['air_temp', 'process_temp', 'rpm' 'torque', 'tool_wear', 'H', 'L', 'M']\n",
    "    # Fit numerical features to scaler\n",
    "    scaler.fit(train[cols])\n",
    "    # Set the features to transformed value\n",
    "    train[cols] = scaler.transform(train[cols])\n",
    "    validate[cols] = scaler.transform(validate[cols])\n",
    "    test[cols] = scaler.transform(test[cols])\n",
    "    \n",
    "    x_train_scaled = pd.DataFrame(scaler.transform(x_train), index=x_train.index, columns=x_train.columns)\n",
    "    x_validate_scaled = pd.DataFrame(scaler.transform(x_validate), index=x_validate.index, columns=x_validate.columns)\n",
    "    x_test_scaled = pd.DataFrame(scaler.transform(x_test), index=x_test.index, columns = x_test.columns)\n",
    "    \n",
    "    return x_train_scaled, x_validate_scaled, x_test_scaled"
   ]
  },
  {
   "cell_type": "code",
   "execution_count": 37,
   "metadata": {},
   "outputs": [
    {
     "data": {
      "text/plain": [
       "Index(['Type', 'air_temp', 'process_temp', 'rpm', 'torque', 'tool_wear',\n",
       "       'machine_failure', 'TWF', 'HDF', 'PWF', 'OSF', 'RNF', 'rpm_bin',\n",
       "       'torque_bin', 'process_temp_bin', 'tool_wear_bin'],\n",
       "      dtype='object')"
      ]
     },
     "execution_count": 37,
     "metadata": {},
     "output_type": "execute_result"
    }
   ],
   "source": [
    "x_train_scaled.columns"
   ]
  },
  {
   "cell_type": "code",
   "execution_count": 20,
   "metadata": {},
   "outputs": [],
   "source": [
    "# Splitting the x and y variables for the model for all three subsets\n",
    "x_train = train.drop(columns = ['machine_failure', 'TWF', 'HDF', 'PWF', 'OSF', 'RNF'])\n",
    "x_validate = validate.drop(columns = ['machine_failure', 'TWF', 'HDF', 'PWF', 'OSF', 'RNF'])\n",
    "x_test = test.drop(columns = ['machine_failure', 'TWF', 'HDF', 'PWF', 'OSF', 'RNF'])\n",
    "\n",
    "y_train = train['machine_failure']\n",
    "y_validate = validate['machine_failure']\n",
    "y_test = test['machine_failure']"
   ]
  },
  {
   "cell_type": "code",
   "execution_count": 21,
   "metadata": {},
   "outputs": [],
   "source": [
    "\n",
    "sm = SMOTE(random_state=42)\n",
    "X_res, y_res = sm.fit_resample(x_train, y_train)\n"
   ]
  },
  {
   "cell_type": "code",
   "execution_count": 22,
   "metadata": {},
   "outputs": [
    {
     "data": {
      "text/plain": [
       "(6400, 8)"
      ]
     },
     "execution_count": 22,
     "metadata": {},
     "output_type": "execute_result"
    }
   ],
   "source": [
    "x_train.shape"
   ]
  },
  {
   "cell_type": "code",
   "execution_count": 32,
   "metadata": {},
   "outputs": [
    {
     "ename": "KeyError",
     "evalue": "\"['rpmtorque'] not in index\"",
     "output_type": "error",
     "traceback": [
      "\u001b[0;31m---------------------------------------------------------------------------\u001b[0m",
      "\u001b[0;31mKeyError\u001b[0m                                  Traceback (most recent call last)",
      "\u001b[1;32m/Users/jarad/codeup_data_science/individual project/explore.ipynb Cell 51\u001b[0m in \u001b[0;36m<cell line: 2>\u001b[0;34m()\u001b[0m\n\u001b[1;32m      <a href='vscode-notebook-cell:/Users/jarad/codeup_data_science/individual%20project/explore.ipynb#X62sZmlsZQ%3D%3D?line=0'>1</a>\u001b[0m \u001b[39m#importing my scaler function in order to use the min max scale \u001b[39;00m\n\u001b[0;32m----> <a href='vscode-notebook-cell:/Users/jarad/codeup_data_science/individual%20project/explore.ipynb#X62sZmlsZQ%3D%3D?line=1'>2</a>\u001b[0m x_train_scaled, x_validate_scaled, x_test_scaled \u001b[39m=\u001b[39m MinMax_scaler(x_train, x_validate, x_test)\n",
      "\u001b[1;32m/Users/jarad/codeup_data_science/individual project/explore.ipynb Cell 51\u001b[0m in \u001b[0;36mMinMax_scaler\u001b[0;34m(x_train, x_validate, x_test)\u001b[0m\n\u001b[1;32m      <a href='vscode-notebook-cell:/Users/jarad/codeup_data_science/individual%20project/explore.ipynb#X62sZmlsZQ%3D%3D?line=7'>8</a>\u001b[0m cols \u001b[39m=\u001b[39m [\u001b[39m'\u001b[39m\u001b[39mair_temp\u001b[39m\u001b[39m'\u001b[39m, \u001b[39m'\u001b[39m\u001b[39mprocess_temp\u001b[39m\u001b[39m'\u001b[39m, \u001b[39m'\u001b[39m\u001b[39mrpm\u001b[39m\u001b[39m'\u001b[39m \u001b[39m'\u001b[39m\u001b[39mtorque\u001b[39m\u001b[39m'\u001b[39m, \u001b[39m'\u001b[39m\u001b[39mtool_wear\u001b[39m\u001b[39m'\u001b[39m, \u001b[39m'\u001b[39m\u001b[39mH\u001b[39m\u001b[39m'\u001b[39m, \u001b[39m'\u001b[39m\u001b[39mL\u001b[39m\u001b[39m'\u001b[39m, \u001b[39m'\u001b[39m\u001b[39mM\u001b[39m\u001b[39m'\u001b[39m]\n\u001b[1;32m      <a href='vscode-notebook-cell:/Users/jarad/codeup_data_science/individual%20project/explore.ipynb#X62sZmlsZQ%3D%3D?line=8'>9</a>\u001b[0m \u001b[39m# Fit numerical features to scaler\u001b[39;00m\n\u001b[0;32m---> <a href='vscode-notebook-cell:/Users/jarad/codeup_data_science/individual%20project/explore.ipynb#X62sZmlsZQ%3D%3D?line=9'>10</a>\u001b[0m scaler\u001b[39m.\u001b[39mfit(train[cols])\n\u001b[1;32m     <a href='vscode-notebook-cell:/Users/jarad/codeup_data_science/individual%20project/explore.ipynb#X62sZmlsZQ%3D%3D?line=10'>11</a>\u001b[0m \u001b[39m# Set the features to transformed value\u001b[39;00m\n\u001b[1;32m     <a href='vscode-notebook-cell:/Users/jarad/codeup_data_science/individual%20project/explore.ipynb#X62sZmlsZQ%3D%3D?line=11'>12</a>\u001b[0m train[cols] \u001b[39m=\u001b[39m scaler\u001b[39m.\u001b[39mtransform(train[cols])\n",
      "File \u001b[0;32m/opt/homebrew/anaconda3/lib/python3.9/site-packages/pandas/core/frame.py:3511\u001b[0m, in \u001b[0;36mDataFrame.__getitem__\u001b[0;34m(self, key)\u001b[0m\n\u001b[1;32m   3509\u001b[0m     \u001b[39mif\u001b[39;00m is_iterator(key):\n\u001b[1;32m   3510\u001b[0m         key \u001b[39m=\u001b[39m \u001b[39mlist\u001b[39m(key)\n\u001b[0;32m-> 3511\u001b[0m     indexer \u001b[39m=\u001b[39m \u001b[39mself\u001b[39;49m\u001b[39m.\u001b[39;49mcolumns\u001b[39m.\u001b[39;49m_get_indexer_strict(key, \u001b[39m\"\u001b[39;49m\u001b[39mcolumns\u001b[39;49m\u001b[39m\"\u001b[39;49m)[\u001b[39m1\u001b[39m]\n\u001b[1;32m   3513\u001b[0m \u001b[39m# take() does not accept boolean indexers\u001b[39;00m\n\u001b[1;32m   3514\u001b[0m \u001b[39mif\u001b[39;00m \u001b[39mgetattr\u001b[39m(indexer, \u001b[39m\"\u001b[39m\u001b[39mdtype\u001b[39m\u001b[39m\"\u001b[39m, \u001b[39mNone\u001b[39;00m) \u001b[39m==\u001b[39m \u001b[39mbool\u001b[39m:\n",
      "File \u001b[0;32m/opt/homebrew/anaconda3/lib/python3.9/site-packages/pandas/core/indexes/base.py:5782\u001b[0m, in \u001b[0;36mIndex._get_indexer_strict\u001b[0;34m(self, key, axis_name)\u001b[0m\n\u001b[1;32m   5779\u001b[0m \u001b[39melse\u001b[39;00m:\n\u001b[1;32m   5780\u001b[0m     keyarr, indexer, new_indexer \u001b[39m=\u001b[39m \u001b[39mself\u001b[39m\u001b[39m.\u001b[39m_reindex_non_unique(keyarr)\n\u001b[0;32m-> 5782\u001b[0m \u001b[39mself\u001b[39;49m\u001b[39m.\u001b[39;49m_raise_if_missing(keyarr, indexer, axis_name)\n\u001b[1;32m   5784\u001b[0m keyarr \u001b[39m=\u001b[39m \u001b[39mself\u001b[39m\u001b[39m.\u001b[39mtake(indexer)\n\u001b[1;32m   5785\u001b[0m \u001b[39mif\u001b[39;00m \u001b[39misinstance\u001b[39m(key, Index):\n\u001b[1;32m   5786\u001b[0m     \u001b[39m# GH 42790 - Preserve name from an Index\u001b[39;00m\n",
      "File \u001b[0;32m/opt/homebrew/anaconda3/lib/python3.9/site-packages/pandas/core/indexes/base.py:5845\u001b[0m, in \u001b[0;36mIndex._raise_if_missing\u001b[0;34m(self, key, indexer, axis_name)\u001b[0m\n\u001b[1;32m   5842\u001b[0m     \u001b[39mraise\u001b[39;00m \u001b[39mKeyError\u001b[39;00m(\u001b[39mf\u001b[39m\u001b[39m\"\u001b[39m\u001b[39mNone of [\u001b[39m\u001b[39m{\u001b[39;00mkey\u001b[39m}\u001b[39;00m\u001b[39m] are in the [\u001b[39m\u001b[39m{\u001b[39;00maxis_name\u001b[39m}\u001b[39;00m\u001b[39m]\u001b[39m\u001b[39m\"\u001b[39m)\n\u001b[1;32m   5844\u001b[0m not_found \u001b[39m=\u001b[39m \u001b[39mlist\u001b[39m(ensure_index(key)[missing_mask\u001b[39m.\u001b[39mnonzero()[\u001b[39m0\u001b[39m]]\u001b[39m.\u001b[39munique())\n\u001b[0;32m-> 5845\u001b[0m \u001b[39mraise\u001b[39;00m \u001b[39mKeyError\u001b[39;00m(\u001b[39mf\u001b[39m\u001b[39m\"\u001b[39m\u001b[39m{\u001b[39;00mnot_found\u001b[39m}\u001b[39;00m\u001b[39m not in index\u001b[39m\u001b[39m\"\u001b[39m)\n",
      "\u001b[0;31mKeyError\u001b[0m: \"['rpmtorque'] not in index\""
     ]
    }
   ],
   "source": [
    "#importing my scaler function in order to use the min max scale \n",
    "x_train_scaled, x_validate_scaled, x_test_scaled = MinMax_scaler(x_train, x_validate, x_test)"
   ]
  },
  {
   "cell_type": "code",
   "execution_count": 65,
   "metadata": {},
   "outputs": [
    {
     "data": {
      "text/html": [
       "<div>\n",
       "<style scoped>\n",
       "    .dataframe tbody tr th:only-of-type {\n",
       "        vertical-align: middle;\n",
       "    }\n",
       "\n",
       "    .dataframe tbody tr th {\n",
       "        vertical-align: top;\n",
       "    }\n",
       "\n",
       "    .dataframe thead th {\n",
       "        text-align: right;\n",
       "    }\n",
       "</style>\n",
       "<table border=\"1\" class=\"dataframe\">\n",
       "  <thead>\n",
       "    <tr style=\"text-align: right;\">\n",
       "      <th></th>\n",
       "      <th>air_temp</th>\n",
       "      <th>process_temp</th>\n",
       "      <th>rpm</th>\n",
       "      <th>torque</th>\n",
       "      <th>tool_wear</th>\n",
       "      <th>H</th>\n",
       "      <th>L</th>\n",
       "      <th>M</th>\n",
       "    </tr>\n",
       "  </thead>\n",
       "  <tbody>\n",
       "    <tr>\n",
       "      <th>8630</th>\n",
       "      <td>-0.84375</td>\n",
       "      <td>-0.739130</td>\n",
       "      <td>-0.696335</td>\n",
       "      <td>1.281481</td>\n",
       "      <td>-0.513761</td>\n",
       "      <td>0.0</td>\n",
       "      <td>0.0</td>\n",
       "      <td>0.0</td>\n",
       "    </tr>\n",
       "    <tr>\n",
       "      <th>1595</th>\n",
       "      <td>-0.65625</td>\n",
       "      <td>-0.826087</td>\n",
       "      <td>-0.727749</td>\n",
       "      <td>0.948148</td>\n",
       "      <td>1.009174</td>\n",
       "      <td>0.0</td>\n",
       "      <td>0.0</td>\n",
       "      <td>0.0</td>\n",
       "    </tr>\n",
       "    <tr>\n",
       "      <th>4464</th>\n",
       "      <td>0.84375</td>\n",
       "      <td>0.217391</td>\n",
       "      <td>0.874346</td>\n",
       "      <td>-0.711111</td>\n",
       "      <td>0.853211</td>\n",
       "      <td>0.0</td>\n",
       "      <td>0.0</td>\n",
       "      <td>0.0</td>\n",
       "    </tr>\n",
       "    <tr>\n",
       "      <th>8736</th>\n",
       "      <td>-0.87500</td>\n",
       "      <td>-0.608696</td>\n",
       "      <td>-0.068063</td>\n",
       "      <td>0.007407</td>\n",
       "      <td>0.036697</td>\n",
       "      <td>0.0</td>\n",
       "      <td>0.0</td>\n",
       "      <td>0.0</td>\n",
       "    </tr>\n",
       "    <tr>\n",
       "      <th>1411</th>\n",
       "      <td>-0.37500</td>\n",
       "      <td>0.000000</td>\n",
       "      <td>2.303665</td>\n",
       "      <td>-1.237037</td>\n",
       "      <td>0.770642</td>\n",
       "      <td>0.0</td>\n",
       "      <td>0.0</td>\n",
       "      <td>0.0</td>\n",
       "    </tr>\n",
       "    <tr>\n",
       "      <th>...</th>\n",
       "      <td>...</td>\n",
       "      <td>...</td>\n",
       "      <td>...</td>\n",
       "      <td>...</td>\n",
       "      <td>...</td>\n",
       "      <td>...</td>\n",
       "      <td>...</td>\n",
       "      <td>...</td>\n",
       "    </tr>\n",
       "    <tr>\n",
       "      <th>3955</th>\n",
       "      <td>0.68750</td>\n",
       "      <td>0.608696</td>\n",
       "      <td>-0.293194</td>\n",
       "      <td>0.703704</td>\n",
       "      <td>-0.733945</td>\n",
       "      <td>0.0</td>\n",
       "      <td>0.0</td>\n",
       "      <td>0.0</td>\n",
       "    </tr>\n",
       "    <tr>\n",
       "      <th>8205</th>\n",
       "      <td>-0.21875</td>\n",
       "      <td>0.347826</td>\n",
       "      <td>-0.303665</td>\n",
       "      <td>0.533333</td>\n",
       "      <td>-0.880734</td>\n",
       "      <td>0.0</td>\n",
       "      <td>-1.0</td>\n",
       "      <td>1.0</td>\n",
       "    </tr>\n",
       "    <tr>\n",
       "      <th>7121</th>\n",
       "      <td>0.25000</td>\n",
       "      <td>0.130435</td>\n",
       "      <td>-0.675393</td>\n",
       "      <td>0.340741</td>\n",
       "      <td>-0.192661</td>\n",
       "      <td>0.0</td>\n",
       "      <td>-1.0</td>\n",
       "      <td>1.0</td>\n",
       "    </tr>\n",
       "    <tr>\n",
       "      <th>3551</th>\n",
       "      <td>0.56250</td>\n",
       "      <td>0.347826</td>\n",
       "      <td>1.544503</td>\n",
       "      <td>-1.177778</td>\n",
       "      <td>-0.495413</td>\n",
       "      <td>0.0</td>\n",
       "      <td>0.0</td>\n",
       "      <td>0.0</td>\n",
       "    </tr>\n",
       "    <tr>\n",
       "      <th>5459</th>\n",
       "      <td>0.93750</td>\n",
       "      <td>1.043478</td>\n",
       "      <td>-0.267016</td>\n",
       "      <td>0.666667</td>\n",
       "      <td>0.293578</td>\n",
       "      <td>0.0</td>\n",
       "      <td>0.0</td>\n",
       "      <td>0.0</td>\n",
       "    </tr>\n",
       "  </tbody>\n",
       "</table>\n",
       "<p>6400 rows × 8 columns</p>\n",
       "</div>"
      ],
      "text/plain": [
       "      air_temp  process_temp       rpm    torque  tool_wear    H    L    M\n",
       "8630  -0.84375     -0.739130 -0.696335  1.281481  -0.513761  0.0  0.0  0.0\n",
       "1595  -0.65625     -0.826087 -0.727749  0.948148   1.009174  0.0  0.0  0.0\n",
       "4464   0.84375      0.217391  0.874346 -0.711111   0.853211  0.0  0.0  0.0\n",
       "8736  -0.87500     -0.608696 -0.068063  0.007407   0.036697  0.0  0.0  0.0\n",
       "1411  -0.37500      0.000000  2.303665 -1.237037   0.770642  0.0  0.0  0.0\n",
       "...        ...           ...       ...       ...        ...  ...  ...  ...\n",
       "3955   0.68750      0.608696 -0.293194  0.703704  -0.733945  0.0  0.0  0.0\n",
       "8205  -0.21875      0.347826 -0.303665  0.533333  -0.880734  0.0 -1.0  1.0\n",
       "7121   0.25000      0.130435 -0.675393  0.340741  -0.192661  0.0 -1.0  1.0\n",
       "3551   0.56250      0.347826  1.544503 -1.177778  -0.495413  0.0  0.0  0.0\n",
       "5459   0.93750      1.043478 -0.267016  0.666667   0.293578  0.0  0.0  0.0\n",
       "\n",
       "[6400 rows x 8 columns]"
      ]
     },
     "execution_count": 65,
     "metadata": {},
     "output_type": "execute_result"
    }
   ],
   "source": [
    "x_train_scaled"
   ]
  },
  {
   "cell_type": "code",
   "execution_count": 23,
   "metadata": {},
   "outputs": [
    {
     "data": {
      "text/plain": [
       "Index(['air_temp', 'process_temp', 'torque', 'H', 'L', 'M'], dtype='object')"
      ]
     },
     "execution_count": 23,
     "metadata": {},
     "output_type": "execute_result"
    }
   ],
   "source": [
    "def select_rfe(x, y, k):\n",
    "    model = LinearRegression()\n",
    "    rfe = RFE(model, n_features_to_select= k)\n",
    "    rfe.fit(x, y)\n",
    "    return x.columns[rfe.get_support()]\n",
    "\n",
    "select_rfe(x_train, y_train, 6)"
   ]
  },
  {
   "cell_type": "code",
   "execution_count": 24,
   "metadata": {},
   "outputs": [],
   "source": [
    "predictions = pd.DataFrame({\n",
    "    'actual': validate.machine_failure\n",
    "}) "
   ]
  },
  {
   "cell_type": "code",
   "execution_count": 68,
   "metadata": {},
   "outputs": [],
   "source": [
    "# Setting up and fitting the data for linear regression using my sqrt data for normalization\n",
    "liner = LinearRegression()\n",
    "\n",
    "liner.fit(x_train_scaled, y_train)\n",
    "\n",
    "predictions['simple_lm'] = liner.predict(x_validate_scaled)"
   ]
  },
  {
   "cell_type": "code",
   "execution_count": 72,
   "metadata": {},
   "outputs": [],
   "source": [
    "# Setting up and fitting the lars to my normalized data\n",
    "\n",
    "lars = LassoLars(alpha=2.0)\n",
    "\n",
    "lars.fit(x_train_scaled, y_train)\n",
    "\n",
    "\n",
    "predictions['Lasso_Lars'] = lars.predict(x_validate_scaled)"
   ]
  },
  {
   "cell_type": "code",
   "execution_count": 69,
   "metadata": {},
   "outputs": [],
   "source": [
    "# Setting up and fitting the TweedieRegressor to the non-normalized data\n",
    "tweedie_reg = TweedieRegressor(power=0, alpha=1)\n",
    "\n",
    "tweedie_reg.fit(x_train_scaled, y_train)\n",
    "\n",
    "\n",
    "predictions['tweedie'] = tweedie_reg.predict(x_validate_scaled)"
   ]
  },
  {
   "cell_type": "code",
   "execution_count": 70,
   "metadata": {},
   "outputs": [
    {
     "data": {
      "text/html": [
       "<div>\n",
       "<style scoped>\n",
       "    .dataframe tbody tr th:only-of-type {\n",
       "        vertical-align: middle;\n",
       "    }\n",
       "\n",
       "    .dataframe tbody tr th {\n",
       "        vertical-align: top;\n",
       "    }\n",
       "\n",
       "    .dataframe thead th {\n",
       "        text-align: right;\n",
       "    }\n",
       "</style>\n",
       "<table border=\"1\" class=\"dataframe\">\n",
       "  <thead>\n",
       "    <tr style=\"text-align: right;\">\n",
       "      <th></th>\n",
       "      <th>actual</th>\n",
       "      <th>simple_lm</th>\n",
       "      <th>tweedie</th>\n",
       "      <th>baseline</th>\n",
       "    </tr>\n",
       "  </thead>\n",
       "  <tbody>\n",
       "    <tr>\n",
       "      <th>2229</th>\n",
       "      <td>0</td>\n",
       "      <td>0.039486</td>\n",
       "      <td>0.028653</td>\n",
       "      <td>0.033906</td>\n",
       "    </tr>\n",
       "    <tr>\n",
       "      <th>4885</th>\n",
       "      <td>0</td>\n",
       "      <td>0.000093</td>\n",
       "      <td>0.032294</td>\n",
       "      <td>0.033906</td>\n",
       "    </tr>\n",
       "    <tr>\n",
       "      <th>8444</th>\n",
       "      <td>0</td>\n",
       "      <td>-0.052642</td>\n",
       "      <td>0.008638</td>\n",
       "      <td>0.033906</td>\n",
       "    </tr>\n",
       "    <tr>\n",
       "      <th>7595</th>\n",
       "      <td>0</td>\n",
       "      <td>-0.042388</td>\n",
       "      <td>0.030515</td>\n",
       "      <td>0.033906</td>\n",
       "    </tr>\n",
       "    <tr>\n",
       "      <th>9959</th>\n",
       "      <td>0</td>\n",
       "      <td>0.073340</td>\n",
       "      <td>0.039629</td>\n",
       "      <td>0.033906</td>\n",
       "    </tr>\n",
       "  </tbody>\n",
       "</table>\n",
       "</div>"
      ],
      "text/plain": [
       "      actual  simple_lm   tweedie  baseline\n",
       "2229       0   0.039486  0.028653  0.033906\n",
       "4885       0   0.000093  0.032294  0.033906\n",
       "8444       0  -0.052642  0.008638  0.033906\n",
       "7595       0  -0.042388  0.030515  0.033906\n",
       "9959       0   0.073340  0.039629  0.033906"
      ]
     },
     "execution_count": 70,
     "metadata": {},
     "output_type": "execute_result"
    }
   ],
   "source": [
    "predictions['baseline'] = train.machine_failure.mean()\n",
    "predictions.head()"
   ]
  },
  {
   "cell_type": "code",
   "execution_count": 73,
   "metadata": {},
   "outputs": [
    {
     "data": {
      "text/plain": [
       "actual        0.000000\n",
       "simple_lm     0.168987\n",
       "tweedie       0.177378\n",
       "baseline      0.180585\n",
       "Lasso_Lars    0.180585\n",
       "dtype: float64"
      ]
     },
     "execution_count": 73,
     "metadata": {},
     "output_type": "execute_result"
    }
   ],
   "source": [
    "def calculate_rmse2(y_predicted):\n",
    "    return mean_squared_error(predictions.actual, y_predicted, squared=False)\n",
    "\n",
    "predictions.apply(calculate_rmse2).sort_values()"
   ]
  },
  {
   "cell_type": "code",
   "execution_count": 30,
   "metadata": {},
   "outputs": [
    {
     "data": {
      "text/plain": [
       "0.831"
      ]
     },
     "execution_count": 30,
     "metadata": {},
     "output_type": "execute_result"
    }
   ],
   "source": [
    "1 - 0.169"
   ]
  },
  {
   "cell_type": "code",
   "execution_count": 29,
   "metadata": {},
   "outputs": [
    {
     "data": {
      "text/plain": [
       "0.96609375"
      ]
     },
     "execution_count": 29,
     "metadata": {},
     "output_type": "execute_result"
    }
   ],
   "source": [
    "baseline = 1 - train.machine_failure.mean()\n",
    "baseline"
   ]
  },
  {
   "cell_type": "code",
   "execution_count": 25,
   "metadata": {},
   "outputs": [
    {
     "name": "stdout",
     "output_type": "stream",
     "text": [
      "Accuracy of random forest classifier on training set: 97.33%\n"
     ]
    }
   ],
   "source": [
    "# Making the model for Random Forest using the max depth found in exploration loop and setting other hyperparameters\n",
    "rft = RandomForestClassifier(bootstrap=True, class_weight=None, criterion='gini', min_samples_leaf=10, n_estimators=100, max_depth=5,max_features='sqrt', random_state=123)\n",
    "\n",
    "# Fitting the model to the train data section\n",
    "rft.fit(x_train, y_train)\n",
    "\n",
    "\n",
    "# Using the score function to print the model's preformance on the train set\n",
    "print('Accuracy of random forest classifier on training set: {:.2%}'\n",
    "     .format(rft.score(x_train, y_train)))"
   ]
  },
  {
   "cell_type": "code",
   "execution_count": 27,
   "metadata": {},
   "outputs": [
    {
     "name": "stdout",
     "output_type": "stream",
     "text": [
      "Accuracy of random forest classifier on validate set: 97.00%\n"
     ]
    }
   ],
   "source": [
    "# Using the score function to print the model's preformance on the validate set\n",
    "print('Accuracy of random forest classifier on validate set: {:.2%}'\n",
    "     .format(rft.score(x_validate, y_validate)))"
   ]
  },
  {
   "cell_type": "code",
   "execution_count": 28,
   "metadata": {},
   "outputs": [
    {
     "ename": "NameError",
     "evalue": "name 'x_train_scaled' is not defined",
     "output_type": "error",
     "traceback": [
      "\u001b[0;31m---------------------------------------------------------------------------\u001b[0m",
      "\u001b[0;31mNameError\u001b[0m                                 Traceback (most recent call last)",
      "\u001b[1;32m/Users/jarad/codeup_data_science/individual project/explore.ipynb Cell 66\u001b[0m in \u001b[0;36m<cell line: 5>\u001b[0;34m()\u001b[0m\n\u001b[1;32m      <a href='vscode-notebook-cell:/Users/jarad/codeup_data_science/individual%20project/explore.ipynb#Y121sZmlsZQ%3D%3D?line=1'>2</a>\u001b[0m knn \u001b[39m=\u001b[39m KNeighborsClassifier(n_neighbors\u001b[39m=\u001b[39m\u001b[39m3\u001b[39m, weights\u001b[39m=\u001b[39m\u001b[39m'\u001b[39m\u001b[39muniform\u001b[39m\u001b[39m'\u001b[39m)\n\u001b[1;32m      <a href='vscode-notebook-cell:/Users/jarad/codeup_data_science/individual%20project/explore.ipynb#Y121sZmlsZQ%3D%3D?line=3'>4</a>\u001b[0m \u001b[39m# Fit object to training data\u001b[39;00m\n\u001b[0;32m----> <a href='vscode-notebook-cell:/Users/jarad/codeup_data_science/individual%20project/explore.ipynb#Y121sZmlsZQ%3D%3D?line=4'>5</a>\u001b[0m knn\u001b[39m.\u001b[39mfit(x_train_scaled, y_train)\n\u001b[1;32m      <a href='vscode-notebook-cell:/Users/jarad/codeup_data_science/individual%20project/explore.ipynb#Y121sZmlsZQ%3D%3D?line=6'>7</a>\u001b[0m \u001b[39m# Make predictions on training data\u001b[39;00m\n\u001b[1;32m      <a href='vscode-notebook-cell:/Users/jarad/codeup_data_science/individual%20project/explore.ipynb#Y121sZmlsZQ%3D%3D?line=7'>8</a>\u001b[0m y_pred \u001b[39m=\u001b[39m knn\u001b[39m.\u001b[39mpredict(x_train_scaled)\n",
      "\u001b[0;31mNameError\u001b[0m: name 'x_train_scaled' is not defined"
     ]
    }
   ],
   "source": [
    "# Create KNN Object\n",
    "knn = KNeighborsClassifier(n_neighbors=3, weights='uniform')\n",
    "\n",
    "# Fit object to training data\n",
    "knn.fit(x_train_scaled, y_train)\n",
    "\n",
    "# Make predictions on training data\n",
    "y_pred = knn.predict(x_train_scaled)\n",
    "\n",
    "# Using the score function to print the model's preformance on the training set\n",
    "print('Accuracy of KNN classifier on training set: {:.2%}'\n",
    "     .format(knn.score(x_train_scaled, y_train)))"
   ]
  },
  {
   "cell_type": "code",
   "execution_count": 77,
   "metadata": {},
   "outputs": [
    {
     "name": "stdout",
     "output_type": "stream",
     "text": [
      "Accuracy of KNN classifier on training set: 97.62%\n"
     ]
    }
   ],
   "source": [
    "# Using the score function to print the model's preformance on the training set\n",
    "print('Accuracy of KNN classifier on training set: {:.2%}'\n",
    "     .format(knn.score(x_validate_scaled, y_validate)))"
   ]
  },
  {
   "cell_type": "code",
   "execution_count": 78,
   "metadata": {},
   "outputs": [
    {
     "name": "stdout",
     "output_type": "stream",
     "text": [
      "Accuracy of random forest classifier on validate set: 97.62%\n"
     ]
    }
   ],
   "source": [
    "# Using the score function to print the model's preformance on the validate set\n",
    "print('Accuracy of random forest classifier on validate set: {:.2%}'\n",
    "     .format(knn.score(x_validate_scaled, y_validate)))"
   ]
  },
  {
   "cell_type": "code",
   "execution_count": 79,
   "metadata": {},
   "outputs": [
    {
     "name": "stdout",
     "output_type": "stream",
     "text": [
      "Model trained on selected features\n",
      "Accuracy of Logistic Regression classifier on training set: 97.06%\n"
     ]
    }
   ],
   "source": [
    "# Using my exploration file I chose the best level of c for the model to use here. \n",
    "logit1 = LogisticRegression(random_state=123, class_weight=\"auto\", C=1)\n",
    "\n",
    "# Fitting the model to the train dataset\n",
    "logit1.fit(x_train_scaled, y_train)\n",
    "\n",
    "\n",
    "# Using the score function to print the model's preformance on the train set\n",
    "print(\"Model trained on selected features\")\n",
    "print('Accuracy of Logistic Regression classifier on training set: {:.2%}'\n",
    "     .format(logit1.score(x_validate_scaled, y_validate)))"
   ]
  },
  {
   "cell_type": "code",
   "execution_count": 83,
   "metadata": {},
   "outputs": [
    {
     "data": {
      "text/plain": [
       "0.96625"
      ]
     },
     "execution_count": 83,
     "metadata": {},
     "output_type": "execute_result"
    }
   ],
   "source": [
    "from sklearn.svm import SVC\n",
    "svm_model_linear = SVC(kernel = 'linear', C = 10).fit(x_train_scaled, y_train)\n",
    "svm_predictions = svm_model_linear.predict(x_validate_scaled)\n",
    "  \n",
    "# model accuracy for X_test  \n",
    "accuracy = svm_model_linear.score(x_validate_scaled, y_validate)\n",
    "  \n",
    "# creating a confusion matrix\n",
    "cm = confusion_matrix(y_validate, svm_predictions)\n",
    "\n",
    "accuracy\n"
   ]
  },
  {
   "cell_type": "code",
   "execution_count": null,
   "metadata": {},
   "outputs": [],
   "source": []
  },
  {
   "cell_type": "code",
   "execution_count": null,
   "metadata": {},
   "outputs": [],
   "source": []
  },
  {
   "cell_type": "code",
   "execution_count": 84,
   "metadata": {},
   "outputs": [],
   "source": [
    "total_df = proj_acquire.prep_maint(df)"
   ]
  },
  {
   "cell_type": "code",
   "execution_count": 85,
   "metadata": {},
   "outputs": [
    {
     "data": {
      "text/html": [
       "<div>\n",
       "<style scoped>\n",
       "    .dataframe tbody tr th:only-of-type {\n",
       "        vertical-align: middle;\n",
       "    }\n",
       "\n",
       "    .dataframe tbody tr th {\n",
       "        vertical-align: top;\n",
       "    }\n",
       "\n",
       "    .dataframe thead th {\n",
       "        text-align: right;\n",
       "    }\n",
       "</style>\n",
       "<table border=\"1\" class=\"dataframe\">\n",
       "  <thead>\n",
       "    <tr style=\"text-align: right;\">\n",
       "      <th></th>\n",
       "      <th>air_temp</th>\n",
       "      <th>process_temp</th>\n",
       "      <th>rpm</th>\n",
       "      <th>torque</th>\n",
       "      <th>tool_wear</th>\n",
       "      <th>machine_failure</th>\n",
       "      <th>TWF</th>\n",
       "      <th>HDF</th>\n",
       "      <th>PWF</th>\n",
       "      <th>OSF</th>\n",
       "      <th>RNF</th>\n",
       "      <th>H</th>\n",
       "      <th>L</th>\n",
       "      <th>M</th>\n",
       "    </tr>\n",
       "  </thead>\n",
       "  <tbody>\n",
       "    <tr>\n",
       "      <th>0</th>\n",
       "      <td>298.1</td>\n",
       "      <td>308.6</td>\n",
       "      <td>1551</td>\n",
       "      <td>42.8</td>\n",
       "      <td>0</td>\n",
       "      <td>0</td>\n",
       "      <td>0</td>\n",
       "      <td>0</td>\n",
       "      <td>0</td>\n",
       "      <td>0</td>\n",
       "      <td>0</td>\n",
       "      <td>0</td>\n",
       "      <td>0</td>\n",
       "      <td>1</td>\n",
       "    </tr>\n",
       "    <tr>\n",
       "      <th>1</th>\n",
       "      <td>298.2</td>\n",
       "      <td>308.7</td>\n",
       "      <td>1408</td>\n",
       "      <td>46.3</td>\n",
       "      <td>3</td>\n",
       "      <td>0</td>\n",
       "      <td>0</td>\n",
       "      <td>0</td>\n",
       "      <td>0</td>\n",
       "      <td>0</td>\n",
       "      <td>0</td>\n",
       "      <td>0</td>\n",
       "      <td>1</td>\n",
       "      <td>0</td>\n",
       "    </tr>\n",
       "    <tr>\n",
       "      <th>2</th>\n",
       "      <td>298.1</td>\n",
       "      <td>308.5</td>\n",
       "      <td>1498</td>\n",
       "      <td>49.4</td>\n",
       "      <td>5</td>\n",
       "      <td>0</td>\n",
       "      <td>0</td>\n",
       "      <td>0</td>\n",
       "      <td>0</td>\n",
       "      <td>0</td>\n",
       "      <td>0</td>\n",
       "      <td>0</td>\n",
       "      <td>1</td>\n",
       "      <td>0</td>\n",
       "    </tr>\n",
       "    <tr>\n",
       "      <th>3</th>\n",
       "      <td>298.2</td>\n",
       "      <td>308.6</td>\n",
       "      <td>1433</td>\n",
       "      <td>39.5</td>\n",
       "      <td>7</td>\n",
       "      <td>0</td>\n",
       "      <td>0</td>\n",
       "      <td>0</td>\n",
       "      <td>0</td>\n",
       "      <td>0</td>\n",
       "      <td>0</td>\n",
       "      <td>0</td>\n",
       "      <td>1</td>\n",
       "      <td>0</td>\n",
       "    </tr>\n",
       "    <tr>\n",
       "      <th>4</th>\n",
       "      <td>298.2</td>\n",
       "      <td>308.7</td>\n",
       "      <td>1408</td>\n",
       "      <td>40.0</td>\n",
       "      <td>9</td>\n",
       "      <td>0</td>\n",
       "      <td>0</td>\n",
       "      <td>0</td>\n",
       "      <td>0</td>\n",
       "      <td>0</td>\n",
       "      <td>0</td>\n",
       "      <td>0</td>\n",
       "      <td>1</td>\n",
       "      <td>0</td>\n",
       "    </tr>\n",
       "  </tbody>\n",
       "</table>\n",
       "</div>"
      ],
      "text/plain": [
       "   air_temp  process_temp   rpm  torque  tool_wear  machine_failure  TWF  HDF  \\\n",
       "0     298.1         308.6  1551    42.8          0                0    0    0   \n",
       "1     298.2         308.7  1408    46.3          3                0    0    0   \n",
       "2     298.1         308.5  1498    49.4          5                0    0    0   \n",
       "3     298.2         308.6  1433    39.5          7                0    0    0   \n",
       "4     298.2         308.7  1408    40.0          9                0    0    0   \n",
       "\n",
       "   PWF  OSF  RNF  H  L  M  \n",
       "0    0    0    0  0  0  1  \n",
       "1    0    0    0  0  1  0  \n",
       "2    0    0    0  0  1  0  \n",
       "3    0    0    0  0  1  0  \n",
       "4    0    0    0  0  1  0  "
      ]
     },
     "execution_count": 85,
     "metadata": {},
     "output_type": "execute_result"
    }
   ],
   "source": [
    "total_df.shape\n",
    "\n",
    "total_df.head()"
   ]
  },
  {
   "cell_type": "code",
   "execution_count": 86,
   "metadata": {},
   "outputs": [],
   "source": [
    "train2, validate2, test2 = proj_acquire.split_maint(total_df)"
   ]
  },
  {
   "cell_type": "code",
   "execution_count": 87,
   "metadata": {},
   "outputs": [
    {
     "data": {
      "text/html": [
       "<div>\n",
       "<style scoped>\n",
       "    .dataframe tbody tr th:only-of-type {\n",
       "        vertical-align: middle;\n",
       "    }\n",
       "\n",
       "    .dataframe tbody tr th {\n",
       "        vertical-align: top;\n",
       "    }\n",
       "\n",
       "    .dataframe thead th {\n",
       "        text-align: right;\n",
       "    }\n",
       "</style>\n",
       "<table border=\"1\" class=\"dataframe\">\n",
       "  <thead>\n",
       "    <tr style=\"text-align: right;\">\n",
       "      <th></th>\n",
       "      <th>air_temp</th>\n",
       "      <th>process_temp</th>\n",
       "      <th>rpm</th>\n",
       "      <th>torque</th>\n",
       "      <th>tool_wear</th>\n",
       "      <th>machine_failure</th>\n",
       "      <th>TWF</th>\n",
       "      <th>HDF</th>\n",
       "      <th>PWF</th>\n",
       "      <th>OSF</th>\n",
       "      <th>RNF</th>\n",
       "      <th>H</th>\n",
       "      <th>L</th>\n",
       "      <th>M</th>\n",
       "    </tr>\n",
       "  </thead>\n",
       "  <tbody>\n",
       "    <tr>\n",
       "      <th>8630</th>\n",
       "      <td>297.4</td>\n",
       "      <td>308.4</td>\n",
       "      <td>1371</td>\n",
       "      <td>57.4</td>\n",
       "      <td>52</td>\n",
       "      <td>0</td>\n",
       "      <td>0</td>\n",
       "      <td>0</td>\n",
       "      <td>0</td>\n",
       "      <td>0</td>\n",
       "      <td>0</td>\n",
       "      <td>0</td>\n",
       "      <td>1</td>\n",
       "      <td>0</td>\n",
       "    </tr>\n",
       "    <tr>\n",
       "      <th>1595</th>\n",
       "      <td>298.0</td>\n",
       "      <td>308.2</td>\n",
       "      <td>1365</td>\n",
       "      <td>52.9</td>\n",
       "      <td>218</td>\n",
       "      <td>1</td>\n",
       "      <td>0</td>\n",
       "      <td>0</td>\n",
       "      <td>0</td>\n",
       "      <td>1</td>\n",
       "      <td>0</td>\n",
       "      <td>0</td>\n",
       "      <td>1</td>\n",
       "      <td>0</td>\n",
       "    </tr>\n",
       "    <tr>\n",
       "      <th>4464</th>\n",
       "      <td>302.8</td>\n",
       "      <td>310.6</td>\n",
       "      <td>1671</td>\n",
       "      <td>30.5</td>\n",
       "      <td>201</td>\n",
       "      <td>0</td>\n",
       "      <td>0</td>\n",
       "      <td>0</td>\n",
       "      <td>0</td>\n",
       "      <td>0</td>\n",
       "      <td>0</td>\n",
       "      <td>0</td>\n",
       "      <td>1</td>\n",
       "      <td>0</td>\n",
       "    </tr>\n",
       "    <tr>\n",
       "      <th>8736</th>\n",
       "      <td>297.3</td>\n",
       "      <td>308.7</td>\n",
       "      <td>1491</td>\n",
       "      <td>40.2</td>\n",
       "      <td>112</td>\n",
       "      <td>0</td>\n",
       "      <td>0</td>\n",
       "      <td>0</td>\n",
       "      <td>0</td>\n",
       "      <td>0</td>\n",
       "      <td>0</td>\n",
       "      <td>0</td>\n",
       "      <td>1</td>\n",
       "      <td>0</td>\n",
       "    </tr>\n",
       "    <tr>\n",
       "      <th>1411</th>\n",
       "      <td>298.9</td>\n",
       "      <td>310.1</td>\n",
       "      <td>1944</td>\n",
       "      <td>23.4</td>\n",
       "      <td>192</td>\n",
       "      <td>0</td>\n",
       "      <td>0</td>\n",
       "      <td>0</td>\n",
       "      <td>0</td>\n",
       "      <td>0</td>\n",
       "      <td>0</td>\n",
       "      <td>0</td>\n",
       "      <td>1</td>\n",
       "      <td>0</td>\n",
       "    </tr>\n",
       "  </tbody>\n",
       "</table>\n",
       "</div>"
      ],
      "text/plain": [
       "      air_temp  process_temp   rpm  torque  tool_wear  machine_failure  TWF  \\\n",
       "8630     297.4         308.4  1371    57.4         52                0    0   \n",
       "1595     298.0         308.2  1365    52.9        218                1    0   \n",
       "4464     302.8         310.6  1671    30.5        201                0    0   \n",
       "8736     297.3         308.7  1491    40.2        112                0    0   \n",
       "1411     298.9         310.1  1944    23.4        192                0    0   \n",
       "\n",
       "      HDF  PWF  OSF  RNF  H  L  M  \n",
       "8630    0    0    0    0  0  1  0  \n",
       "1595    0    0    1    0  0  1  0  \n",
       "4464    0    0    0    0  0  1  0  \n",
       "8736    0    0    0    0  0  1  0  \n",
       "1411    0    0    0    0  0  1  0  "
      ]
     },
     "execution_count": 87,
     "metadata": {},
     "output_type": "execute_result"
    }
   ],
   "source": [
    "train2.head()"
   ]
  },
  {
   "cell_type": "code",
   "execution_count": 88,
   "metadata": {},
   "outputs": [],
   "source": [
    "\n",
    "\n",
    "x_train2 = train2.drop(columns = ['machine_failure', 'TWF', 'HDF', 'PWF', 'OSF', 'RNF'])\n",
    "x_validate2 = validate2.drop(columns = ['machine_failure', 'TWF', 'HDF', 'PWF', 'OSF', 'RNF'])\n",
    "x_test2 = test2.drop(columns = ['machine_failure', 'TWF', 'HDF', 'PWF', 'OSF', 'RNF'])\n",
    "\n"
   ]
  },
  {
   "cell_type": "code",
   "execution_count": 89,
   "metadata": {},
   "outputs": [
    {
     "data": {
      "text/plain": [
       "Index(['air_temp', 'process_temp', 'rpm', 'torque', 'tool_wear', 'H', 'L',\n",
       "       'M'],\n",
       "      dtype='object')"
      ]
     },
     "execution_count": 89,
     "metadata": {},
     "output_type": "execute_result"
    }
   ],
   "source": [
    "x_train2.columns"
   ]
  },
  {
   "cell_type": "code",
   "execution_count": 90,
   "metadata": {},
   "outputs": [],
   "source": [
    "y_train2 = train2[['TWF', 'HDF', 'PWF', 'OSF', 'RNF']]\n",
    "y_validate2 = validate2[['TWF', 'HDF', 'PWF', 'OSF', 'RNF']]\n",
    "y_test2 = test2[['TWF', 'HDF', 'PWF', 'OSF', 'RNF']]\n",
    "\n",
    "\n",
    "# #importing my scaler function in order to use the min max scale \n",
    "# x_train_scaled2, x_validate_scaled2, x_test_scaled2 = MinMax_scaler(x_train2, x_validate2, x_test2)\n",
    "\n"
   ]
  },
  {
   "cell_type": "code",
   "execution_count": 91,
   "metadata": {},
   "outputs": [
    {
     "data": {
      "text/html": [
       "<div>\n",
       "<style scoped>\n",
       "    .dataframe tbody tr th:only-of-type {\n",
       "        vertical-align: middle;\n",
       "    }\n",
       "\n",
       "    .dataframe tbody tr th {\n",
       "        vertical-align: top;\n",
       "    }\n",
       "\n",
       "    .dataframe thead th {\n",
       "        text-align: right;\n",
       "    }\n",
       "</style>\n",
       "<table border=\"1\" class=\"dataframe\">\n",
       "  <thead>\n",
       "    <tr style=\"text-align: right;\">\n",
       "      <th></th>\n",
       "      <th>air_temp</th>\n",
       "      <th>process_temp</th>\n",
       "      <th>rpm</th>\n",
       "      <th>torque</th>\n",
       "      <th>tool_wear</th>\n",
       "      <th>H</th>\n",
       "      <th>L</th>\n",
       "      <th>M</th>\n",
       "    </tr>\n",
       "  </thead>\n",
       "  <tbody>\n",
       "    <tr>\n",
       "      <th>8630</th>\n",
       "      <td>297.4</td>\n",
       "      <td>308.4</td>\n",
       "      <td>1371</td>\n",
       "      <td>57.4</td>\n",
       "      <td>52</td>\n",
       "      <td>0</td>\n",
       "      <td>1</td>\n",
       "      <td>0</td>\n",
       "    </tr>\n",
       "    <tr>\n",
       "      <th>1595</th>\n",
       "      <td>298.0</td>\n",
       "      <td>308.2</td>\n",
       "      <td>1365</td>\n",
       "      <td>52.9</td>\n",
       "      <td>218</td>\n",
       "      <td>0</td>\n",
       "      <td>1</td>\n",
       "      <td>0</td>\n",
       "    </tr>\n",
       "    <tr>\n",
       "      <th>4464</th>\n",
       "      <td>302.8</td>\n",
       "      <td>310.6</td>\n",
       "      <td>1671</td>\n",
       "      <td>30.5</td>\n",
       "      <td>201</td>\n",
       "      <td>0</td>\n",
       "      <td>1</td>\n",
       "      <td>0</td>\n",
       "    </tr>\n",
       "    <tr>\n",
       "      <th>8736</th>\n",
       "      <td>297.3</td>\n",
       "      <td>308.7</td>\n",
       "      <td>1491</td>\n",
       "      <td>40.2</td>\n",
       "      <td>112</td>\n",
       "      <td>0</td>\n",
       "      <td>1</td>\n",
       "      <td>0</td>\n",
       "    </tr>\n",
       "    <tr>\n",
       "      <th>1411</th>\n",
       "      <td>298.9</td>\n",
       "      <td>310.1</td>\n",
       "      <td>1944</td>\n",
       "      <td>23.4</td>\n",
       "      <td>192</td>\n",
       "      <td>0</td>\n",
       "      <td>1</td>\n",
       "      <td>0</td>\n",
       "    </tr>\n",
       "  </tbody>\n",
       "</table>\n",
       "</div>"
      ],
      "text/plain": [
       "      air_temp  process_temp   rpm  torque  tool_wear  H  L  M\n",
       "8630     297.4         308.4  1371    57.4         52  0  1  0\n",
       "1595     298.0         308.2  1365    52.9        218  0  1  0\n",
       "4464     302.8         310.6  1671    30.5        201  0  1  0\n",
       "8736     297.3         308.7  1491    40.2        112  0  1  0\n",
       "1411     298.9         310.1  1944    23.4        192  0  1  0"
      ]
     },
     "execution_count": 91,
     "metadata": {},
     "output_type": "execute_result"
    }
   ],
   "source": [
    "x_train2.head()"
   ]
  },
  {
   "cell_type": "code",
   "execution_count": 51,
   "metadata": {},
   "outputs": [],
   "source": [
    "# total_df = total_df.drop(columns=['air_temp', 'process_temp', 'rpm', 'torque', 'tool_wear'])"
   ]
  },
  {
   "cell_type": "code",
   "execution_count": 54,
   "metadata": {},
   "outputs": [
    {
     "data": {
      "text/html": [
       "<div>\n",
       "<style scoped>\n",
       "    .dataframe tbody tr th:only-of-type {\n",
       "        vertical-align: middle;\n",
       "    }\n",
       "\n",
       "    .dataframe tbody tr th {\n",
       "        vertical-align: top;\n",
       "    }\n",
       "\n",
       "    .dataframe thead th {\n",
       "        text-align: right;\n",
       "    }\n",
       "</style>\n",
       "<table border=\"1\" class=\"dataframe\">\n",
       "  <thead>\n",
       "    <tr style=\"text-align: right;\">\n",
       "      <th></th>\n",
       "      <th>air_temp</th>\n",
       "      <th>process_temp</th>\n",
       "      <th>rpm</th>\n",
       "      <th>torque</th>\n",
       "      <th>tool_wear</th>\n",
       "      <th>H</th>\n",
       "      <th>L</th>\n",
       "      <th>M</th>\n",
       "    </tr>\n",
       "  </thead>\n",
       "  <tbody>\n",
       "    <tr>\n",
       "      <th>0</th>\n",
       "      <td>298.1</td>\n",
       "      <td>308.6</td>\n",
       "      <td>1551</td>\n",
       "      <td>42.8</td>\n",
       "      <td>0</td>\n",
       "      <td>0</td>\n",
       "      <td>0</td>\n",
       "      <td>1</td>\n",
       "    </tr>\n",
       "    <tr>\n",
       "      <th>1</th>\n",
       "      <td>298.2</td>\n",
       "      <td>308.7</td>\n",
       "      <td>1408</td>\n",
       "      <td>46.3</td>\n",
       "      <td>3</td>\n",
       "      <td>0</td>\n",
       "      <td>1</td>\n",
       "      <td>0</td>\n",
       "    </tr>\n",
       "    <tr>\n",
       "      <th>2</th>\n",
       "      <td>298.1</td>\n",
       "      <td>308.5</td>\n",
       "      <td>1498</td>\n",
       "      <td>49.4</td>\n",
       "      <td>5</td>\n",
       "      <td>0</td>\n",
       "      <td>1</td>\n",
       "      <td>0</td>\n",
       "    </tr>\n",
       "    <tr>\n",
       "      <th>3</th>\n",
       "      <td>298.2</td>\n",
       "      <td>308.6</td>\n",
       "      <td>1433</td>\n",
       "      <td>39.5</td>\n",
       "      <td>7</td>\n",
       "      <td>0</td>\n",
       "      <td>1</td>\n",
       "      <td>0</td>\n",
       "    </tr>\n",
       "    <tr>\n",
       "      <th>4</th>\n",
       "      <td>298.2</td>\n",
       "      <td>308.7</td>\n",
       "      <td>1408</td>\n",
       "      <td>40.0</td>\n",
       "      <td>9</td>\n",
       "      <td>0</td>\n",
       "      <td>1</td>\n",
       "      <td>0</td>\n",
       "    </tr>\n",
       "  </tbody>\n",
       "</table>\n",
       "</div>"
      ],
      "text/plain": [
       "   air_temp  process_temp   rpm  torque  tool_wear  H  L  M\n",
       "0     298.1         308.6  1551    42.8          0  0  0  1\n",
       "1     298.2         308.7  1408    46.3          3  0  1  0\n",
       "2     298.1         308.5  1498    49.4          5  0  1  0\n",
       "3     298.2         308.6  1433    39.5          7  0  1  0\n",
       "4     298.2         308.7  1408    40.0          9  0  1  0"
      ]
     },
     "execution_count": 54,
     "metadata": {},
     "output_type": "execute_result"
    }
   ],
   "source": [
    "# # Seperating the data to use only the features used by my best model without dropping irrelevent columns\n",
    "predict_maint = total_df[['air_temp', 'process_temp', 'rpm', 'torque', 'tool_wear', 'H', 'L', 'M']]\n",
    "\n",
    "\n",
    "predict_maint.head()\n"
   ]
  },
  {
   "cell_type": "code",
   "execution_count": 58,
   "metadata": {},
   "outputs": [
    {
     "data": {
      "text/plain": [
       "Index(['Type', 'machine_failure', 'TWF', 'HDF', 'PWF', 'OSF', 'RNF'], dtype='object')"
      ]
     },
     "execution_count": 58,
     "metadata": {},
     "output_type": "execute_result"
    }
   ],
   "source": [
    "total_df.columns"
   ]
  },
  {
   "cell_type": "code",
   "execution_count": 59,
   "metadata": {},
   "outputs": [],
   "source": [
    "\n",
    "# #Doing the same as above except for just the prediction if a customer will churn where churn = 1 and no churn = 0\n",
    "total_df['prediction'] = knn.predict(predict_maint)"
   ]
  },
  {
   "cell_type": "code",
   "execution_count": 60,
   "metadata": {},
   "outputs": [
    {
     "data": {
      "text/plain": [
       "0    9839\n",
       "1     161\n",
       "Name: prediction, dtype: int64"
      ]
     },
     "execution_count": 60,
     "metadata": {},
     "output_type": "execute_result"
    }
   ],
   "source": [
    "total_df.prediction.value_counts()"
   ]
  },
  {
   "cell_type": "code",
   "execution_count": null,
   "metadata": {},
   "outputs": [],
   "source": []
  }
 ],
 "metadata": {
  "kernelspec": {
   "display_name": "Python 3.9.12 ('base')",
   "language": "python",
   "name": "python3"
  },
  "language_info": {
   "codemirror_mode": {
    "name": "ipython",
    "version": 3
   },
   "file_extension": ".py",
   "mimetype": "text/x-python",
   "name": "python",
   "nbconvert_exporter": "python",
   "pygments_lexer": "ipython3",
   "version": "3.9.12"
  },
  "orig_nbformat": 4,
  "vscode": {
   "interpreter": {
    "hash": "38cca0c38332a56087b24af0bc80247f4fced29cb4f7f437d91dc159adec9c4e"
   }
  }
 },
 "nbformat": 4,
 "nbformat_minor": 2
}
